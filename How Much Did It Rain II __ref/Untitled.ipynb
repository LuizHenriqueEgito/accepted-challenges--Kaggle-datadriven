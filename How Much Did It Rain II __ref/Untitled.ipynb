{
 "cells": [
  {
   "cell_type": "code",
   "execution_count": 24,
   "id": "65da1b93",
   "metadata": {},
   "outputs": [],
   "source": [
    "import pandas as pd\n",
    "import numpy as np\n",
    "from pathlib import Path\n",
    "import matplotlib.pyplot as plt\n",
    "from sklearn.impute import SimpleImputer\n",
    "from sklearn.linear_model import LinearRegression\n",
    "from sklearn.ensemble import VotingRegressor\n",
    "from sklearn.tree import DecisionTreeRegressor\n",
    "from random import choice\n",
    "from sklearn.model_selection import train_test_split\n",
    "from sklearn.impute import SimpleImputer\n",
    "from sklearn.pipeline import Pipeline\n",
    "from sklearn.ensemble import GradientBoostingRegressor, RandomForestRegressor\n",
    "from sklearn.compose import ColumnTransformer, TransformedTargetRegressor\n",
    "from sklearn.preprocessing import StandardScaler\n",
    "from sklearn.metrics import mean_absolute_error, mean_squared_error\n",
    "from sklearn.linear_model import Ridge\n",
    "from sklearn.svm import SVR\n",
    "from sklearn.neural_network import MLPRegressor\n",
    "from sklearn.preprocessing import add_dummy_feature"
   ]
  },
  {
   "cell_type": "code",
   "execution_count": 2,
   "id": "05a65f35",
   "metadata": {},
   "outputs": [],
   "source": [
    "train_file = Path('../data/ItRain/train_parquet.csv')\n",
    "test_file = Path('../data/ItRain/test_parquet.csv')"
   ]
  },
  {
   "cell_type": "code",
   "execution_count": 3,
   "id": "24f35773",
   "metadata": {},
   "outputs": [],
   "source": [
    "df_train = pd.read_parquet(train_file) \n",
    "df_test = pd.read_parquet(test_file)"
   ]
  },
  {
   "cell_type": "code",
   "execution_count": 4,
   "id": "026c81dc",
   "metadata": {},
   "outputs": [],
   "source": [
    "y_vec = df_train.Expected\n",
    "y_vec = np.array(y_vec)"
   ]
  },
  {
   "cell_type": "code",
   "execution_count": 5,
   "id": "80729276",
   "metadata": {},
   "outputs": [
    {
     "data": {
      "image/png": "[encoded data removed]",
      "text/plain": [
       "<Figure size 432x288 with 1 Axes>"
      ]
     },
     "metadata": {
      "needs_background": "light"
     },
     "output_type": "display_data"
    }
   ],
   "source": [
    "# plot:\n",
    "fig, ax = plt.subplots()\n",
    "\n",
    "ax.hist(np.log(y_vec), linewidth=0.5, edgecolor=\"white\")\n",
    "\n",
    "plt.show()"
   ]
  },
  {
   "cell_type": "code",
   "execution_count": 6,
   "id": "2b17e2ad",
   "metadata": {},
   "outputs": [],
   "source": [
    "X = df_train.drop('Expected', axis=1)\n",
    "y = df_train.Expected"
   ]
  },
  {
   "cell_type": "code",
   "execution_count": 7,
   "id": "657c4bf7",
   "metadata": {},
   "outputs": [],
   "source": [
    "X_train, X_val, y_train, y_val = train_test_split(X, y, test_size=0.4, shuffle=True)"
   ]
  },
  {
   "cell_type": "code",
   "execution_count": 8,
   "id": "97985201",
   "metadata": {},
   "outputs": [],
   "source": [
    "columns = X_train.columns"
   ]
  },
  {
   "cell_type": "code",
   "execution_count": 9,
   "id": "15e128a7",
   "metadata": {},
   "outputs": [],
   "source": [
    "# neste problema faremos um pipe seguido de um transformertarget usando log\n",
    "pipe_X = Pipeline(\n",
    "[\n",
    "    ('prep_data', ColumnTransformer([\n",
    "        ('num', Pipeline([\n",
    "            ('impute', SimpleImputer(missing_values=np.nan, strategy='mean')),\n",
    "            ('std_num', StandardScaler())\n",
    "        ]), columns),\n",
    "    ])),\n",
    "    ('model', GradientBoostingRegressor()),\n",
    "    \n",
    "])"
   ]
  },
  {
   "cell_type": "code",
   "execution_count": 10,
   "id": "6f7c22fb",
   "metadata": {},
   "outputs": [
    {
     "data": {
      "text/html": [
       "<style>#sk-container-id-1 {color: black;background-color: white;}#sk-container-id-1 pre{padding: 0;}#sk-container-id-1 div.sk-toggleable {background-color: white;}#sk-container-id-1 label.sk-toggleable__label {cursor: pointer;display: block;width: 100%;margin-bottom: 0;padding: 0.3em;box-sizing: border-box;text-align: center;}#sk-container-id-1 label.sk-toggleable__label-arrow:before {content: \"▸\";float: left;margin-right: 0.25em;color: #696969;}#sk-container-id-1 label.sk-toggleable__label-arrow:hover:before {color: black;}#sk-container-id-1 div.sk-estimator:hover label.sk-toggleable__label-arrow:before {color: black;}#sk-container-id-1 div.sk-toggleable__content {max-height: 0;max-width: 0;overflow: hidden;text-align: left;background-color: #f0f8ff;}#sk-container-id-1 div.sk-toggleable__content pre {margin: 0.2em;color: black;border-radius: 0.25em;background-color: #f0f8ff;}#sk-container-id-1 input.sk-toggleable__control:checked~div.sk-toggleable__content {max-height: 200px;max-width: 100%;overflow: auto;}#sk-container-id-1 input.sk-toggleable__control:checked~label.sk-toggleable__label-arrow:before {content: \"▾\";}#sk-container-id-1 div.sk-estimator input.sk-toggleable__control:checked~label.sk-toggleable__label {background-color: #d4ebff;}#sk-container-id-1 div.sk-label input.sk-toggleable__control:checked~label.sk-toggleable__label {background-color: #d4ebff;}#sk-container-id-1 input.sk-hidden--visually {border: 0;clip: rect(1px 1px 1px 1px);clip: rect(1px, 1px, 1px, 1px);height: 1px;margin: -1px;overflow: hidden;padding: 0;position: absolute;width: 1px;}#sk-container-id-1 div.sk-estimator {font-family: monospace;background-color: #f0f8ff;border: 1px dotted black;border-radius: 0.25em;box-sizing: border-box;margin-bottom: 0.5em;}#sk-container-id-1 div.sk-estimator:hover {background-color: #d4ebff;}#sk-container-id-1 div.sk-parallel-item::after {content: \"\";width: 100%;border-bottom: 1px solid gray;flex-grow: 1;}#sk-container-id-1 div.sk-label:hover label.sk-toggleable__label {background-color: #d4ebff;}#sk-container-id-1 div.sk-serial::before {content: \"\";position: absolute;border-left: 1px solid gray;box-sizing: border-box;top: 0;bottom: 0;left: 50%;z-index: 0;}#sk-container-id-1 div.sk-serial {display: flex;flex-direction: column;align-items: center;background-color: white;padding-right: 0.2em;padding-left: 0.2em;position: relative;}#sk-container-id-1 div.sk-item {position: relative;z-index: 1;}#sk-container-id-1 div.sk-parallel {display: flex;align-items: stretch;justify-content: center;background-color: white;position: relative;}#sk-container-id-1 div.sk-item::before, #sk-container-id-1 div.sk-parallel-item::before {content: \"\";position: absolute;border-left: 1px solid gray;box-sizing: border-box;top: 0;bottom: 0;left: 50%;z-index: -1;}#sk-container-id-1 div.sk-parallel-item {display: flex;flex-direction: column;z-index: 1;position: relative;background-color: white;}#sk-container-id-1 div.sk-parallel-item:first-child::after {align-self: flex-end;width: 50%;}#sk-container-id-1 div.sk-parallel-item:last-child::after {align-self: flex-start;width: 50%;}#sk-container-id-1 div.sk-parallel-item:only-child::after {width: 0;}#sk-container-id-1 div.sk-dashed-wrapped {border: 1px dashed gray;margin: 0 0.4em 0.5em 0.4em;box-sizing: border-box;padding-bottom: 0.4em;background-color: white;}#sk-container-id-1 div.sk-label label {font-family: monospace;font-weight: bold;display: inline-block;line-height: 1.2em;}#sk-container-id-1 div.sk-label-container {text-align: center;}#sk-container-id-1 div.sk-container {/* jupyter's `normalize.less` sets `[hidden] { display: none; }` but bootstrap.min.css set `[hidden] { display: none !important; }` so we also need the `!important` here to be able to override the default hidden behavior on the sphinx rendered scikit-learn.org. See: https://github.com/scikit-learn/scikit-learn/issues/21755 */display: inline-block !important;position: relative;}#sk-container-id-1 div.sk-text-repr-fallback {display: none;}</style><div id=\"sk-container-id-1\" class=\"sk-top-container\"><div class=\"sk-text-repr-fallback\"><pre>Pipeline(steps=[(&#x27;prep_data&#x27;,\n",
       "                 ColumnTransformer(transformers=[(&#x27;num&#x27;,\n",
       "                                                  Pipeline(steps=[(&#x27;impute&#x27;,\n",
       "                                                                   SimpleImputer()),\n",
       "                                                                  (&#x27;std_num&#x27;,\n",
       "                                                                   StandardScaler())]),\n",
       "                                                  Index([&#x27;minutes_past&#x27;, &#x27;radardist_km&#x27;, &#x27;Ref&#x27;, &#x27;Ref_5x5_10th&#x27;, &#x27;Ref_5x5_50th&#x27;,\n",
       "       &#x27;Ref_5x5_90th&#x27;, &#x27;RefComposite&#x27;, &#x27;RefComposite_5x5_10th&#x27;,\n",
       "       &#x27;RefComposite_5x5_50th&#x27;, &#x27;RefComposite_5x5_90th&#x27;, &#x27;RhoHV&#x27;,\n",
       "       &#x27;RhoHV_5x5_10th&#x27;, &#x27;RhoHV_5x5_50th&#x27;, &#x27;RhoHV_5x5_90th&#x27;, &#x27;Zdr&#x27;,\n",
       "       &#x27;Zdr_5x5_10th&#x27;, &#x27;Zdr_5x5_50th&#x27;, &#x27;Zdr_5x5_90th&#x27;, &#x27;Kdp&#x27;, &#x27;Kdp_5x5_10th&#x27;,\n",
       "       &#x27;Kdp_5x5_50th&#x27;, &#x27;Kdp_5x5_90th&#x27;],\n",
       "      dtype=&#x27;object&#x27;))])),\n",
       "                (&#x27;model&#x27;, GradientBoostingRegressor())])</pre><b>In a Jupyter environment, please rerun this cell to show the HTML representation or trust the notebook. <br />On GitHub, the HTML representation is unable to render, please try loading this page with nbviewer.org.</b></div><div class=\"sk-container\" hidden><div class=\"sk-item sk-dashed-wrapped\"><div class=\"sk-label-container\"><div class=\"sk-label sk-toggleable\"><input class=\"sk-toggleable__control sk-hidden--visually\" id=\"sk-estimator-id-1\" type=\"checkbox\" ><label for=\"sk-estimator-id-1\" class=\"sk-toggleable__label sk-toggleable__label-arrow\">Pipeline</label><div class=\"sk-toggleable__content\"><pre>Pipeline(steps=[(&#x27;prep_data&#x27;,\n",
       "                 ColumnTransformer(transformers=[(&#x27;num&#x27;,\n",
       "                                                  Pipeline(steps=[(&#x27;impute&#x27;,\n",
       "                                                                   SimpleImputer()),\n",
       "                                                                  (&#x27;std_num&#x27;,\n",
       "                                                                   StandardScaler())]),\n",
       "                                                  Index([&#x27;minutes_past&#x27;, &#x27;radardist_km&#x27;, &#x27;Ref&#x27;, &#x27;Ref_5x5_10th&#x27;, &#x27;Ref_5x5_50th&#x27;,\n",
       "       &#x27;Ref_5x5_90th&#x27;, &#x27;RefComposite&#x27;, &#x27;RefComposite_5x5_10th&#x27;,\n",
       "       &#x27;RefComposite_5x5_50th&#x27;, &#x27;RefComposite_5x5_90th&#x27;, &#x27;RhoHV&#x27;,\n",
       "       &#x27;RhoHV_5x5_10th&#x27;, &#x27;RhoHV_5x5_50th&#x27;, &#x27;RhoHV_5x5_90th&#x27;, &#x27;Zdr&#x27;,\n",
       "       &#x27;Zdr_5x5_10th&#x27;, &#x27;Zdr_5x5_50th&#x27;, &#x27;Zdr_5x5_90th&#x27;, &#x27;Kdp&#x27;, &#x27;Kdp_5x5_10th&#x27;,\n",
       "       &#x27;Kdp_5x5_50th&#x27;, &#x27;Kdp_5x5_90th&#x27;],\n",
       "      dtype=&#x27;object&#x27;))])),\n",
       "                (&#x27;model&#x27;, GradientBoostingRegressor())])</pre></div></div></div><div class=\"sk-serial\"><div class=\"sk-item sk-dashed-wrapped\"><div class=\"sk-label-container\"><div class=\"sk-label sk-toggleable\"><input class=\"sk-toggleable__control sk-hidden--visually\" id=\"sk-estimator-id-2\" type=\"checkbox\" ><label for=\"sk-estimator-id-2\" class=\"sk-toggleable__label sk-toggleable__label-arrow\">prep_data: ColumnTransformer</label><div class=\"sk-toggleable__content\"><pre>ColumnTransformer(transformers=[(&#x27;num&#x27;,\n",
       "                                 Pipeline(steps=[(&#x27;impute&#x27;, SimpleImputer()),\n",
       "                                                 (&#x27;std_num&#x27;,\n",
       "                                                  StandardScaler())]),\n",
       "                                 Index([&#x27;minutes_past&#x27;, &#x27;radardist_km&#x27;, &#x27;Ref&#x27;, &#x27;Ref_5x5_10th&#x27;, &#x27;Ref_5x5_50th&#x27;,\n",
       "       &#x27;Ref_5x5_90th&#x27;, &#x27;RefComposite&#x27;, &#x27;RefComposite_5x5_10th&#x27;,\n",
       "       &#x27;RefComposite_5x5_50th&#x27;, &#x27;RefComposite_5x5_90th&#x27;, &#x27;RhoHV&#x27;,\n",
       "       &#x27;RhoHV_5x5_10th&#x27;, &#x27;RhoHV_5x5_50th&#x27;, &#x27;RhoHV_5x5_90th&#x27;, &#x27;Zdr&#x27;,\n",
       "       &#x27;Zdr_5x5_10th&#x27;, &#x27;Zdr_5x5_50th&#x27;, &#x27;Zdr_5x5_90th&#x27;, &#x27;Kdp&#x27;, &#x27;Kdp_5x5_10th&#x27;,\n",
       "       &#x27;Kdp_5x5_50th&#x27;, &#x27;Kdp_5x5_90th&#x27;],\n",
       "      dtype=&#x27;object&#x27;))])</pre></div></div></div><div class=\"sk-parallel\"><div class=\"sk-parallel-item\"><div class=\"sk-item\"><div class=\"sk-label-container\"><div class=\"sk-label sk-toggleable\"><input class=\"sk-toggleable__control sk-hidden--visually\" id=\"sk-estimator-id-3\" type=\"checkbox\" ><label for=\"sk-estimator-id-3\" class=\"sk-toggleable__label sk-toggleable__label-arrow\">num</label><div class=\"sk-toggleable__content\"><pre>Index([&#x27;minutes_past&#x27;, &#x27;radardist_km&#x27;, &#x27;Ref&#x27;, &#x27;Ref_5x5_10th&#x27;, &#x27;Ref_5x5_50th&#x27;,\n",
       "       &#x27;Ref_5x5_90th&#x27;, &#x27;RefComposite&#x27;, &#x27;RefComposite_5x5_10th&#x27;,\n",
       "       &#x27;RefComposite_5x5_50th&#x27;, &#x27;RefComposite_5x5_90th&#x27;, &#x27;RhoHV&#x27;,\n",
       "       &#x27;RhoHV_5x5_10th&#x27;, &#x27;RhoHV_5x5_50th&#x27;, &#x27;RhoHV_5x5_90th&#x27;, &#x27;Zdr&#x27;,\n",
       "       &#x27;Zdr_5x5_10th&#x27;, &#x27;Zdr_5x5_50th&#x27;, &#x27;Zdr_5x5_90th&#x27;, &#x27;Kdp&#x27;, &#x27;Kdp_5x5_10th&#x27;,\n",
       "       &#x27;Kdp_5x5_50th&#x27;, &#x27;Kdp_5x5_90th&#x27;],\n",
       "      dtype=&#x27;object&#x27;)</pre></div></div></div><div class=\"sk-serial\"><div class=\"sk-item\"><div class=\"sk-serial\"><div class=\"sk-item\"><div class=\"sk-estimator sk-toggleable\"><input class=\"sk-toggleable__control sk-hidden--visually\" id=\"sk-estimator-id-4\" type=\"checkbox\" ><label for=\"sk-estimator-id-4\" class=\"sk-toggleable__label sk-toggleable__label-arrow\">SimpleImputer</label><div class=\"sk-toggleable__content\"><pre>SimpleImputer()</pre></div></div></div><div class=\"sk-item\"><div class=\"sk-estimator sk-toggleable\"><input class=\"sk-toggleable__control sk-hidden--visually\" id=\"sk-estimator-id-5\" type=\"checkbox\" ><label for=\"sk-estimator-id-5\" class=\"sk-toggleable__label sk-toggleable__label-arrow\">StandardScaler</label><div class=\"sk-toggleable__content\"><pre>StandardScaler()</pre></div></div></div></div></div></div></div></div></div></div><div class=\"sk-item\"><div class=\"sk-estimator sk-toggleable\"><input class=\"sk-toggleable__control sk-hidden--visually\" id=\"sk-estimator-id-6\" type=\"checkbox\" ><label for=\"sk-estimator-id-6\" class=\"sk-toggleable__label sk-toggleable__label-arrow\">GradientBoostingRegressor</label><div class=\"sk-toggleable__content\"><pre>GradientBoostingRegressor()</pre></div></div></div></div></div></div></div>"
      ],
      "text/plain": [
       "Pipeline(steps=[('prep_data',\n",
       "                 ColumnTransformer(transformers=[('num',\n",
       "                                                  Pipeline(steps=[('impute',\n",
       "                                                                   SimpleImputer()),\n",
       "                                                                  ('std_num',\n",
       "                                                                   StandardScaler())]),\n",
       "                                                  Index(['minutes_past', 'radardist_km', 'Ref', 'Ref_5x5_10th', 'Ref_5x5_50th',\n",
       "       'Ref_5x5_90th', 'RefComposite', 'RefComposite_5x5_10th',\n",
       "       'RefComposite_5x5_50th', 'RefComposite_5x5_90th', 'RhoHV',\n",
       "       'RhoHV_5x5_10th', 'RhoHV_5x5_50th', 'RhoHV_5x5_90th', 'Zdr',\n",
       "       'Zdr_5x5_10th', 'Zdr_5x5_50th', 'Zdr_5x5_90th', 'Kdp', 'Kdp_5x5_10th',\n",
       "       'Kdp_5x5_50th', 'Kdp_5x5_90th'],\n",
       "      dtype='object'))])),\n",
       "                ('model', GradientBoostingRegressor())])"
      ]
     },
     "execution_count": 10,
     "metadata": {},
     "output_type": "execute_result"
    }
   ],
   "source": [
    "pipe_X"
   ]
  },
  {
   "cell_type": "code",
   "execution_count": 11,
   "id": "846115cc",
   "metadata": {},
   "outputs": [],
   "source": [
    "pipe_y = TransformedTargetRegressor(\n",
    "    regressor=pipe_X,\n",
    "    func=np.log, inverse_func=np.exp)"
   ]
  },
  {
   "cell_type": "code",
   "execution_count": 12,
   "id": "7aef24bb",
   "metadata": {},
   "outputs": [
    {
     "data": {
      "text/html": [
       "<style>#sk-container-id-2 {color: black;background-color: white;}#sk-container-id-2 pre{padding: 0;}#sk-container-id-2 div.sk-toggleable {background-color: white;}#sk-container-id-2 label.sk-toggleable__label {cursor: pointer;display: block;width: 100%;margin-bottom: 0;padding: 0.3em;box-sizing: border-box;text-align: center;}#sk-container-id-2 label.sk-toggleable__label-arrow:before {content: \"▸\";float: left;margin-right: 0.25em;color: #696969;}#sk-container-id-2 label.sk-toggleable__label-arrow:hover:before {color: black;}#sk-container-id-2 div.sk-estimator:hover label.sk-toggleable__label-arrow:before {color: black;}#sk-container-id-2 div.sk-toggleable__content {max-height: 0;max-width: 0;overflow: hidden;text-align: left;background-color: #f0f8ff;}#sk-container-id-2 div.sk-toggleable__content pre {margin: 0.2em;color: black;border-radius: 0.25em;background-color: #f0f8ff;}#sk-container-id-2 input.sk-toggleable__control:checked~div.sk-toggleable__content {max-height: 200px;max-width: 100%;overflow: auto;}#sk-container-id-2 input.sk-toggleable__control:checked~label.sk-toggleable__label-arrow:before {content: \"▾\";}#sk-container-id-2 div.sk-estimator input.sk-toggleable__control:checked~label.sk-toggleable__label {background-color: #d4ebff;}#sk-container-id-2 div.sk-label input.sk-toggleable__control:checked~label.sk-toggleable__label {background-color: #d4ebff;}#sk-container-id-2 input.sk-hidden--visually {border: 0;clip: rect(1px 1px 1px 1px);clip: rect(1px, 1px, 1px, 1px);height: 1px;margin: -1px;overflow: hidden;padding: 0;position: absolute;width: 1px;}#sk-container-id-2 div.sk-estimator {font-family: monospace;background-color: #f0f8ff;border: 1px dotted black;border-radius: 0.25em;box-sizing: border-box;margin-bottom: 0.5em;}#sk-container-id-2 div.sk-estimator:hover {background-color: #d4ebff;}#sk-container-id-2 div.sk-parallel-item::after {content: \"\";width: 100%;border-bottom: 1px solid gray;flex-grow: 1;}#sk-container-id-2 div.sk-label:hover label.sk-toggleable__label {background-color: #d4ebff;}#sk-container-id-2 div.sk-serial::before {content: \"\";position: absolute;border-left: 1px solid gray;box-sizing: border-box;top: 0;bottom: 0;left: 50%;z-index: 0;}#sk-container-id-2 div.sk-serial {display: flex;flex-direction: column;align-items: center;background-color: white;padding-right: 0.2em;padding-left: 0.2em;position: relative;}#sk-container-id-2 div.sk-item {position: relative;z-index: 1;}#sk-container-id-2 div.sk-parallel {display: flex;align-items: stretch;justify-content: center;background-color: white;position: relative;}#sk-container-id-2 div.sk-item::before, #sk-container-id-2 div.sk-parallel-item::before {content: \"\";position: absolute;border-left: 1px solid gray;box-sizing: border-box;top: 0;bottom: 0;left: 50%;z-index: -1;}#sk-container-id-2 div.sk-parallel-item {display: flex;flex-direction: column;z-index: 1;position: relative;background-color: white;}#sk-container-id-2 div.sk-parallel-item:first-child::after {align-self: flex-end;width: 50%;}#sk-container-id-2 div.sk-parallel-item:last-child::after {align-self: flex-start;width: 50%;}#sk-container-id-2 div.sk-parallel-item:only-child::after {width: 0;}#sk-container-id-2 div.sk-dashed-wrapped {border: 1px dashed gray;margin: 0 0.4em 0.5em 0.4em;box-sizing: border-box;padding-bottom: 0.4em;background-color: white;}#sk-container-id-2 div.sk-label label {font-family: monospace;font-weight: bold;display: inline-block;line-height: 1.2em;}#sk-container-id-2 div.sk-label-container {text-align: center;}#sk-container-id-2 div.sk-container {/* jupyter's `normalize.less` sets `[hidden] { display: none; }` but bootstrap.min.css set `[hidden] { display: none !important; }` so we also need the `!important` here to be able to override the default hidden behavior on the sphinx rendered scikit-learn.org. See: https://github.com/scikit-learn/scikit-learn/issues/21755 */display: inline-block !important;position: relative;}#sk-container-id-2 div.sk-text-repr-fallback {display: none;}</style><div id=\"sk-container-id-2\" class=\"sk-top-container\"><div class=\"sk-text-repr-fallback\"><pre>TransformedTargetRegressor(func=&lt;ufunc &#x27;log&#x27;&gt;, inverse_func=&lt;ufunc &#x27;exp&#x27;&gt;,\n",
       "                           regressor=Pipeline(steps=[(&#x27;prep_data&#x27;,\n",
       "                                                      ColumnTransformer(transformers=[(&#x27;num&#x27;,\n",
       "                                                                                       Pipeline(steps=[(&#x27;impute&#x27;,\n",
       "                                                                                                        SimpleImputer()),\n",
       "                                                                                                       (&#x27;std_num&#x27;,\n",
       "                                                                                                        StandardScaler())]),\n",
       "                                                                                       Index([&#x27;minutes_past&#x27;, &#x27;radardist_km&#x27;, &#x27;Ref&#x27;, &#x27;Ref_5x5_10th&#x27;, &#x27;Ref_5x5_50th&#x27;,\n",
       "       &#x27;Ref_5x5_90th&#x27;, &#x27;RefComposite&#x27;, &#x27;RefComposite_5x5_10th&#x27;,\n",
       "       &#x27;RefComposite_5x5_50th&#x27;, &#x27;RefComposite_5x5_90th&#x27;, &#x27;RhoHV&#x27;,\n",
       "       &#x27;RhoHV_5x5_10th&#x27;, &#x27;RhoHV_5x5_50th&#x27;, &#x27;RhoHV_5x5_90th&#x27;, &#x27;Zdr&#x27;,\n",
       "       &#x27;Zdr_5x5_10th&#x27;, &#x27;Zdr_5x5_50th&#x27;, &#x27;Zdr_5x5_90th&#x27;, &#x27;Kdp&#x27;, &#x27;Kdp_5x5_10th&#x27;,\n",
       "       &#x27;Kdp_5x5_50th&#x27;, &#x27;Kdp_5x5_90th&#x27;],\n",
       "      dtype=&#x27;object&#x27;))])),\n",
       "                                                     (&#x27;model&#x27;,\n",
       "                                                      GradientBoostingRegressor())]))</pre><b>In a Jupyter environment, please rerun this cell to show the HTML representation or trust the notebook. <br />On GitHub, the HTML representation is unable to render, please try loading this page with nbviewer.org.</b></div><div class=\"sk-container\" hidden><div class=\"sk-item sk-dashed-wrapped\"><div class=\"sk-label-container\"><div class=\"sk-label sk-toggleable\"><input class=\"sk-toggleable__control sk-hidden--visually\" id=\"sk-estimator-id-7\" type=\"checkbox\" ><label for=\"sk-estimator-id-7\" class=\"sk-toggleable__label sk-toggleable__label-arrow\">TransformedTargetRegressor</label><div class=\"sk-toggleable__content\"><pre>TransformedTargetRegressor(func=&lt;ufunc &#x27;log&#x27;&gt;, inverse_func=&lt;ufunc &#x27;exp&#x27;&gt;,\n",
       "                           regressor=Pipeline(steps=[(&#x27;prep_data&#x27;,\n",
       "                                                      ColumnTransformer(transformers=[(&#x27;num&#x27;,\n",
       "                                                                                       Pipeline(steps=[(&#x27;impute&#x27;,\n",
       "                                                                                                        SimpleImputer()),\n",
       "                                                                                                       (&#x27;std_num&#x27;,\n",
       "                                                                                                        StandardScaler())]),\n",
       "                                                                                       Index([&#x27;minutes_past&#x27;, &#x27;radardist_km&#x27;, &#x27;Ref&#x27;, &#x27;Ref_5x5_10th&#x27;, &#x27;Ref_5x5_50th&#x27;,\n",
       "       &#x27;Ref_5x5_90th&#x27;, &#x27;RefComposite&#x27;, &#x27;RefComposite_5x5_10th&#x27;,\n",
       "       &#x27;RefComposite_5x5_50th&#x27;, &#x27;RefComposite_5x5_90th&#x27;, &#x27;RhoHV&#x27;,\n",
       "       &#x27;RhoHV_5x5_10th&#x27;, &#x27;RhoHV_5x5_50th&#x27;, &#x27;RhoHV_5x5_90th&#x27;, &#x27;Zdr&#x27;,\n",
       "       &#x27;Zdr_5x5_10th&#x27;, &#x27;Zdr_5x5_50th&#x27;, &#x27;Zdr_5x5_90th&#x27;, &#x27;Kdp&#x27;, &#x27;Kdp_5x5_10th&#x27;,\n",
       "       &#x27;Kdp_5x5_50th&#x27;, &#x27;Kdp_5x5_90th&#x27;],\n",
       "      dtype=&#x27;object&#x27;))])),\n",
       "                                                     (&#x27;model&#x27;,\n",
       "                                                      GradientBoostingRegressor())]))</pre></div></div></div><div class=\"sk-parallel\"><div class=\"sk-parallel-item\"><div class=\"sk-item\"><div class=\"sk-label-container\"><div class=\"sk-label sk-toggleable\"><input class=\"sk-toggleable__control sk-hidden--visually\" id=\"sk-estimator-id-8\" type=\"checkbox\" ><label for=\"sk-estimator-id-8\" class=\"sk-toggleable__label sk-toggleable__label-arrow\">regressor: Pipeline</label><div class=\"sk-toggleable__content\"><pre>Pipeline(steps=[(&#x27;prep_data&#x27;,\n",
       "                 ColumnTransformer(transformers=[(&#x27;num&#x27;,\n",
       "                                                  Pipeline(steps=[(&#x27;impute&#x27;,\n",
       "                                                                   SimpleImputer()),\n",
       "                                                                  (&#x27;std_num&#x27;,\n",
       "                                                                   StandardScaler())]),\n",
       "                                                  Index([&#x27;minutes_past&#x27;, &#x27;radardist_km&#x27;, &#x27;Ref&#x27;, &#x27;Ref_5x5_10th&#x27;, &#x27;Ref_5x5_50th&#x27;,\n",
       "       &#x27;Ref_5x5_90th&#x27;, &#x27;RefComposite&#x27;, &#x27;RefComposite_5x5_10th&#x27;,\n",
       "       &#x27;RefComposite_5x5_50th&#x27;, &#x27;RefComposite_5x5_90th&#x27;, &#x27;RhoHV&#x27;,\n",
       "       &#x27;RhoHV_5x5_10th&#x27;, &#x27;RhoHV_5x5_50th&#x27;, &#x27;RhoHV_5x5_90th&#x27;, &#x27;Zdr&#x27;,\n",
       "       &#x27;Zdr_5x5_10th&#x27;, &#x27;Zdr_5x5_50th&#x27;, &#x27;Zdr_5x5_90th&#x27;, &#x27;Kdp&#x27;, &#x27;Kdp_5x5_10th&#x27;,\n",
       "       &#x27;Kdp_5x5_50th&#x27;, &#x27;Kdp_5x5_90th&#x27;],\n",
       "      dtype=&#x27;object&#x27;))])),\n",
       "                (&#x27;model&#x27;, GradientBoostingRegressor())])</pre></div></div></div><div class=\"sk-serial\"><div class=\"sk-item\"><div class=\"sk-serial\"><div class=\"sk-item sk-dashed-wrapped\"><div class=\"sk-label-container\"><div class=\"sk-label sk-toggleable\"><input class=\"sk-toggleable__control sk-hidden--visually\" id=\"sk-estimator-id-9\" type=\"checkbox\" ><label for=\"sk-estimator-id-9\" class=\"sk-toggleable__label sk-toggleable__label-arrow\">prep_data: ColumnTransformer</label><div class=\"sk-toggleable__content\"><pre>ColumnTransformer(transformers=[(&#x27;num&#x27;,\n",
       "                                 Pipeline(steps=[(&#x27;impute&#x27;, SimpleImputer()),\n",
       "                                                 (&#x27;std_num&#x27;,\n",
       "                                                  StandardScaler())]),\n",
       "                                 Index([&#x27;minutes_past&#x27;, &#x27;radardist_km&#x27;, &#x27;Ref&#x27;, &#x27;Ref_5x5_10th&#x27;, &#x27;Ref_5x5_50th&#x27;,\n",
       "       &#x27;Ref_5x5_90th&#x27;, &#x27;RefComposite&#x27;, &#x27;RefComposite_5x5_10th&#x27;,\n",
       "       &#x27;RefComposite_5x5_50th&#x27;, &#x27;RefComposite_5x5_90th&#x27;, &#x27;RhoHV&#x27;,\n",
       "       &#x27;RhoHV_5x5_10th&#x27;, &#x27;RhoHV_5x5_50th&#x27;, &#x27;RhoHV_5x5_90th&#x27;, &#x27;Zdr&#x27;,\n",
       "       &#x27;Zdr_5x5_10th&#x27;, &#x27;Zdr_5x5_50th&#x27;, &#x27;Zdr_5x5_90th&#x27;, &#x27;Kdp&#x27;, &#x27;Kdp_5x5_10th&#x27;,\n",
       "       &#x27;Kdp_5x5_50th&#x27;, &#x27;Kdp_5x5_90th&#x27;],\n",
       "      dtype=&#x27;object&#x27;))])</pre></div></div></div><div class=\"sk-parallel\"><div class=\"sk-parallel-item\"><div class=\"sk-item\"><div class=\"sk-label-container\"><div class=\"sk-label sk-toggleable\"><input class=\"sk-toggleable__control sk-hidden--visually\" id=\"sk-estimator-id-10\" type=\"checkbox\" ><label for=\"sk-estimator-id-10\" class=\"sk-toggleable__label sk-toggleable__label-arrow\">num</label><div class=\"sk-toggleable__content\"><pre>Index([&#x27;minutes_past&#x27;, &#x27;radardist_km&#x27;, &#x27;Ref&#x27;, &#x27;Ref_5x5_10th&#x27;, &#x27;Ref_5x5_50th&#x27;,\n",
       "       &#x27;Ref_5x5_90th&#x27;, &#x27;RefComposite&#x27;, &#x27;RefComposite_5x5_10th&#x27;,\n",
       "       &#x27;RefComposite_5x5_50th&#x27;, &#x27;RefComposite_5x5_90th&#x27;, &#x27;RhoHV&#x27;,\n",
       "       &#x27;RhoHV_5x5_10th&#x27;, &#x27;RhoHV_5x5_50th&#x27;, &#x27;RhoHV_5x5_90th&#x27;, &#x27;Zdr&#x27;,\n",
       "       &#x27;Zdr_5x5_10th&#x27;, &#x27;Zdr_5x5_50th&#x27;, &#x27;Zdr_5x5_90th&#x27;, &#x27;Kdp&#x27;, &#x27;Kdp_5x5_10th&#x27;,\n",
       "       &#x27;Kdp_5x5_50th&#x27;, &#x27;Kdp_5x5_90th&#x27;],\n",
       "      dtype=&#x27;object&#x27;)</pre></div></div></div><div class=\"sk-serial\"><div class=\"sk-item\"><div class=\"sk-serial\"><div class=\"sk-item\"><div class=\"sk-estimator sk-toggleable\"><input class=\"sk-toggleable__control sk-hidden--visually\" id=\"sk-estimator-id-11\" type=\"checkbox\" ><label for=\"sk-estimator-id-11\" class=\"sk-toggleable__label sk-toggleable__label-arrow\">SimpleImputer</label><div class=\"sk-toggleable__content\"><pre>SimpleImputer()</pre></div></div></div><div class=\"sk-item\"><div class=\"sk-estimator sk-toggleable\"><input class=\"sk-toggleable__control sk-hidden--visually\" id=\"sk-estimator-id-12\" type=\"checkbox\" ><label for=\"sk-estimator-id-12\" class=\"sk-toggleable__label sk-toggleable__label-arrow\">StandardScaler</label><div class=\"sk-toggleable__content\"><pre>StandardScaler()</pre></div></div></div></div></div></div></div></div></div></div><div class=\"sk-item\"><div class=\"sk-estimator sk-toggleable\"><input class=\"sk-toggleable__control sk-hidden--visually\" id=\"sk-estimator-id-13\" type=\"checkbox\" ><label for=\"sk-estimator-id-13\" class=\"sk-toggleable__label sk-toggleable__label-arrow\">GradientBoostingRegressor</label><div class=\"sk-toggleable__content\"><pre>GradientBoostingRegressor()</pre></div></div></div></div></div></div></div></div></div></div></div></div>"
      ],
      "text/plain": [
       "TransformedTargetRegressor(func=<ufunc 'log'>, inverse_func=<ufunc 'exp'>,\n",
       "                           regressor=Pipeline(steps=[('prep_data',\n",
       "                                                      ColumnTransformer(transformers=[('num',\n",
       "                                                                                       Pipeline(steps=[('impute',\n",
       "                                                                                                        SimpleImputer()),\n",
       "                                                                                                       ('std_num',\n",
       "                                                                                                        StandardScaler())]),\n",
       "                                                                                       Index(['minutes_past', 'radardist_km', 'Ref', 'Ref_5x5_10th', 'Ref_5x5_50th',\n",
       "       'Ref_5x5_90th', 'RefComposite', 'RefComposite_5x5_10th',\n",
       "       'RefComposite_5x5_50th', 'RefComposite_5x5_90th', 'RhoHV',\n",
       "       'RhoHV_5x5_10th', 'RhoHV_5x5_50th', 'RhoHV_5x5_90th', 'Zdr',\n",
       "       'Zdr_5x5_10th', 'Zdr_5x5_50th', 'Zdr_5x5_90th', 'Kdp', 'Kdp_5x5_10th',\n",
       "       'Kdp_5x5_50th', 'Kdp_5x5_90th'],\n",
       "      dtype='object'))])),\n",
       "                                                     ('model',\n",
       "                                                      GradientBoostingRegressor())]))"
      ]
     },
     "execution_count": 12,
     "metadata": {},
     "output_type": "execute_result"
    }
   ],
   "source": [
    "pipe_y"
   ]
  },
  {
   "cell_type": "code",
   "execution_count": 15,
   "id": "015b58b4",
   "metadata": {},
   "outputs": [
    {
     "data": {
      "text/html": [
       "<style>#sk-container-id-3 {color: black;background-color: white;}#sk-container-id-3 pre{padding: 0;}#sk-container-id-3 div.sk-toggleable {background-color: white;}#sk-container-id-3 label.sk-toggleable__label {cursor: pointer;display: block;width: 100%;margin-bottom: 0;padding: 0.3em;box-sizing: border-box;text-align: center;}#sk-container-id-3 label.sk-toggleable__label-arrow:before {content: \"▸\";float: left;margin-right: 0.25em;color: #696969;}#sk-container-id-3 label.sk-toggleable__label-arrow:hover:before {color: black;}#sk-container-id-3 div.sk-estimator:hover label.sk-toggleable__label-arrow:before {color: black;}#sk-container-id-3 div.sk-toggleable__content {max-height: 0;max-width: 0;overflow: hidden;text-align: left;background-color: #f0f8ff;}#sk-container-id-3 div.sk-toggleable__content pre {margin: 0.2em;color: black;border-radius: 0.25em;background-color: #f0f8ff;}#sk-container-id-3 input.sk-toggleable__control:checked~div.sk-toggleable__content {max-height: 200px;max-width: 100%;overflow: auto;}#sk-container-id-3 input.sk-toggleable__control:checked~label.sk-toggleable__label-arrow:before {content: \"▾\";}#sk-container-id-3 div.sk-estimator input.sk-toggleable__control:checked~label.sk-toggleable__label {background-color: #d4ebff;}#sk-container-id-3 div.sk-label input.sk-toggleable__control:checked~label.sk-toggleable__label {background-color: #d4ebff;}#sk-container-id-3 input.sk-hidden--visually {border: 0;clip: rect(1px 1px 1px 1px);clip: rect(1px, 1px, 1px, 1px);height: 1px;margin: -1px;overflow: hidden;padding: 0;position: absolute;width: 1px;}#sk-container-id-3 div.sk-estimator {font-family: monospace;background-color: #f0f8ff;border: 1px dotted black;border-radius: 0.25em;box-sizing: border-box;margin-bottom: 0.5em;}#sk-container-id-3 div.sk-estimator:hover {background-color: #d4ebff;}#sk-container-id-3 div.sk-parallel-item::after {content: \"\";width: 100%;border-bottom: 1px solid gray;flex-grow: 1;}#sk-container-id-3 div.sk-label:hover label.sk-toggleable__label {background-color: #d4ebff;}#sk-container-id-3 div.sk-serial::before {content: \"\";position: absolute;border-left: 1px solid gray;box-sizing: border-box;top: 0;bottom: 0;left: 50%;z-index: 0;}#sk-container-id-3 div.sk-serial {display: flex;flex-direction: column;align-items: center;background-color: white;padding-right: 0.2em;padding-left: 0.2em;position: relative;}#sk-container-id-3 div.sk-item {position: relative;z-index: 1;}#sk-container-id-3 div.sk-parallel {display: flex;align-items: stretch;justify-content: center;background-color: white;position: relative;}#sk-container-id-3 div.sk-item::before, #sk-container-id-3 div.sk-parallel-item::before {content: \"\";position: absolute;border-left: 1px solid gray;box-sizing: border-box;top: 0;bottom: 0;left: 50%;z-index: -1;}#sk-container-id-3 div.sk-parallel-item {display: flex;flex-direction: column;z-index: 1;position: relative;background-color: white;}#sk-container-id-3 div.sk-parallel-item:first-child::after {align-self: flex-end;width: 50%;}#sk-container-id-3 div.sk-parallel-item:last-child::after {align-self: flex-start;width: 50%;}#sk-container-id-3 div.sk-parallel-item:only-child::after {width: 0;}#sk-container-id-3 div.sk-dashed-wrapped {border: 1px dashed gray;margin: 0 0.4em 0.5em 0.4em;box-sizing: border-box;padding-bottom: 0.4em;background-color: white;}#sk-container-id-3 div.sk-label label {font-family: monospace;font-weight: bold;display: inline-block;line-height: 1.2em;}#sk-container-id-3 div.sk-label-container {text-align: center;}#sk-container-id-3 div.sk-container {/* jupyter's `normalize.less` sets `[hidden] { display: none; }` but bootstrap.min.css set `[hidden] { display: none !important; }` so we also need the `!important` here to be able to override the default hidden behavior on the sphinx rendered scikit-learn.org. See: https://github.com/scikit-learn/scikit-learn/issues/21755 */display: inline-block !important;position: relative;}#sk-container-id-3 div.sk-text-repr-fallback {display: none;}</style><div id=\"sk-container-id-3\" class=\"sk-top-container\"><div class=\"sk-text-repr-fallback\"><pre>TransformedTargetRegressor(func=&lt;ufunc &#x27;log&#x27;&gt;, inverse_func=&lt;ufunc &#x27;exp&#x27;&gt;,\n",
       "                           regressor=Pipeline(steps=[(&#x27;prep_data&#x27;,\n",
       "                                                      ColumnTransformer(transformers=[(&#x27;num&#x27;,\n",
       "                                                                                       Pipeline(steps=[(&#x27;impute&#x27;,\n",
       "                                                                                                        SimpleImputer()),\n",
       "                                                                                                       (&#x27;std_num&#x27;,\n",
       "                                                                                                        StandardScaler())]),\n",
       "                                                                                       Index([&#x27;minutes_past&#x27;, &#x27;radardist_km&#x27;, &#x27;Ref&#x27;, &#x27;Ref_5x5_10th&#x27;, &#x27;Ref_5x5_50th&#x27;,\n",
       "       &#x27;Ref_5x5_90th&#x27;, &#x27;RefComposite&#x27;, &#x27;RefComposite_5x5_10th&#x27;,\n",
       "       &#x27;RefComposite_5x5_50th&#x27;, &#x27;RefComposite_5x5_90th&#x27;, &#x27;RhoHV&#x27;,\n",
       "       &#x27;RhoHV_5x5_10th&#x27;, &#x27;RhoHV_5x5_50th&#x27;, &#x27;RhoHV_5x5_90th&#x27;, &#x27;Zdr&#x27;,\n",
       "       &#x27;Zdr_5x5_10th&#x27;, &#x27;Zdr_5x5_50th&#x27;, &#x27;Zdr_5x5_90th&#x27;, &#x27;Kdp&#x27;, &#x27;Kdp_5x5_10th&#x27;,\n",
       "       &#x27;Kdp_5x5_50th&#x27;, &#x27;Kdp_5x5_90th&#x27;],\n",
       "      dtype=&#x27;object&#x27;))])),\n",
       "                                                     (&#x27;model&#x27;,\n",
       "                                                      GradientBoostingRegressor())]))</pre><b>In a Jupyter environment, please rerun this cell to show the HTML representation or trust the notebook. <br />On GitHub, the HTML representation is unable to render, please try loading this page with nbviewer.org.</b></div><div class=\"sk-container\" hidden><div class=\"sk-item sk-dashed-wrapped\"><div class=\"sk-label-container\"><div class=\"sk-label sk-toggleable\"><input class=\"sk-toggleable__control sk-hidden--visually\" id=\"sk-estimator-id-14\" type=\"checkbox\" ><label for=\"sk-estimator-id-14\" class=\"sk-toggleable__label sk-toggleable__label-arrow\">TransformedTargetRegressor</label><div class=\"sk-toggleable__content\"><pre>TransformedTargetRegressor(func=&lt;ufunc &#x27;log&#x27;&gt;, inverse_func=&lt;ufunc &#x27;exp&#x27;&gt;,\n",
       "                           regressor=Pipeline(steps=[(&#x27;prep_data&#x27;,\n",
       "                                                      ColumnTransformer(transformers=[(&#x27;num&#x27;,\n",
       "                                                                                       Pipeline(steps=[(&#x27;impute&#x27;,\n",
       "                                                                                                        SimpleImputer()),\n",
       "                                                                                                       (&#x27;std_num&#x27;,\n",
       "                                                                                                        StandardScaler())]),\n",
       "                                                                                       Index([&#x27;minutes_past&#x27;, &#x27;radardist_km&#x27;, &#x27;Ref&#x27;, &#x27;Ref_5x5_10th&#x27;, &#x27;Ref_5x5_50th&#x27;,\n",
       "       &#x27;Ref_5x5_90th&#x27;, &#x27;RefComposite&#x27;, &#x27;RefComposite_5x5_10th&#x27;,\n",
       "       &#x27;RefComposite_5x5_50th&#x27;, &#x27;RefComposite_5x5_90th&#x27;, &#x27;RhoHV&#x27;,\n",
       "       &#x27;RhoHV_5x5_10th&#x27;, &#x27;RhoHV_5x5_50th&#x27;, &#x27;RhoHV_5x5_90th&#x27;, &#x27;Zdr&#x27;,\n",
       "       &#x27;Zdr_5x5_10th&#x27;, &#x27;Zdr_5x5_50th&#x27;, &#x27;Zdr_5x5_90th&#x27;, &#x27;Kdp&#x27;, &#x27;Kdp_5x5_10th&#x27;,\n",
       "       &#x27;Kdp_5x5_50th&#x27;, &#x27;Kdp_5x5_90th&#x27;],\n",
       "      dtype=&#x27;object&#x27;))])),\n",
       "                                                     (&#x27;model&#x27;,\n",
       "                                                      GradientBoostingRegressor())]))</pre></div></div></div><div class=\"sk-parallel\"><div class=\"sk-parallel-item\"><div class=\"sk-item\"><div class=\"sk-label-container\"><div class=\"sk-label sk-toggleable\"><input class=\"sk-toggleable__control sk-hidden--visually\" id=\"sk-estimator-id-15\" type=\"checkbox\" ><label for=\"sk-estimator-id-15\" class=\"sk-toggleable__label sk-toggleable__label-arrow\">regressor: Pipeline</label><div class=\"sk-toggleable__content\"><pre>Pipeline(steps=[(&#x27;prep_data&#x27;,\n",
       "                 ColumnTransformer(transformers=[(&#x27;num&#x27;,\n",
       "                                                  Pipeline(steps=[(&#x27;impute&#x27;,\n",
       "                                                                   SimpleImputer()),\n",
       "                                                                  (&#x27;std_num&#x27;,\n",
       "                                                                   StandardScaler())]),\n",
       "                                                  Index([&#x27;minutes_past&#x27;, &#x27;radardist_km&#x27;, &#x27;Ref&#x27;, &#x27;Ref_5x5_10th&#x27;, &#x27;Ref_5x5_50th&#x27;,\n",
       "       &#x27;Ref_5x5_90th&#x27;, &#x27;RefComposite&#x27;, &#x27;RefComposite_5x5_10th&#x27;,\n",
       "       &#x27;RefComposite_5x5_50th&#x27;, &#x27;RefComposite_5x5_90th&#x27;, &#x27;RhoHV&#x27;,\n",
       "       &#x27;RhoHV_5x5_10th&#x27;, &#x27;RhoHV_5x5_50th&#x27;, &#x27;RhoHV_5x5_90th&#x27;, &#x27;Zdr&#x27;,\n",
       "       &#x27;Zdr_5x5_10th&#x27;, &#x27;Zdr_5x5_50th&#x27;, &#x27;Zdr_5x5_90th&#x27;, &#x27;Kdp&#x27;, &#x27;Kdp_5x5_10th&#x27;,\n",
       "       &#x27;Kdp_5x5_50th&#x27;, &#x27;Kdp_5x5_90th&#x27;],\n",
       "      dtype=&#x27;object&#x27;))])),\n",
       "                (&#x27;model&#x27;, GradientBoostingRegressor())])</pre></div></div></div><div class=\"sk-serial\"><div class=\"sk-item\"><div class=\"sk-serial\"><div class=\"sk-item sk-dashed-wrapped\"><div class=\"sk-label-container\"><div class=\"sk-label sk-toggleable\"><input class=\"sk-toggleable__control sk-hidden--visually\" id=\"sk-estimator-id-16\" type=\"checkbox\" ><label for=\"sk-estimator-id-16\" class=\"sk-toggleable__label sk-toggleable__label-arrow\">prep_data: ColumnTransformer</label><div class=\"sk-toggleable__content\"><pre>ColumnTransformer(transformers=[(&#x27;num&#x27;,\n",
       "                                 Pipeline(steps=[(&#x27;impute&#x27;, SimpleImputer()),\n",
       "                                                 (&#x27;std_num&#x27;,\n",
       "                                                  StandardScaler())]),\n",
       "                                 Index([&#x27;minutes_past&#x27;, &#x27;radardist_km&#x27;, &#x27;Ref&#x27;, &#x27;Ref_5x5_10th&#x27;, &#x27;Ref_5x5_50th&#x27;,\n",
       "       &#x27;Ref_5x5_90th&#x27;, &#x27;RefComposite&#x27;, &#x27;RefComposite_5x5_10th&#x27;,\n",
       "       &#x27;RefComposite_5x5_50th&#x27;, &#x27;RefComposite_5x5_90th&#x27;, &#x27;RhoHV&#x27;,\n",
       "       &#x27;RhoHV_5x5_10th&#x27;, &#x27;RhoHV_5x5_50th&#x27;, &#x27;RhoHV_5x5_90th&#x27;, &#x27;Zdr&#x27;,\n",
       "       &#x27;Zdr_5x5_10th&#x27;, &#x27;Zdr_5x5_50th&#x27;, &#x27;Zdr_5x5_90th&#x27;, &#x27;Kdp&#x27;, &#x27;Kdp_5x5_10th&#x27;,\n",
       "       &#x27;Kdp_5x5_50th&#x27;, &#x27;Kdp_5x5_90th&#x27;],\n",
       "      dtype=&#x27;object&#x27;))])</pre></div></div></div><div class=\"sk-parallel\"><div class=\"sk-parallel-item\"><div class=\"sk-item\"><div class=\"sk-label-container\"><div class=\"sk-label sk-toggleable\"><input class=\"sk-toggleable__control sk-hidden--visually\" id=\"sk-estimator-id-17\" type=\"checkbox\" ><label for=\"sk-estimator-id-17\" class=\"sk-toggleable__label sk-toggleable__label-arrow\">num</label><div class=\"sk-toggleable__content\"><pre>Index([&#x27;minutes_past&#x27;, &#x27;radardist_km&#x27;, &#x27;Ref&#x27;, &#x27;Ref_5x5_10th&#x27;, &#x27;Ref_5x5_50th&#x27;,\n",
       "       &#x27;Ref_5x5_90th&#x27;, &#x27;RefComposite&#x27;, &#x27;RefComposite_5x5_10th&#x27;,\n",
       "       &#x27;RefComposite_5x5_50th&#x27;, &#x27;RefComposite_5x5_90th&#x27;, &#x27;RhoHV&#x27;,\n",
       "       &#x27;RhoHV_5x5_10th&#x27;, &#x27;RhoHV_5x5_50th&#x27;, &#x27;RhoHV_5x5_90th&#x27;, &#x27;Zdr&#x27;,\n",
       "       &#x27;Zdr_5x5_10th&#x27;, &#x27;Zdr_5x5_50th&#x27;, &#x27;Zdr_5x5_90th&#x27;, &#x27;Kdp&#x27;, &#x27;Kdp_5x5_10th&#x27;,\n",
       "       &#x27;Kdp_5x5_50th&#x27;, &#x27;Kdp_5x5_90th&#x27;],\n",
       "      dtype=&#x27;object&#x27;)</pre></div></div></div><div class=\"sk-serial\"><div class=\"sk-item\"><div class=\"sk-serial\"><div class=\"sk-item\"><div class=\"sk-estimator sk-toggleable\"><input class=\"sk-toggleable__control sk-hidden--visually\" id=\"sk-estimator-id-18\" type=\"checkbox\" ><label for=\"sk-estimator-id-18\" class=\"sk-toggleable__label sk-toggleable__label-arrow\">SimpleImputer</label><div class=\"sk-toggleable__content\"><pre>SimpleImputer()</pre></div></div></div><div class=\"sk-item\"><div class=\"sk-estimator sk-toggleable\"><input class=\"sk-toggleable__control sk-hidden--visually\" id=\"sk-estimator-id-19\" type=\"checkbox\" ><label for=\"sk-estimator-id-19\" class=\"sk-toggleable__label sk-toggleable__label-arrow\">StandardScaler</label><div class=\"sk-toggleable__content\"><pre>StandardScaler()</pre></div></div></div></div></div></div></div></div></div></div><div class=\"sk-item\"><div class=\"sk-estimator sk-toggleable\"><input class=\"sk-toggleable__control sk-hidden--visually\" id=\"sk-estimator-id-20\" type=\"checkbox\" ><label for=\"sk-estimator-id-20\" class=\"sk-toggleable__label sk-toggleable__label-arrow\">GradientBoostingRegressor</label><div class=\"sk-toggleable__content\"><pre>GradientBoostingRegressor()</pre></div></div></div></div></div></div></div></div></div></div></div></div>"
      ],
      "text/plain": [
       "TransformedTargetRegressor(func=<ufunc 'log'>, inverse_func=<ufunc 'exp'>,\n",
       "                           regressor=Pipeline(steps=[('prep_data',\n",
       "                                                      ColumnTransformer(transformers=[('num',\n",
       "                                                                                       Pipeline(steps=[('impute',\n",
       "                                                                                                        SimpleImputer()),\n",
       "                                                                                                       ('std_num',\n",
       "                                                                                                        StandardScaler())]),\n",
       "                                                                                       Index(['minutes_past', 'radardist_km', 'Ref', 'Ref_5x5_10th', 'Ref_5x5_50th',\n",
       "       'Ref_5x5_90th', 'RefComposite', 'RefComposite_5x5_10th',\n",
       "       'RefComposite_5x5_50th', 'RefComposite_5x5_90th', 'RhoHV',\n",
       "       'RhoHV_5x5_10th', 'RhoHV_5x5_50th', 'RhoHV_5x5_90th', 'Zdr',\n",
       "       'Zdr_5x5_10th', 'Zdr_5x5_50th', 'Zdr_5x5_90th', 'Kdp', 'Kdp_5x5_10th',\n",
       "       'Kdp_5x5_50th', 'Kdp_5x5_90th'],\n",
       "      dtype='object'))])),\n",
       "                                                     ('model',\n",
       "                                                      GradientBoostingRegressor())]))"
      ]
     },
     "execution_count": 15,
     "metadata": {},
     "output_type": "execute_result"
    }
   ],
   "source": [
    "pipe_y.fit(X_train, y_train)"
   ]
  },
  {
   "cell_type": "code",
   "execution_count": 16,
   "id": "bba4bf25",
   "metadata": {},
   "outputs": [],
   "source": [
    "y_pred = pipe_y.predict(X_val)"
   ]
  },
  {
   "cell_type": "code",
   "execution_count": 17,
   "id": "ac1f281a",
   "metadata": {},
   "outputs": [
    {
     "data": {
      "text/plain": [
       "array([ 1.25964345,  1.21053593, 12.73632794, ...,  0.59254205,\n",
       "        1.54344519, 17.77627929])"
      ]
     },
     "execution_count": 17,
     "metadata": {},
     "output_type": "execute_result"
    }
   ],
   "source": [
    "y_pred"
   ]
  },
  {
   "cell_type": "code",
   "execution_count": 18,
   "id": "4ff070c4",
   "metadata": {},
   "outputs": [
    {
     "data": {
      "text/plain": [
       "131.54137462832404"
      ]
     },
     "execution_count": 18,
     "metadata": {},
     "output_type": "execute_result"
    }
   ],
   "source": [
    "mean_absolute_error(y_val, y_pred)"
   ]
  },
  {
   "cell_type": "markdown",
   "id": "edbbf775",
   "metadata": {},
   "source": [
    "### Faça a busca por hiperparametros , escolha o melhor"
   ]
  },
  {
   "cell_type": "code",
   "execution_count": 21,
   "id": "58294ff3",
   "metadata": {},
   "outputs": [],
   "source": [
    "modelos = (\n",
    "    Ridge(),\n",
    "    GradientBoostingRegressor(),\n",
    "    RandomForestRegressor(),\n",
    "    DecisionTreeRegressor(),\n",
    "    SVR(),\n",
    "    MLPRegressor((100,500,300,30,3,))\n",
    ")"
   ]
  },
  {
   "cell_type": "code",
   "execution_count": 25,
   "id": "ec856919",
   "metadata": {},
   "outputs": [
    {
     "name": "stdout",
     "output_type": "stream",
     "text": [
      "Ridge()\n",
      "model: score: 620.2499509931723\n",
      "GradientBoostingRegressor()\n",
      "model: score: 620.2499509931723\n",
      "RandomForestRegressor()\n",
      "model: score: 620.2499509931723\n",
      "DecisionTreeRegressor()\n",
      "model: score: 620.2499509931723\n",
      "SVR()\n",
      "model: score: 620.2499509931723\n",
      "MLPRegressor(hidden_layer_sizes=(100, 500, 300, 30, 3))\n",
      "model: score: 620.2499509931723\n"
     ]
    }
   ],
   "source": [
    "for model in modelos:\n",
    "    pipe_X = Pipeline(\n",
    "    [\n",
    "        ('prep_data', ColumnTransformer([\n",
    "            ('num', Pipeline([\n",
    "                ('impute', SimpleImputer(missing_values=np.nan, strategy='mean')),\n",
    "                ('std_num', StandardScaler())\n",
    "            ]), columns),\n",
    "        ])),\n",
    "        ('model', GradientBoostingRegressor()),\n",
    "\n",
    "    ])\n",
    "    \n",
    "    pipe_y = TransformedTargetRegressor(\n",
    "        regressor=pipe_X,\n",
    "        func=np.log, inverse_func=np.exp)\n",
    "    \n",
    "    pipe_y.fit(X_train, y_train)\n",
    "    y_pred = pipe_y.predict(X_val)\n",
    "    scor = mean_squared_error(y_val, y_pred, squared=False)\n",
    "    print(model)\n",
    "    print(f\"model: score: {scor}\")"
   ]
  },
  {
   "cell_type": "code",
   "execution_count": null,
   "id": "5602c370",
   "metadata": {},
   "outputs": [],
   "source": []
  }
 ],
 "metadata": {
  "kernelspec": {
   "display_name": "Python 3 (ipykernel)",
   "language": "python",
   "name": "python3"
  },
  "language_info": {
   "codemirror_mode": {
    "name": "ipython",
    "version": 3
   },
   "file_extension": ".py",
   "mimetype": "text/x-python",
   "name": "python",
   "nbconvert_exporter": "python",
   "pygments_lexer": "ipython3",
   "version": "3.9.7"
  }
 },
 "nbformat": 4,
 "nbformat_minor": 5
}
