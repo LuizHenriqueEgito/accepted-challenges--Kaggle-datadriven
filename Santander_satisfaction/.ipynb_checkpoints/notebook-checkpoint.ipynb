{
 "cells": [
  {
   "cell_type": "code",
   "execution_count": 1,
   "id": "7ddc107d",
   "metadata": {},
   "outputs": [],
   "source": [
    "from pathlib import Path\n",
    "import pandas as pd\n",
    "import matplotlib.pyplot as plt\n",
    "import numpy as np\n",
    "from sklearn.feature_selection import VarianceThreshold, SelectKBest\n",
    "from sklearn.model_selection import train_test_split\n",
    "from sklearn.pipeline import Pipeline\n",
    "from sklearn.compose import ColumnTransformer\n",
    "from sklearn.preprocessing import (\n",
    "    StandardScaler,\n",
    "    QuantileTransformer\n",
    ")\n",
    "from sklearn.decomposition import PCA\n",
    "from utils import CorrRemover\n",
    "from sklearn.linear_model import LogisticRegression\n",
    "from sklearn.discriminant_analysis import LinearDiscriminantAnalysis\n",
    "from sklearn.metrics import classification_report\n",
    "from sklearn.metrics import confusion_matrix\n",
    "from sklearn.model_selection import GridSearchCV"
   ]
  },
  {
   "cell_type": "code",
   "execution_count": 2,
   "id": "8438ccaf",
   "metadata": {},
   "outputs": [],
   "source": [
    "train_file = Path('../data/santander_satisfaction/train.csv') \n",
    "test_file = Path('../data/santander_satisfaction/test.csv')"
   ]
  },
  {
   "cell_type": "code",
   "execution_count": 3,
   "id": "e214f6b8",
   "metadata": {},
   "outputs": [],
   "source": [
    "df_train = pd.read_csv(train_file)\n",
    "df_test = pd.read_csv(test_file)"
   ]
  },
  {
   "cell_type": "code",
   "execution_count": 4,
   "id": "971d6249",
   "metadata": {},
   "outputs": [],
   "source": [
    "def prep_data(data: pd.DataFrame) -> pd.DataFrame:\n",
    "    data = data.set_index('ID')\n",
    "    return data"
   ]
  },
  {
   "cell_type": "code",
   "execution_count": 5,
   "id": "df9997eb",
   "metadata": {},
   "outputs": [
    {
     "data": {
      "text/html": [
       "<div>\n",
       "<style scoped>\n",
       "    .dataframe tbody tr th:only-of-type {\n",
       "        vertical-align: middle;\n",
       "    }\n",
       "\n",
       "    .dataframe tbody tr th {\n",
       "        vertical-align: top;\n",
       "    }\n",
       "\n",
       "    .dataframe thead th {\n",
       "        text-align: right;\n",
       "    }\n",
       "</style>\n",
       "<table border=\"1\" class=\"dataframe\">\n",
       "  <thead>\n",
       "    <tr style=\"text-align: right;\">\n",
       "      <th></th>\n",
       "      <th>ID</th>\n",
       "      <th>var3</th>\n",
       "      <th>var15</th>\n",
       "      <th>imp_ent_var16_ult1</th>\n",
       "      <th>imp_op_var39_comer_ult1</th>\n",
       "      <th>imp_op_var39_comer_ult3</th>\n",
       "      <th>imp_op_var40_comer_ult1</th>\n",
       "      <th>imp_op_var40_comer_ult3</th>\n",
       "      <th>imp_op_var40_efect_ult1</th>\n",
       "      <th>imp_op_var40_efect_ult3</th>\n",
       "      <th>...</th>\n",
       "      <th>saldo_medio_var33_hace2</th>\n",
       "      <th>saldo_medio_var33_hace3</th>\n",
       "      <th>saldo_medio_var33_ult1</th>\n",
       "      <th>saldo_medio_var33_ult3</th>\n",
       "      <th>saldo_medio_var44_hace2</th>\n",
       "      <th>saldo_medio_var44_hace3</th>\n",
       "      <th>saldo_medio_var44_ult1</th>\n",
       "      <th>saldo_medio_var44_ult3</th>\n",
       "      <th>var38</th>\n",
       "      <th>TARGET</th>\n",
       "    </tr>\n",
       "  </thead>\n",
       "  <tbody>\n",
       "    <tr>\n",
       "      <th>count</th>\n",
       "      <td>76020.000000</td>\n",
       "      <td>76020.000000</td>\n",
       "      <td>76020.000000</td>\n",
       "      <td>76020.000000</td>\n",
       "      <td>76020.000000</td>\n",
       "      <td>76020.000000</td>\n",
       "      <td>76020.000000</td>\n",
       "      <td>76020.000000</td>\n",
       "      <td>76020.000000</td>\n",
       "      <td>76020.000000</td>\n",
       "      <td>...</td>\n",
       "      <td>76020.000000</td>\n",
       "      <td>76020.000000</td>\n",
       "      <td>76020.000000</td>\n",
       "      <td>76020.000000</td>\n",
       "      <td>76020.000000</td>\n",
       "      <td>76020.000000</td>\n",
       "      <td>76020.000000</td>\n",
       "      <td>76020.000000</td>\n",
       "      <td>7.602000e+04</td>\n",
       "      <td>76020.000000</td>\n",
       "    </tr>\n",
       "    <tr>\n",
       "      <th>mean</th>\n",
       "      <td>75964.050723</td>\n",
       "      <td>-1523.199277</td>\n",
       "      <td>33.212865</td>\n",
       "      <td>86.208265</td>\n",
       "      <td>72.363067</td>\n",
       "      <td>119.529632</td>\n",
       "      <td>3.559130</td>\n",
       "      <td>6.472698</td>\n",
       "      <td>0.412946</td>\n",
       "      <td>0.567352</td>\n",
       "      <td>...</td>\n",
       "      <td>7.935824</td>\n",
       "      <td>1.365146</td>\n",
       "      <td>12.215580</td>\n",
       "      <td>8.784074</td>\n",
       "      <td>31.505324</td>\n",
       "      <td>1.858575</td>\n",
       "      <td>76.026165</td>\n",
       "      <td>56.614351</td>\n",
       "      <td>1.172358e+05</td>\n",
       "      <td>0.039569</td>\n",
       "    </tr>\n",
       "    <tr>\n",
       "      <th>std</th>\n",
       "      <td>43781.947379</td>\n",
       "      <td>39033.462364</td>\n",
       "      <td>12.956486</td>\n",
       "      <td>1614.757313</td>\n",
       "      <td>339.315831</td>\n",
       "      <td>546.266294</td>\n",
       "      <td>93.155749</td>\n",
       "      <td>153.737066</td>\n",
       "      <td>30.604864</td>\n",
       "      <td>36.513513</td>\n",
       "      <td>...</td>\n",
       "      <td>455.887218</td>\n",
       "      <td>113.959637</td>\n",
       "      <td>783.207399</td>\n",
       "      <td>538.439211</td>\n",
       "      <td>2013.125393</td>\n",
       "      <td>147.786584</td>\n",
       "      <td>4040.337842</td>\n",
       "      <td>2852.579397</td>\n",
       "      <td>1.826646e+05</td>\n",
       "      <td>0.194945</td>\n",
       "    </tr>\n",
       "    <tr>\n",
       "      <th>min</th>\n",
       "      <td>1.000000</td>\n",
       "      <td>-999999.000000</td>\n",
       "      <td>5.000000</td>\n",
       "      <td>0.000000</td>\n",
       "      <td>0.000000</td>\n",
       "      <td>0.000000</td>\n",
       "      <td>0.000000</td>\n",
       "      <td>0.000000</td>\n",
       "      <td>0.000000</td>\n",
       "      <td>0.000000</td>\n",
       "      <td>...</td>\n",
       "      <td>0.000000</td>\n",
       "      <td>0.000000</td>\n",
       "      <td>0.000000</td>\n",
       "      <td>0.000000</td>\n",
       "      <td>0.000000</td>\n",
       "      <td>0.000000</td>\n",
       "      <td>0.000000</td>\n",
       "      <td>0.000000</td>\n",
       "      <td>5.163750e+03</td>\n",
       "      <td>0.000000</td>\n",
       "    </tr>\n",
       "    <tr>\n",
       "      <th>25%</th>\n",
       "      <td>38104.750000</td>\n",
       "      <td>2.000000</td>\n",
       "      <td>23.000000</td>\n",
       "      <td>0.000000</td>\n",
       "      <td>0.000000</td>\n",
       "      <td>0.000000</td>\n",
       "      <td>0.000000</td>\n",
       "      <td>0.000000</td>\n",
       "      <td>0.000000</td>\n",
       "      <td>0.000000</td>\n",
       "      <td>...</td>\n",
       "      <td>0.000000</td>\n",
       "      <td>0.000000</td>\n",
       "      <td>0.000000</td>\n",
       "      <td>0.000000</td>\n",
       "      <td>0.000000</td>\n",
       "      <td>0.000000</td>\n",
       "      <td>0.000000</td>\n",
       "      <td>0.000000</td>\n",
       "      <td>6.787061e+04</td>\n",
       "      <td>0.000000</td>\n",
       "    </tr>\n",
       "    <tr>\n",
       "      <th>50%</th>\n",
       "      <td>76043.000000</td>\n",
       "      <td>2.000000</td>\n",
       "      <td>28.000000</td>\n",
       "      <td>0.000000</td>\n",
       "      <td>0.000000</td>\n",
       "      <td>0.000000</td>\n",
       "      <td>0.000000</td>\n",
       "      <td>0.000000</td>\n",
       "      <td>0.000000</td>\n",
       "      <td>0.000000</td>\n",
       "      <td>...</td>\n",
       "      <td>0.000000</td>\n",
       "      <td>0.000000</td>\n",
       "      <td>0.000000</td>\n",
       "      <td>0.000000</td>\n",
       "      <td>0.000000</td>\n",
       "      <td>0.000000</td>\n",
       "      <td>0.000000</td>\n",
       "      <td>0.000000</td>\n",
       "      <td>1.064092e+05</td>\n",
       "      <td>0.000000</td>\n",
       "    </tr>\n",
       "    <tr>\n",
       "      <th>75%</th>\n",
       "      <td>113748.750000</td>\n",
       "      <td>2.000000</td>\n",
       "      <td>40.000000</td>\n",
       "      <td>0.000000</td>\n",
       "      <td>0.000000</td>\n",
       "      <td>0.000000</td>\n",
       "      <td>0.000000</td>\n",
       "      <td>0.000000</td>\n",
       "      <td>0.000000</td>\n",
       "      <td>0.000000</td>\n",
       "      <td>...</td>\n",
       "      <td>0.000000</td>\n",
       "      <td>0.000000</td>\n",
       "      <td>0.000000</td>\n",
       "      <td>0.000000</td>\n",
       "      <td>0.000000</td>\n",
       "      <td>0.000000</td>\n",
       "      <td>0.000000</td>\n",
       "      <td>0.000000</td>\n",
       "      <td>1.187563e+05</td>\n",
       "      <td>0.000000</td>\n",
       "    </tr>\n",
       "    <tr>\n",
       "      <th>max</th>\n",
       "      <td>151838.000000</td>\n",
       "      <td>238.000000</td>\n",
       "      <td>105.000000</td>\n",
       "      <td>210000.000000</td>\n",
       "      <td>12888.030000</td>\n",
       "      <td>21024.810000</td>\n",
       "      <td>8237.820000</td>\n",
       "      <td>11073.570000</td>\n",
       "      <td>6600.000000</td>\n",
       "      <td>6600.000000</td>\n",
       "      <td>...</td>\n",
       "      <td>50003.880000</td>\n",
       "      <td>20385.720000</td>\n",
       "      <td>138831.630000</td>\n",
       "      <td>91778.730000</td>\n",
       "      <td>438329.220000</td>\n",
       "      <td>24650.010000</td>\n",
       "      <td>681462.900000</td>\n",
       "      <td>397884.300000</td>\n",
       "      <td>2.203474e+07</td>\n",
       "      <td>1.000000</td>\n",
       "    </tr>\n",
       "  </tbody>\n",
       "</table>\n",
       "<p>8 rows × 371 columns</p>\n",
       "</div>"
      ],
      "text/plain": [
       "                  ID           var3         var15  imp_ent_var16_ult1  \\\n",
       "count   76020.000000   76020.000000  76020.000000        76020.000000   \n",
       "mean    75964.050723   -1523.199277     33.212865           86.208265   \n",
       "std     43781.947379   39033.462364     12.956486         1614.757313   \n",
       "min         1.000000 -999999.000000      5.000000            0.000000   \n",
       "25%     38104.750000       2.000000     23.000000            0.000000   \n",
       "50%     76043.000000       2.000000     28.000000            0.000000   \n",
       "75%    113748.750000       2.000000     40.000000            0.000000   \n",
       "max    151838.000000     238.000000    105.000000       210000.000000   \n",
       "\n",
       "       imp_op_var39_comer_ult1  imp_op_var39_comer_ult3  \\\n",
       "count             76020.000000             76020.000000   \n",
       "mean                 72.363067               119.529632   \n",
       "std                 339.315831               546.266294   \n",
       "min                   0.000000                 0.000000   \n",
       "25%                   0.000000                 0.000000   \n",
       "50%                   0.000000                 0.000000   \n",
       "75%                   0.000000                 0.000000   \n",
       "max               12888.030000             21024.810000   \n",
       "\n",
       "       imp_op_var40_comer_ult1  imp_op_var40_comer_ult3  \\\n",
       "count             76020.000000             76020.000000   \n",
       "mean                  3.559130                 6.472698   \n",
       "std                  93.155749               153.737066   \n",
       "min                   0.000000                 0.000000   \n",
       "25%                   0.000000                 0.000000   \n",
       "50%                   0.000000                 0.000000   \n",
       "75%                   0.000000                 0.000000   \n",
       "max                8237.820000             11073.570000   \n",
       "\n",
       "       imp_op_var40_efect_ult1  imp_op_var40_efect_ult3  ...  \\\n",
       "count             76020.000000             76020.000000  ...   \n",
       "mean                  0.412946                 0.567352  ...   \n",
       "std                  30.604864                36.513513  ...   \n",
       "min                   0.000000                 0.000000  ...   \n",
       "25%                   0.000000                 0.000000  ...   \n",
       "50%                   0.000000                 0.000000  ...   \n",
       "75%                   0.000000                 0.000000  ...   \n",
       "max                6600.000000              6600.000000  ...   \n",
       "\n",
       "       saldo_medio_var33_hace2  saldo_medio_var33_hace3  \\\n",
       "count             76020.000000             76020.000000   \n",
       "mean                  7.935824                 1.365146   \n",
       "std                 455.887218               113.959637   \n",
       "min                   0.000000                 0.000000   \n",
       "25%                   0.000000                 0.000000   \n",
       "50%                   0.000000                 0.000000   \n",
       "75%                   0.000000                 0.000000   \n",
       "max               50003.880000             20385.720000   \n",
       "\n",
       "       saldo_medio_var33_ult1  saldo_medio_var33_ult3  \\\n",
       "count            76020.000000            76020.000000   \n",
       "mean                12.215580                8.784074   \n",
       "std                783.207399              538.439211   \n",
       "min                  0.000000                0.000000   \n",
       "25%                  0.000000                0.000000   \n",
       "50%                  0.000000                0.000000   \n",
       "75%                  0.000000                0.000000   \n",
       "max             138831.630000            91778.730000   \n",
       "\n",
       "       saldo_medio_var44_hace2  saldo_medio_var44_hace3  \\\n",
       "count             76020.000000             76020.000000   \n",
       "mean                 31.505324                 1.858575   \n",
       "std                2013.125393               147.786584   \n",
       "min                   0.000000                 0.000000   \n",
       "25%                   0.000000                 0.000000   \n",
       "50%                   0.000000                 0.000000   \n",
       "75%                   0.000000                 0.000000   \n",
       "max              438329.220000             24650.010000   \n",
       "\n",
       "       saldo_medio_var44_ult1  saldo_medio_var44_ult3         var38  \\\n",
       "count            76020.000000            76020.000000  7.602000e+04   \n",
       "mean                76.026165               56.614351  1.172358e+05   \n",
       "std               4040.337842             2852.579397  1.826646e+05   \n",
       "min                  0.000000                0.000000  5.163750e+03   \n",
       "25%                  0.000000                0.000000  6.787061e+04   \n",
       "50%                  0.000000                0.000000  1.064092e+05   \n",
       "75%                  0.000000                0.000000  1.187563e+05   \n",
       "max             681462.900000           397884.300000  2.203474e+07   \n",
       "\n",
       "             TARGET  \n",
       "count  76020.000000  \n",
       "mean       0.039569  \n",
       "std        0.194945  \n",
       "min        0.000000  \n",
       "25%        0.000000  \n",
       "50%        0.000000  \n",
       "75%        0.000000  \n",
       "max        1.000000  \n",
       "\n",
       "[8 rows x 371 columns]"
      ]
     },
     "execution_count": 5,
     "metadata": {},
     "output_type": "execute_result"
    }
   ],
   "source": [
    "df_train.describe()"
   ]
  },
  {
   "cell_type": "code",
   "execution_count": 6,
   "id": "536130a3",
   "metadata": {},
   "outputs": [],
   "source": [
    "X = df_train.drop('TARGET', axis=1)\n",
    "y = df_train.TARGET"
   ]
  },
  {
   "cell_type": "code",
   "execution_count": 7,
   "id": "a7fdc1ee",
   "metadata": {},
   "outputs": [],
   "source": [
    "X_train, X_val, y_train, y_val = train_test_split(X, y, test_size=.3, stratify=y)"
   ]
  },
  {
   "cell_type": "code",
   "execution_count": 8,
   "id": "407198b3",
   "metadata": {},
   "outputs": [],
   "source": [
    "X_train = prep_data(X_train)\n",
    "X_val = prep_data(X_val)"
   ]
  },
  {
   "cell_type": "code",
   "execution_count": 9,
   "id": "b5bacbfc",
   "metadata": {},
   "outputs": [],
   "source": [
    "all_cols = list(X_train.columns)\n",
    "\n",
    "pipe = Pipeline([\n",
    "    ('variance', VarianceThreshold(threshold=(.9 * (1 - .9)))),\n",
    "    ('corr', CorrRemover(threshold=0.9)),\n",
    "    ('pca', PCA(0.95)),\n",
    "    ('scaler', StandardScaler()),\n",
    "    ('quantile', QuantileTransformer(output_distribution='normal'))\n",
    "    ])\n",
    "\n",
    "preprocess = ColumnTransformer([\n",
    "    (\"preprocess\", pipe, all_cols),\n",
    "])\n",
    "\n",
    "pipe = Pipeline([\n",
    "    (\"preprocess\", pipe)\n",
    "#     (\"feat_select\", feat_select),\n",
    "#     (\"model\", DummyClassifier())\n",
    "])"
   ]
  },
  {
   "cell_type": "code",
   "execution_count": 10,
   "id": "27207e3c",
   "metadata": {},
   "outputs": [],
   "source": [
    "X_train = pipe.fit_transform(X_train)"
   ]
  },
  {
   "cell_type": "code",
   "execution_count": 11,
   "id": "e8aa4cc0",
   "metadata": {},
   "outputs": [
    {
     "data": {
      "text/plain": [
       "(53214, 6)"
      ]
     },
     "execution_count": 11,
     "metadata": {},
     "output_type": "execute_result"
    }
   ],
   "source": [
    "X_train.shape"
   ]
  },
  {
   "cell_type": "code",
   "execution_count": 12,
   "id": "f356cec8",
   "metadata": {},
   "outputs": [
    {
     "data": {
      "text/plain": [
       "array([[-0.11859708, -0.06089354, -0.01433593, -0.07025804,  0.03620807,\n",
       "         0.06595565],\n",
       "       [-0.93779174, -0.92805548, -0.88292332, -0.91781494, -0.86348906,\n",
       "        -0.78713843],\n",
       "       [ 0.66418995,  0.78625306,  0.86578514,  0.74458327,  0.96338097,\n",
       "         0.98209244],\n",
       "       ...,\n",
       "       [ 5.19933758,  3.08993515, -3.41037558,  4.09634358, -3.08440309,\n",
       "         3.08761964],\n",
       "       [-0.16227744, -0.36113584, -0.29856534, -0.33262588, -0.33096057,\n",
       "        -0.25856158],\n",
       "       [ 0.07786186,  0.15239059,  0.17252995,  0.05774223,  0.19568683,\n",
       "         0.28297779]])"
      ]
     },
     "execution_count": 12,
     "metadata": {},
     "output_type": "execute_result"
    }
   ],
   "source": [
    "X_train"
   ]
  },
  {
   "cell_type": "code",
   "execution_count": 13,
   "id": "252fba72",
   "metadata": {},
   "outputs": [
    {
     "data": {
      "text/plain": [
       "array([-0.11859708, -0.93779174,  0.66418995, ...,  5.19933758,\n",
       "       -0.16227744,  0.07786186])"
      ]
     },
     "execution_count": 13,
     "metadata": {},
     "output_type": "execute_result"
    }
   ],
   "source": [
    "X_train[:,0]"
   ]
  },
  {
   "cell_type": "code",
   "execution_count": 14,
   "id": "a22ba699",
   "metadata": {},
   "outputs": [
    {
     "data": {
      "text/plain": [
       "0    0.960431\n",
       "1    0.039569\n",
       "Name: TARGET, dtype: float64"
      ]
     },
     "execution_count": 14,
     "metadata": {},
     "output_type": "execute_result"
    }
   ],
   "source": [
    "y.value_counts(normalize=True)"
   ]
  },
  {
   "cell_type": "code",
   "execution_count": 15,
   "id": "bc567724",
   "metadata": {},
   "outputs": [],
   "source": [
    "# Vamos fazer um gráfico para ver os dados em duas dimensões\n",
    "def graph(x, y):\n",
    "    dim = PCA(2)\n",
    "    x = dim.fit_transform(x)\n",
    "    x1 = x[:, 0]\n",
    "    x2 = x[:, 1]\n",
    "    fig, ax = plt.subplots()\n",
    "    return ax.scatter(x1, x2, c=y)"
   ]
  },
  {
   "cell_type": "code",
   "execution_count": 16,
   "id": "5699d496",
   "metadata": {},
   "outputs": [
    {
     "data": {
      "text/plain": [
       "<matplotlib.collections.PathCollection at 0x1f18be35ca0>"
      ]
     },
     "execution_count": 16,
     "metadata": {},
     "output_type": "execute_result"
    },
    {
     "data": {
      "image/png": "[encoded data removed]",
      "text/plain": [
       "<Figure size 432x288 with 1 Axes>"
      ]
     },
     "metadata": {
      "needs_background": "light"
     },
     "output_type": "display_data"
    }
   ],
   "source": [
    "# como podemos ver as classes não estão bem separaveis então provavelmente teremos resultados não muito bons\n",
    "graph(X_train, y_train)"
   ]
  },
  {
   "cell_type": "code",
   "execution_count": 17,
   "id": "5269a567",
   "metadata": {},
   "outputs": [],
   "source": [
    "# Fazendo um modelo v0\n",
    "reg_log = LogisticRegression(verbose=2, class_weight={0:1, 1:10})"
   ]
  },
  {
   "cell_type": "code",
   "execution_count": 18,
   "id": "bed0340e",
   "metadata": {},
   "outputs": [
    {
     "name": "stderr",
     "output_type": "stream",
     "text": [
      "[Parallel(n_jobs=1)]: Using backend SequentialBackend with 1 concurrent workers.\n",
      "[Parallel(n_jobs=1)]: Done   1 out of   1 | elapsed:    0.1s remaining:    0.0s\n",
      "[Parallel(n_jobs=1)]: Done   1 out of   1 | elapsed:    0.1s finished\n"
     ]
    },
    {
     "data": {
      "text/html": [
       "<style>#sk-container-id-1 {color: black;background-color: white;}#sk-container-id-1 pre{padding: 0;}#sk-container-id-1 div.sk-toggleable {background-color: white;}#sk-container-id-1 label.sk-toggleable__label {cursor: pointer;display: block;width: 100%;margin-bottom: 0;padding: 0.3em;box-sizing: border-box;text-align: center;}#sk-container-id-1 label.sk-toggleable__label-arrow:before {content: \"▸\";float: left;margin-right: 0.25em;color: #696969;}#sk-container-id-1 label.sk-toggleable__label-arrow:hover:before {color: black;}#sk-container-id-1 div.sk-estimator:hover label.sk-toggleable__label-arrow:before {color: black;}#sk-container-id-1 div.sk-toggleable__content {max-height: 0;max-width: 0;overflow: hidden;text-align: left;background-color: #f0f8ff;}#sk-container-id-1 div.sk-toggleable__content pre {margin: 0.2em;color: black;border-radius: 0.25em;background-color: #f0f8ff;}#sk-container-id-1 input.sk-toggleable__control:checked~div.sk-toggleable__content {max-height: 200px;max-width: 100%;overflow: auto;}#sk-container-id-1 input.sk-toggleable__control:checked~label.sk-toggleable__label-arrow:before {content: \"▾\";}#sk-container-id-1 div.sk-estimator input.sk-toggleable__control:checked~label.sk-toggleable__label {background-color: #d4ebff;}#sk-container-id-1 div.sk-label input.sk-toggleable__control:checked~label.sk-toggleable__label {background-color: #d4ebff;}#sk-container-id-1 input.sk-hidden--visually {border: 0;clip: rect(1px 1px 1px 1px);clip: rect(1px, 1px, 1px, 1px);height: 1px;margin: -1px;overflow: hidden;padding: 0;position: absolute;width: 1px;}#sk-container-id-1 div.sk-estimator {font-family: monospace;background-color: #f0f8ff;border: 1px dotted black;border-radius: 0.25em;box-sizing: border-box;margin-bottom: 0.5em;}#sk-container-id-1 div.sk-estimator:hover {background-color: #d4ebff;}#sk-container-id-1 div.sk-parallel-item::after {content: \"\";width: 100%;border-bottom: 1px solid gray;flex-grow: 1;}#sk-container-id-1 div.sk-label:hover label.sk-toggleable__label {background-color: #d4ebff;}#sk-container-id-1 div.sk-serial::before {content: \"\";position: absolute;border-left: 1px solid gray;box-sizing: border-box;top: 0;bottom: 0;left: 50%;z-index: 0;}#sk-container-id-1 div.sk-serial {display: flex;flex-direction: column;align-items: center;background-color: white;padding-right: 0.2em;padding-left: 0.2em;position: relative;}#sk-container-id-1 div.sk-item {position: relative;z-index: 1;}#sk-container-id-1 div.sk-parallel {display: flex;align-items: stretch;justify-content: center;background-color: white;position: relative;}#sk-container-id-1 div.sk-item::before, #sk-container-id-1 div.sk-parallel-item::before {content: \"\";position: absolute;border-left: 1px solid gray;box-sizing: border-box;top: 0;bottom: 0;left: 50%;z-index: -1;}#sk-container-id-1 div.sk-parallel-item {display: flex;flex-direction: column;z-index: 1;position: relative;background-color: white;}#sk-container-id-1 div.sk-parallel-item:first-child::after {align-self: flex-end;width: 50%;}#sk-container-id-1 div.sk-parallel-item:last-child::after {align-self: flex-start;width: 50%;}#sk-container-id-1 div.sk-parallel-item:only-child::after {width: 0;}#sk-container-id-1 div.sk-dashed-wrapped {border: 1px dashed gray;margin: 0 0.4em 0.5em 0.4em;box-sizing: border-box;padding-bottom: 0.4em;background-color: white;}#sk-container-id-1 div.sk-label label {font-family: monospace;font-weight: bold;display: inline-block;line-height: 1.2em;}#sk-container-id-1 div.sk-label-container {text-align: center;}#sk-container-id-1 div.sk-container {/* jupyter's `normalize.less` sets `[hidden] { display: none; }` but bootstrap.min.css set `[hidden] { display: none !important; }` so we also need the `!important` here to be able to override the default hidden behavior on the sphinx rendered scikit-learn.org. See: https://github.com/scikit-learn/scikit-learn/issues/21755 */display: inline-block !important;position: relative;}#sk-container-id-1 div.sk-text-repr-fallback {display: none;}</style><div id=\"sk-container-id-1\" class=\"sk-top-container\"><div class=\"sk-text-repr-fallback\"><pre>LogisticRegression(class_weight={0: 1, 1: 10}, verbose=2)</pre><b>In a Jupyter environment, please rerun this cell to show the HTML representation or trust the notebook. <br />On GitHub, the HTML representation is unable to render, please try loading this page with nbviewer.org.</b></div><div class=\"sk-container\" hidden><div class=\"sk-item\"><div class=\"sk-estimator sk-toggleable\"><input class=\"sk-toggleable__control sk-hidden--visually\" id=\"sk-estimator-id-1\" type=\"checkbox\" checked><label for=\"sk-estimator-id-1\" class=\"sk-toggleable__label sk-toggleable__label-arrow\">LogisticRegression</label><div class=\"sk-toggleable__content\"><pre>LogisticRegression(class_weight={0: 1, 1: 10}, verbose=2)</pre></div></div></div></div></div>"
      ],
      "text/plain": [
       "LogisticRegression(class_weight={0: 1, 1: 10}, verbose=2)"
      ]
     },
     "execution_count": 18,
     "metadata": {},
     "output_type": "execute_result"
    }
   ],
   "source": [
    "reg_log.fit(X_train, y_train, )"
   ]
  },
  {
   "cell_type": "code",
   "execution_count": 19,
   "id": "8964c4f9",
   "metadata": {},
   "outputs": [],
   "source": [
    "X_val = pipe.transform(X_val)"
   ]
  },
  {
   "cell_type": "code",
   "execution_count": 20,
   "id": "6e8b2485",
   "metadata": {},
   "outputs": [],
   "source": [
    "y_pred_v0 = reg_log.predict(X_val)"
   ]
  },
  {
   "cell_type": "code",
   "execution_count": 21,
   "id": "29779e0f",
   "metadata": {},
   "outputs": [
    {
     "name": "stdout",
     "output_type": "stream",
     "text": [
      "              precision    recall  f1-score   support\n",
      "\n",
      "           0       0.96      0.99      0.98     21904\n",
      "           1       0.06      0.01      0.02       902\n",
      "\n",
      "    accuracy                           0.95     22806\n",
      "   macro avg       0.51      0.50      0.50     22806\n",
      "weighted avg       0.93      0.95      0.94     22806\n",
      "\n"
     ]
    }
   ],
   "source": [
    "# muito ruim para a classe 1\n",
    "print(classification_report(y_val, y_pred_v0))"
   ]
  },
  {
   "cell_type": "markdown",
   "id": "f33e65ba",
   "metadata": {},
   "source": [
    "# Steps\n",
    "- [ ] Use GridSearch para variar o n_components do LDA e o class_weight \n",
    "- [ ] no GridSearch busque a melhora do f1 score"
   ]
  },
  {
   "cell_type": "code",
   "execution_count": 22,
   "id": "665219ac",
   "metadata": {},
   "outputs": [],
   "source": [
    "steps = [\n",
    "    ('lda', LinearDiscriminantAnalysis()),\n",
    "    ('estimator', LogisticRegression())\n",
    "]\n",
    "model = Pipeline(steps=steps)"
   ]
  },
  {
   "cell_type": "code",
   "execution_count": 23,
   "id": "55e149c0",
   "metadata": {},
   "outputs": [
    {
     "data": {
      "text/html": [
       "<style>#sk-container-id-2 {color: black;background-color: white;}#sk-container-id-2 pre{padding: 0;}#sk-container-id-2 div.sk-toggleable {background-color: white;}#sk-container-id-2 label.sk-toggleable__label {cursor: pointer;display: block;width: 100%;margin-bottom: 0;padding: 0.3em;box-sizing: border-box;text-align: center;}#sk-container-id-2 label.sk-toggleable__label-arrow:before {content: \"▸\";float: left;margin-right: 0.25em;color: #696969;}#sk-container-id-2 label.sk-toggleable__label-arrow:hover:before {color: black;}#sk-container-id-2 div.sk-estimator:hover label.sk-toggleable__label-arrow:before {color: black;}#sk-container-id-2 div.sk-toggleable__content {max-height: 0;max-width: 0;overflow: hidden;text-align: left;background-color: #f0f8ff;}#sk-container-id-2 div.sk-toggleable__content pre {margin: 0.2em;color: black;border-radius: 0.25em;background-color: #f0f8ff;}#sk-container-id-2 input.sk-toggleable__control:checked~div.sk-toggleable__content {max-height: 200px;max-width: 100%;overflow: auto;}#sk-container-id-2 input.sk-toggleable__control:checked~label.sk-toggleable__label-arrow:before {content: \"▾\";}#sk-container-id-2 div.sk-estimator input.sk-toggleable__control:checked~label.sk-toggleable__label {background-color: #d4ebff;}#sk-container-id-2 div.sk-label input.sk-toggleable__control:checked~label.sk-toggleable__label {background-color: #d4ebff;}#sk-container-id-2 input.sk-hidden--visually {border: 0;clip: rect(1px 1px 1px 1px);clip: rect(1px, 1px, 1px, 1px);height: 1px;margin: -1px;overflow: hidden;padding: 0;position: absolute;width: 1px;}#sk-container-id-2 div.sk-estimator {font-family: monospace;background-color: #f0f8ff;border: 1px dotted black;border-radius: 0.25em;box-sizing: border-box;margin-bottom: 0.5em;}#sk-container-id-2 div.sk-estimator:hover {background-color: #d4ebff;}#sk-container-id-2 div.sk-parallel-item::after {content: \"\";width: 100%;border-bottom: 1px solid gray;flex-grow: 1;}#sk-container-id-2 div.sk-label:hover label.sk-toggleable__label {background-color: #d4ebff;}#sk-container-id-2 div.sk-serial::before {content: \"\";position: absolute;border-left: 1px solid gray;box-sizing: border-box;top: 0;bottom: 0;left: 50%;z-index: 0;}#sk-container-id-2 div.sk-serial {display: flex;flex-direction: column;align-items: center;background-color: white;padding-right: 0.2em;padding-left: 0.2em;position: relative;}#sk-container-id-2 div.sk-item {position: relative;z-index: 1;}#sk-container-id-2 div.sk-parallel {display: flex;align-items: stretch;justify-content: center;background-color: white;position: relative;}#sk-container-id-2 div.sk-item::before, #sk-container-id-2 div.sk-parallel-item::before {content: \"\";position: absolute;border-left: 1px solid gray;box-sizing: border-box;top: 0;bottom: 0;left: 50%;z-index: -1;}#sk-container-id-2 div.sk-parallel-item {display: flex;flex-direction: column;z-index: 1;position: relative;background-color: white;}#sk-container-id-2 div.sk-parallel-item:first-child::after {align-self: flex-end;width: 50%;}#sk-container-id-2 div.sk-parallel-item:last-child::after {align-self: flex-start;width: 50%;}#sk-container-id-2 div.sk-parallel-item:only-child::after {width: 0;}#sk-container-id-2 div.sk-dashed-wrapped {border: 1px dashed gray;margin: 0 0.4em 0.5em 0.4em;box-sizing: border-box;padding-bottom: 0.4em;background-color: white;}#sk-container-id-2 div.sk-label label {font-family: monospace;font-weight: bold;display: inline-block;line-height: 1.2em;}#sk-container-id-2 div.sk-label-container {text-align: center;}#sk-container-id-2 div.sk-container {/* jupyter's `normalize.less` sets `[hidden] { display: none; }` but bootstrap.min.css set `[hidden] { display: none !important; }` so we also need the `!important` here to be able to override the default hidden behavior on the sphinx rendered scikit-learn.org. See: https://github.com/scikit-learn/scikit-learn/issues/21755 */display: inline-block !important;position: relative;}#sk-container-id-2 div.sk-text-repr-fallback {display: none;}</style><div id=\"sk-container-id-2\" class=\"sk-top-container\"><div class=\"sk-text-repr-fallback\"><pre>Pipeline(steps=[(&#x27;preprocess&#x27;,\n",
       "                 ColumnTransformer(transformers=[(&#x27;prep&#x27;,\n",
       "                                                  Pipeline(steps=[(&#x27;variance&#x27;,\n",
       "                                                                   VarianceThreshold(threshold=0.08999999999999998)),\n",
       "                                                                  (&#x27;corr&#x27;,\n",
       "                                                                   CorrRemover()),\n",
       "                                                                  (&#x27;scaler&#x27;,\n",
       "                                                                   StandardScaler()),\n",
       "                                                                  (&#x27;quantile&#x27;,\n",
       "                                                                   QuantileTransformer()),\n",
       "                                                                  (&#x27;pca&#x27;,\n",
       "                                                                   PCA())]),\n",
       "                                                  [&#x27;var3&#x27;, &#x27;var15&#x27;,\n",
       "                                                   &#x27;imp_ent_var16_ult1&#x27;,\n",
       "                                                   &#x27;imp_op_var39_comer_ult1&#x27;,\n",
       "                                                   &#x27;imp_op_var39_comer_ult3&#x27;,\n",
       "                                                   &#x27;imp_op_var...\n",
       "                                                   &#x27;imp_op_var41_comer_ult3&#x27;,\n",
       "                                                   &#x27;imp_op_var41_efect_ult1&#x27;,\n",
       "                                                   &#x27;imp_op_var41_efect_ult3&#x27;,\n",
       "                                                   &#x27;imp_op_var41_ult1&#x27;,\n",
       "                                                   &#x27;imp_op_var39_efect_ult1&#x27;,\n",
       "                                                   &#x27;imp_op_var39_efect_ult3&#x27;,\n",
       "                                                   &#x27;imp_op_var39_ult1&#x27;,\n",
       "                                                   &#x27;imp_sal_var16_ult1&#x27;,\n",
       "                                                   &#x27;ind_var1_0&#x27;, &#x27;ind_var1&#x27;,\n",
       "                                                   &#x27;ind_var2_0&#x27;, &#x27;ind_var2&#x27;,\n",
       "                                                   &#x27;ind_var5_0&#x27;, &#x27;ind_var5&#x27;,\n",
       "                                                   &#x27;ind_var6_0&#x27;, &#x27;ind_var6&#x27;,\n",
       "                                                   &#x27;ind_var8_0&#x27;, &#x27;ind_var8&#x27;,\n",
       "                                                   &#x27;ind_var12_0&#x27;, ...])])),\n",
       "                (&#x27;model&#x27;, LogisticRegression())])</pre><b>In a Jupyter environment, please rerun this cell to show the HTML representation or trust the notebook. <br />On GitHub, the HTML representation is unable to render, please try loading this page with nbviewer.org.</b></div><div class=\"sk-container\" hidden><div class=\"sk-item sk-dashed-wrapped\"><div class=\"sk-label-container\"><div class=\"sk-label sk-toggleable\"><input class=\"sk-toggleable__control sk-hidden--visually\" id=\"sk-estimator-id-2\" type=\"checkbox\" ><label for=\"sk-estimator-id-2\" class=\"sk-toggleable__label sk-toggleable__label-arrow\">Pipeline</label><div class=\"sk-toggleable__content\"><pre>Pipeline(steps=[(&#x27;preprocess&#x27;,\n",
       "                 ColumnTransformer(transformers=[(&#x27;prep&#x27;,\n",
       "                                                  Pipeline(steps=[(&#x27;variance&#x27;,\n",
       "                                                                   VarianceThreshold(threshold=0.08999999999999998)),\n",
       "                                                                  (&#x27;corr&#x27;,\n",
       "                                                                   CorrRemover()),\n",
       "                                                                  (&#x27;scaler&#x27;,\n",
       "                                                                   StandardScaler()),\n",
       "                                                                  (&#x27;quantile&#x27;,\n",
       "                                                                   QuantileTransformer()),\n",
       "                                                                  (&#x27;pca&#x27;,\n",
       "                                                                   PCA())]),\n",
       "                                                  [&#x27;var3&#x27;, &#x27;var15&#x27;,\n",
       "                                                   &#x27;imp_ent_var16_ult1&#x27;,\n",
       "                                                   &#x27;imp_op_var39_comer_ult1&#x27;,\n",
       "                                                   &#x27;imp_op_var39_comer_ult3&#x27;,\n",
       "                                                   &#x27;imp_op_var...\n",
       "                                                   &#x27;imp_op_var41_comer_ult3&#x27;,\n",
       "                                                   &#x27;imp_op_var41_efect_ult1&#x27;,\n",
       "                                                   &#x27;imp_op_var41_efect_ult3&#x27;,\n",
       "                                                   &#x27;imp_op_var41_ult1&#x27;,\n",
       "                                                   &#x27;imp_op_var39_efect_ult1&#x27;,\n",
       "                                                   &#x27;imp_op_var39_efect_ult3&#x27;,\n",
       "                                                   &#x27;imp_op_var39_ult1&#x27;,\n",
       "                                                   &#x27;imp_sal_var16_ult1&#x27;,\n",
       "                                                   &#x27;ind_var1_0&#x27;, &#x27;ind_var1&#x27;,\n",
       "                                                   &#x27;ind_var2_0&#x27;, &#x27;ind_var2&#x27;,\n",
       "                                                   &#x27;ind_var5_0&#x27;, &#x27;ind_var5&#x27;,\n",
       "                                                   &#x27;ind_var6_0&#x27;, &#x27;ind_var6&#x27;,\n",
       "                                                   &#x27;ind_var8_0&#x27;, &#x27;ind_var8&#x27;,\n",
       "                                                   &#x27;ind_var12_0&#x27;, ...])])),\n",
       "                (&#x27;model&#x27;, LogisticRegression())])</pre></div></div></div><div class=\"sk-serial\"><div class=\"sk-item sk-dashed-wrapped\"><div class=\"sk-label-container\"><div class=\"sk-label sk-toggleable\"><input class=\"sk-toggleable__control sk-hidden--visually\" id=\"sk-estimator-id-3\" type=\"checkbox\" ><label for=\"sk-estimator-id-3\" class=\"sk-toggleable__label sk-toggleable__label-arrow\">preprocess: ColumnTransformer</label><div class=\"sk-toggleable__content\"><pre>ColumnTransformer(transformers=[(&#x27;prep&#x27;,\n",
       "                                 Pipeline(steps=[(&#x27;variance&#x27;,\n",
       "                                                  VarianceThreshold(threshold=0.08999999999999998)),\n",
       "                                                 (&#x27;corr&#x27;, CorrRemover()),\n",
       "                                                 (&#x27;scaler&#x27;, StandardScaler()),\n",
       "                                                 (&#x27;quantile&#x27;,\n",
       "                                                  QuantileTransformer()),\n",
       "                                                 (&#x27;pca&#x27;, PCA())]),\n",
       "                                 [&#x27;var3&#x27;, &#x27;var15&#x27;, &#x27;imp_ent_var16_ult1&#x27;,\n",
       "                                  &#x27;imp_op_var39_comer_ult1&#x27;,\n",
       "                                  &#x27;imp_op_var39_comer_ult3&#x27;,\n",
       "                                  &#x27;imp_op_var40_comer_ult1&#x27;,\n",
       "                                  &#x27;imp_op_var40_c...\n",
       "                                  &#x27;imp_op_var41_comer_ult1&#x27;,\n",
       "                                  &#x27;imp_op_var41_comer_ult3&#x27;,\n",
       "                                  &#x27;imp_op_var41_efect_ult1&#x27;,\n",
       "                                  &#x27;imp_op_var41_efect_ult3&#x27;,\n",
       "                                  &#x27;imp_op_var41_ult1&#x27;,\n",
       "                                  &#x27;imp_op_var39_efect_ult1&#x27;,\n",
       "                                  &#x27;imp_op_var39_efect_ult3&#x27;,\n",
       "                                  &#x27;imp_op_var39_ult1&#x27;, &#x27;imp_sal_var16_ult1&#x27;,\n",
       "                                  &#x27;ind_var1_0&#x27;, &#x27;ind_var1&#x27;, &#x27;ind_var2_0&#x27;,\n",
       "                                  &#x27;ind_var2&#x27;, &#x27;ind_var5_0&#x27;, &#x27;ind_var5&#x27;,\n",
       "                                  &#x27;ind_var6_0&#x27;, &#x27;ind_var6&#x27;, &#x27;ind_var8_0&#x27;,\n",
       "                                  &#x27;ind_var8&#x27;, &#x27;ind_var12_0&#x27;, ...])])</pre></div></div></div><div class=\"sk-parallel\"><div class=\"sk-parallel-item\"><div class=\"sk-item\"><div class=\"sk-label-container\"><div class=\"sk-label sk-toggleable\"><input class=\"sk-toggleable__control sk-hidden--visually\" id=\"sk-estimator-id-4\" type=\"checkbox\" ><label for=\"sk-estimator-id-4\" class=\"sk-toggleable__label sk-toggleable__label-arrow\">prep</label><div class=\"sk-toggleable__content\"><pre>[&#x27;var3&#x27;, &#x27;var15&#x27;, &#x27;imp_ent_var16_ult1&#x27;, &#x27;imp_op_var39_comer_ult1&#x27;, &#x27;imp_op_var39_comer_ult3&#x27;, &#x27;imp_op_var40_comer_ult1&#x27;, &#x27;imp_op_var40_comer_ult3&#x27;, &#x27;imp_op_var40_efect_ult1&#x27;, &#x27;imp_op_var40_efect_ult3&#x27;, &#x27;imp_op_var40_ult1&#x27;, &#x27;imp_op_var41_comer_ult1&#x27;, &#x27;imp_op_var41_comer_ult3&#x27;, &#x27;imp_op_var41_efect_ult1&#x27;, &#x27;imp_op_var41_efect_ult3&#x27;, &#x27;imp_op_var41_ult1&#x27;, &#x27;imp_op_var39_efect_ult1&#x27;, &#x27;imp_op_var39_efect_ult3&#x27;, &#x27;imp_op_var39_ult1&#x27;, &#x27;imp_sal_var16_ult1&#x27;, &#x27;ind_var1_0&#x27;, &#x27;ind_var1&#x27;, &#x27;ind_var2_0&#x27;, &#x27;ind_var2&#x27;, &#x27;ind_var5_0&#x27;, &#x27;ind_var5&#x27;, &#x27;ind_var6_0&#x27;, &#x27;ind_var6&#x27;, &#x27;ind_var8_0&#x27;, &#x27;ind_var8&#x27;, &#x27;ind_var12_0&#x27;, &#x27;ind_var12&#x27;, &#x27;ind_var13_0&#x27;, &#x27;ind_var13_corto_0&#x27;, &#x27;ind_var13_corto&#x27;, &#x27;ind_var13_largo_0&#x27;, &#x27;ind_var13_largo&#x27;, &#x27;ind_var13_medio_0&#x27;, &#x27;ind_var13_medio&#x27;, &#x27;ind_var13&#x27;, &#x27;ind_var14_0&#x27;, &#x27;ind_var14&#x27;, &#x27;ind_var17_0&#x27;, &#x27;ind_var17&#x27;, &#x27;ind_var18_0&#x27;, &#x27;ind_var18&#x27;, &#x27;ind_var19&#x27;, &#x27;ind_var20_0&#x27;, &#x27;ind_var20&#x27;, &#x27;ind_var24_0&#x27;, &#x27;ind_var24&#x27;, &#x27;ind_var25_cte&#x27;, &#x27;ind_var26_0&#x27;, &#x27;ind_var26_cte&#x27;, &#x27;ind_var26&#x27;, &#x27;ind_var25_0&#x27;, &#x27;ind_var25&#x27;, &#x27;ind_var27_0&#x27;, &#x27;ind_var28_0&#x27;, &#x27;ind_var28&#x27;, &#x27;ind_var27&#x27;, &#x27;ind_var29_0&#x27;, &#x27;ind_var29&#x27;, &#x27;ind_var30_0&#x27;, &#x27;ind_var30&#x27;, &#x27;ind_var31_0&#x27;, &#x27;ind_var31&#x27;, &#x27;ind_var32_cte&#x27;, &#x27;ind_var32_0&#x27;, &#x27;ind_var32&#x27;, &#x27;ind_var33_0&#x27;, &#x27;ind_var33&#x27;, &#x27;ind_var34_0&#x27;, &#x27;ind_var34&#x27;, &#x27;ind_var37_cte&#x27;, &#x27;ind_var37_0&#x27;, &#x27;ind_var37&#x27;, &#x27;ind_var39_0&#x27;, &#x27;ind_var40_0&#x27;, &#x27;ind_var40&#x27;, &#x27;ind_var41_0&#x27;, &#x27;ind_var41&#x27;, &#x27;ind_var39&#x27;, &#x27;ind_var44_0&#x27;, &#x27;ind_var44&#x27;, &#x27;ind_var46_0&#x27;, &#x27;ind_var46&#x27;, &#x27;num_var1_0&#x27;, &#x27;num_var1&#x27;, &#x27;num_var4&#x27;, &#x27;num_var5_0&#x27;, &#x27;num_var5&#x27;, &#x27;num_var6_0&#x27;, &#x27;num_var6&#x27;, &#x27;num_var8_0&#x27;, &#x27;num_var8&#x27;, &#x27;num_var12_0&#x27;, &#x27;num_var12&#x27;, &#x27;num_var13_0&#x27;, &#x27;num_var13_corto_0&#x27;, &#x27;num_var13_corto&#x27;, &#x27;num_var13_largo_0&#x27;, &#x27;num_var13_largo&#x27;, &#x27;num_var13_medio_0&#x27;, &#x27;num_var13_medio&#x27;, &#x27;num_var13&#x27;, &#x27;num_var14_0&#x27;, &#x27;num_var14&#x27;, &#x27;num_var17_0&#x27;, &#x27;num_var17&#x27;, &#x27;num_var18_0&#x27;, &#x27;num_var18&#x27;, &#x27;num_var20_0&#x27;, &#x27;num_var20&#x27;, &#x27;num_var24_0&#x27;, &#x27;num_var24&#x27;, &#x27;num_var26_0&#x27;, &#x27;num_var26&#x27;, &#x27;num_var25_0&#x27;, &#x27;num_var25&#x27;, &#x27;num_op_var40_hace2&#x27;, &#x27;num_op_var40_hace3&#x27;, &#x27;num_op_var40_ult1&#x27;, &#x27;num_op_var40_ult3&#x27;, &#x27;num_op_var41_hace2&#x27;, &#x27;num_op_var41_hace3&#x27;, &#x27;num_op_var41_ult1&#x27;, &#x27;num_op_var41_ult3&#x27;, &#x27;num_op_var39_hace2&#x27;, &#x27;num_op_var39_hace3&#x27;, &#x27;num_op_var39_ult1&#x27;, &#x27;num_op_var39_ult3&#x27;, &#x27;num_var27_0&#x27;, &#x27;num_var28_0&#x27;, &#x27;num_var28&#x27;, &#x27;num_var27&#x27;, &#x27;num_var29_0&#x27;, &#x27;num_var29&#x27;, &#x27;num_var30_0&#x27;, &#x27;num_var30&#x27;, &#x27;num_var31_0&#x27;, &#x27;num_var31&#x27;, &#x27;num_var32_0&#x27;, &#x27;num_var32&#x27;, &#x27;num_var33_0&#x27;, &#x27;num_var33&#x27;, &#x27;num_var34_0&#x27;, &#x27;num_var34&#x27;, &#x27;num_var35&#x27;, &#x27;num_var37_med_ult2&#x27;, &#x27;num_var37_0&#x27;, &#x27;num_var37&#x27;, &#x27;num_var39_0&#x27;, &#x27;num_var40_0&#x27;, &#x27;num_var40&#x27;, &#x27;num_var41_0&#x27;, &#x27;num_var41&#x27;, &#x27;num_var39&#x27;, &#x27;num_var42_0&#x27;, &#x27;num_var42&#x27;, &#x27;num_var44_0&#x27;, &#x27;num_var44&#x27;, &#x27;num_var46_0&#x27;, &#x27;num_var46&#x27;, &#x27;saldo_var1&#x27;, &#x27;saldo_var5&#x27;, &#x27;saldo_var6&#x27;, &#x27;saldo_var8&#x27;, &#x27;saldo_var12&#x27;, &#x27;saldo_var13_corto&#x27;, &#x27;saldo_var13_largo&#x27;, &#x27;saldo_var13_medio&#x27;, &#x27;saldo_var13&#x27;, &#x27;saldo_var14&#x27;, &#x27;saldo_var17&#x27;, &#x27;saldo_var18&#x27;, &#x27;saldo_var20&#x27;, &#x27;saldo_var24&#x27;, &#x27;saldo_var26&#x27;, &#x27;saldo_var25&#x27;, &#x27;saldo_var28&#x27;, &#x27;saldo_var27&#x27;, &#x27;saldo_var29&#x27;, &#x27;saldo_var30&#x27;, &#x27;saldo_var31&#x27;, &#x27;saldo_var32&#x27;, &#x27;saldo_var33&#x27;, &#x27;saldo_var34&#x27;, &#x27;saldo_var37&#x27;, &#x27;saldo_var40&#x27;, &#x27;saldo_var41&#x27;, &#x27;saldo_var42&#x27;, &#x27;saldo_var44&#x27;, &#x27;saldo_var46&#x27;, &#x27;var36&#x27;, &#x27;delta_imp_amort_var18_1y3&#x27;, &#x27;delta_imp_amort_var34_1y3&#x27;, &#x27;delta_imp_aport_var13_1y3&#x27;, &#x27;delta_imp_aport_var17_1y3&#x27;, &#x27;delta_imp_aport_var33_1y3&#x27;, &#x27;delta_imp_compra_var44_1y3&#x27;, &#x27;delta_imp_reemb_var13_1y3&#x27;, &#x27;delta_imp_reemb_var17_1y3&#x27;, &#x27;delta_imp_reemb_var33_1y3&#x27;, &#x27;delta_imp_trasp_var17_in_1y3&#x27;, &#x27;delta_imp_trasp_var17_out_1y3&#x27;, &#x27;delta_imp_trasp_var33_in_1y3&#x27;, &#x27;delta_imp_trasp_var33_out_1y3&#x27;, &#x27;delta_imp_venta_var44_1y3&#x27;, &#x27;delta_num_aport_var13_1y3&#x27;, &#x27;delta_num_aport_var17_1y3&#x27;, &#x27;delta_num_aport_var33_1y3&#x27;, &#x27;delta_num_compra_var44_1y3&#x27;, &#x27;delta_num_reemb_var13_1y3&#x27;, &#x27;delta_num_reemb_var17_1y3&#x27;, &#x27;delta_num_reemb_var33_1y3&#x27;, &#x27;delta_num_trasp_var17_in_1y3&#x27;, &#x27;delta_num_trasp_var17_out_1y3&#x27;, &#x27;delta_num_trasp_var33_in_1y3&#x27;, &#x27;delta_num_trasp_var33_out_1y3&#x27;, &#x27;delta_num_venta_var44_1y3&#x27;, &#x27;imp_amort_var18_hace3&#x27;, &#x27;imp_amort_var18_ult1&#x27;, &#x27;imp_amort_var34_hace3&#x27;, &#x27;imp_amort_var34_ult1&#x27;, &#x27;imp_aport_var13_hace3&#x27;, &#x27;imp_aport_var13_ult1&#x27;, &#x27;imp_aport_var17_hace3&#x27;, &#x27;imp_aport_var17_ult1&#x27;, &#x27;imp_aport_var33_hace3&#x27;, &#x27;imp_aport_var33_ult1&#x27;, &#x27;imp_var7_emit_ult1&#x27;, &#x27;imp_var7_recib_ult1&#x27;, &#x27;imp_compra_var44_hace3&#x27;, &#x27;imp_compra_var44_ult1&#x27;, &#x27;imp_reemb_var13_hace3&#x27;, &#x27;imp_reemb_var13_ult1&#x27;, &#x27;imp_reemb_var17_hace3&#x27;, &#x27;imp_reemb_var17_ult1&#x27;, &#x27;imp_reemb_var33_hace3&#x27;, &#x27;imp_reemb_var33_ult1&#x27;, &#x27;imp_var43_emit_ult1&#x27;, &#x27;imp_trans_var37_ult1&#x27;, &#x27;imp_trasp_var17_in_hace3&#x27;, &#x27;imp_trasp_var17_in_ult1&#x27;, &#x27;imp_trasp_var17_out_hace3&#x27;, &#x27;imp_trasp_var17_out_ult1&#x27;, &#x27;imp_trasp_var33_in_hace3&#x27;, &#x27;imp_trasp_var33_in_ult1&#x27;, &#x27;imp_trasp_var33_out_hace3&#x27;, &#x27;imp_trasp_var33_out_ult1&#x27;, &#x27;imp_venta_var44_hace3&#x27;, &#x27;imp_venta_var44_ult1&#x27;, &#x27;ind_var7_emit_ult1&#x27;, &#x27;ind_var7_recib_ult1&#x27;, &#x27;ind_var10_ult1&#x27;, &#x27;ind_var10cte_ult1&#x27;, &#x27;ind_var9_cte_ult1&#x27;, &#x27;ind_var9_ult1&#x27;, &#x27;ind_var43_emit_ult1&#x27;, &#x27;ind_var43_recib_ult1&#x27;, &#x27;var21&#x27;, &#x27;num_var2_0_ult1&#x27;, &#x27;num_var2_ult1&#x27;, &#x27;num_aport_var13_hace3&#x27;, &#x27;num_aport_var13_ult1&#x27;, &#x27;num_aport_var17_hace3&#x27;, &#x27;num_aport_var17_ult1&#x27;, &#x27;num_aport_var33_hace3&#x27;, &#x27;num_aport_var33_ult1&#x27;, &#x27;num_var7_emit_ult1&#x27;, &#x27;num_var7_recib_ult1&#x27;, &#x27;num_compra_var44_hace3&#x27;, &#x27;num_compra_var44_ult1&#x27;, &#x27;num_ent_var16_ult1&#x27;, &#x27;num_var22_hace2&#x27;, &#x27;num_var22_hace3&#x27;, &#x27;num_var22_ult1&#x27;, &#x27;num_var22_ult3&#x27;, &#x27;num_med_var22_ult3&#x27;, &#x27;num_med_var45_ult3&#x27;, &#x27;num_meses_var5_ult3&#x27;, &#x27;num_meses_var8_ult3&#x27;, &#x27;num_meses_var12_ult3&#x27;, &#x27;num_meses_var13_corto_ult3&#x27;, &#x27;num_meses_var13_largo_ult3&#x27;, &#x27;num_meses_var13_medio_ult3&#x27;, &#x27;num_meses_var17_ult3&#x27;, &#x27;num_meses_var29_ult3&#x27;, &#x27;num_meses_var33_ult3&#x27;, &#x27;num_meses_var39_vig_ult3&#x27;, &#x27;num_meses_var44_ult3&#x27;, &#x27;num_op_var39_comer_ult1&#x27;, &#x27;num_op_var39_comer_ult3&#x27;, &#x27;num_op_var40_comer_ult1&#x27;, &#x27;num_op_var40_comer_ult3&#x27;, &#x27;num_op_var40_efect_ult1&#x27;, &#x27;num_op_var40_efect_ult3&#x27;, &#x27;num_op_var41_comer_ult1&#x27;, &#x27;num_op_var41_comer_ult3&#x27;, &#x27;num_op_var41_efect_ult1&#x27;, &#x27;num_op_var41_efect_ult3&#x27;, &#x27;num_op_var39_efect_ult1&#x27;, &#x27;num_op_var39_efect_ult3&#x27;, &#x27;num_reemb_var13_hace3&#x27;, &#x27;num_reemb_var13_ult1&#x27;, &#x27;num_reemb_var17_hace3&#x27;, &#x27;num_reemb_var17_ult1&#x27;, &#x27;num_reemb_var33_hace3&#x27;, &#x27;num_reemb_var33_ult1&#x27;, &#x27;num_sal_var16_ult1&#x27;, &#x27;num_var43_emit_ult1&#x27;, &#x27;num_var43_recib_ult1&#x27;, &#x27;num_trasp_var11_ult1&#x27;, &#x27;num_trasp_var17_in_hace3&#x27;, &#x27;num_trasp_var17_in_ult1&#x27;, &#x27;num_trasp_var17_out_hace3&#x27;, &#x27;num_trasp_var17_out_ult1&#x27;, &#x27;num_trasp_var33_in_hace3&#x27;, &#x27;num_trasp_var33_in_ult1&#x27;, &#x27;num_trasp_var33_out_hace3&#x27;, &#x27;num_trasp_var33_out_ult1&#x27;, &#x27;num_venta_var44_hace3&#x27;, &#x27;num_venta_var44_ult1&#x27;, &#x27;num_var45_hace2&#x27;, &#x27;num_var45_hace3&#x27;, &#x27;num_var45_ult1&#x27;, &#x27;num_var45_ult3&#x27;, &#x27;saldo_var2_ult1&#x27;, &#x27;saldo_medio_var5_hace2&#x27;, &#x27;saldo_medio_var5_hace3&#x27;, &#x27;saldo_medio_var5_ult1&#x27;, &#x27;saldo_medio_var5_ult3&#x27;, &#x27;saldo_medio_var8_hace2&#x27;, &#x27;saldo_medio_var8_hace3&#x27;, &#x27;saldo_medio_var8_ult1&#x27;, &#x27;saldo_medio_var8_ult3&#x27;, &#x27;saldo_medio_var12_hace2&#x27;, &#x27;saldo_medio_var12_hace3&#x27;, &#x27;saldo_medio_var12_ult1&#x27;, &#x27;saldo_medio_var12_ult3&#x27;, &#x27;saldo_medio_var13_corto_hace2&#x27;, &#x27;saldo_medio_var13_corto_hace3&#x27;, &#x27;saldo_medio_var13_corto_ult1&#x27;, &#x27;saldo_medio_var13_corto_ult3&#x27;, &#x27;saldo_medio_var13_largo_hace2&#x27;, &#x27;saldo_medio_var13_largo_hace3&#x27;, &#x27;saldo_medio_var13_largo_ult1&#x27;, &#x27;saldo_medio_var13_largo_ult3&#x27;, &#x27;saldo_medio_var13_medio_hace2&#x27;, &#x27;saldo_medio_var13_medio_hace3&#x27;, &#x27;saldo_medio_var13_medio_ult1&#x27;, &#x27;saldo_medio_var13_medio_ult3&#x27;, &#x27;saldo_medio_var17_hace2&#x27;, &#x27;saldo_medio_var17_hace3&#x27;, &#x27;saldo_medio_var17_ult1&#x27;, &#x27;saldo_medio_var17_ult3&#x27;, &#x27;saldo_medio_var29_hace2&#x27;, &#x27;saldo_medio_var29_hace3&#x27;, &#x27;saldo_medio_var29_ult1&#x27;, &#x27;saldo_medio_var29_ult3&#x27;, &#x27;saldo_medio_var33_hace2&#x27;, &#x27;saldo_medio_var33_hace3&#x27;, &#x27;saldo_medio_var33_ult1&#x27;, &#x27;saldo_medio_var33_ult3&#x27;, &#x27;saldo_medio_var44_hace2&#x27;, &#x27;saldo_medio_var44_hace3&#x27;, &#x27;saldo_medio_var44_ult1&#x27;, &#x27;saldo_medio_var44_ult3&#x27;, &#x27;var38&#x27;]</pre></div></div></div><div class=\"sk-serial\"><div class=\"sk-item\"><div class=\"sk-serial\"><div class=\"sk-item\"><div class=\"sk-estimator sk-toggleable\"><input class=\"sk-toggleable__control sk-hidden--visually\" id=\"sk-estimator-id-5\" type=\"checkbox\" ><label for=\"sk-estimator-id-5\" class=\"sk-toggleable__label sk-toggleable__label-arrow\">VarianceThreshold</label><div class=\"sk-toggleable__content\"><pre>VarianceThreshold(threshold=0.08999999999999998)</pre></div></div></div><div class=\"sk-item\"><div class=\"sk-estimator sk-toggleable\"><input class=\"sk-toggleable__control sk-hidden--visually\" id=\"sk-estimator-id-6\" type=\"checkbox\" ><label for=\"sk-estimator-id-6\" class=\"sk-toggleable__label sk-toggleable__label-arrow\">CorrRemover</label><div class=\"sk-toggleable__content\"><pre>CorrRemover()</pre></div></div></div><div class=\"sk-item\"><div class=\"sk-estimator sk-toggleable\"><input class=\"sk-toggleable__control sk-hidden--visually\" id=\"sk-estimator-id-7\" type=\"checkbox\" ><label for=\"sk-estimator-id-7\" class=\"sk-toggleable__label sk-toggleable__label-arrow\">StandardScaler</label><div class=\"sk-toggleable__content\"><pre>StandardScaler()</pre></div></div></div><div class=\"sk-item\"><div class=\"sk-estimator sk-toggleable\"><input class=\"sk-toggleable__control sk-hidden--visually\" id=\"sk-estimator-id-8\" type=\"checkbox\" ><label for=\"sk-estimator-id-8\" class=\"sk-toggleable__label sk-toggleable__label-arrow\">QuantileTransformer</label><div class=\"sk-toggleable__content\"><pre>QuantileTransformer()</pre></div></div></div><div class=\"sk-item\"><div class=\"sk-estimator sk-toggleable\"><input class=\"sk-toggleable__control sk-hidden--visually\" id=\"sk-estimator-id-9\" type=\"checkbox\" ><label for=\"sk-estimator-id-9\" class=\"sk-toggleable__label sk-toggleable__label-arrow\">PCA</label><div class=\"sk-toggleable__content\"><pre>PCA()</pre></div></div></div></div></div></div></div></div></div></div><div class=\"sk-item\"><div class=\"sk-estimator sk-toggleable\"><input class=\"sk-toggleable__control sk-hidden--visually\" id=\"sk-estimator-id-10\" type=\"checkbox\" ><label for=\"sk-estimator-id-10\" class=\"sk-toggleable__label sk-toggleable__label-arrow\">LogisticRegression</label><div class=\"sk-toggleable__content\"><pre>LogisticRegression()</pre></div></div></div></div></div></div></div>"
      ],
      "text/plain": [
       "Pipeline(steps=[('preprocess',\n",
       "                 ColumnTransformer(transformers=[('prep',\n",
       "                                                  Pipeline(steps=[('variance',\n",
       "                                                                   VarianceThreshold(threshold=0.08999999999999998)),\n",
       "                                                                  ('corr',\n",
       "                                                                   CorrRemover()),\n",
       "                                                                  ('scaler',\n",
       "                                                                   StandardScaler()),\n",
       "                                                                  ('quantile',\n",
       "                                                                   QuantileTransformer()),\n",
       "                                                                  ('pca',\n",
       "                                                                   PCA())]),\n",
       "                                                  ['var3', 'var15',\n",
       "                                                   'imp_ent_var16_ult1',\n",
       "                                                   'imp_op_var39_comer_ult1',\n",
       "                                                   'imp_op_var39_comer_ult3',\n",
       "                                                   'imp_op_var...\n",
       "                                                   'imp_op_var41_comer_ult3',\n",
       "                                                   'imp_op_var41_efect_ult1',\n",
       "                                                   'imp_op_var41_efect_ult3',\n",
       "                                                   'imp_op_var41_ult1',\n",
       "                                                   'imp_op_var39_efect_ult1',\n",
       "                                                   'imp_op_var39_efect_ult3',\n",
       "                                                   'imp_op_var39_ult1',\n",
       "                                                   'imp_sal_var16_ult1',\n",
       "                                                   'ind_var1_0', 'ind_var1',\n",
       "                                                   'ind_var2_0', 'ind_var2',\n",
       "                                                   'ind_var5_0', 'ind_var5',\n",
       "                                                   'ind_var6_0', 'ind_var6',\n",
       "                                                   'ind_var8_0', 'ind_var8',\n",
       "                                                   'ind_var12_0', ...])])),\n",
       "                ('model', LogisticRegression())])"
      ]
     },
     "execution_count": 23,
     "metadata": {},
     "output_type": "execute_result"
    }
   ],
   "source": [
    "# Como iremos passar LDA tiraremos o PCA\n",
    "# 1º Separe cada transformador com base nas colunas usadas\n",
    "prep = Pipeline([\n",
    "    ('variance', VarianceThreshold(threshold=(.9 * (1 - .9)))),\n",
    "    ('corr', CorrRemover(threshold=0.9)),\n",
    "    ('scaler', StandardScaler()),\n",
    "    ('quantile', QuantileTransformer()),\n",
    "    ('pca', PCA())\n",
    "    ])\n",
    "\n",
    "preprocess = ColumnTransformer([\n",
    "    (\"prep\", prep, all_cols),\n",
    "])\n",
    "\n",
    "pipe = Pipeline([\n",
    "    (\"preprocess\", preprocess),\n",
    "    (\"model\", LogisticRegression())\n",
    "])\n",
    "\n",
    "pipe"
   ]
  },
  {
   "cell_type": "code",
   "execution_count": 25,
   "id": "7e052957",
   "metadata": {},
   "outputs": [],
   "source": [
    "X_train, X_val, y_train, y_val = train_test_split(X, y, test_size=.3, stratify=y)"
   ]
  },
  {
   "cell_type": "code",
   "execution_count": 26,
   "id": "bc0f824b",
   "metadata": {},
   "outputs": [
    {
     "name": "stderr",
     "output_type": "stream",
     "text": [
      "C:\\Users\\luiz_\\AppData\\Roaming\\Python\\Python39\\site-packages\\sklearn\\linear_model\\_logistic.py:444: ConvergenceWarning: lbfgs failed to converge (status=1):\n",
      "STOP: TOTAL NO. of ITERATIONS REACHED LIMIT.\n",
      "\n",
      "Increase the number of iterations (max_iter) or scale the data as shown in:\n",
      "    https://scikit-learn.org/stable/modules/preprocessing.html\n",
      "Please also refer to the documentation for alternative solver options:\n",
      "    https://scikit-learn.org/stable/modules/linear_model.html#logistic-regression\n",
      "  n_iter_i = _check_optimize_result(\n"
     ]
    },
    {
     "data": {
      "text/html": [
       "<style>#sk-container-id-3 {color: black;background-color: white;}#sk-container-id-3 pre{padding: 0;}#sk-container-id-3 div.sk-toggleable {background-color: white;}#sk-container-id-3 label.sk-toggleable__label {cursor: pointer;display: block;width: 100%;margin-bottom: 0;padding: 0.3em;box-sizing: border-box;text-align: center;}#sk-container-id-3 label.sk-toggleable__label-arrow:before {content: \"▸\";float: left;margin-right: 0.25em;color: #696969;}#sk-container-id-3 label.sk-toggleable__label-arrow:hover:before {color: black;}#sk-container-id-3 div.sk-estimator:hover label.sk-toggleable__label-arrow:before {color: black;}#sk-container-id-3 div.sk-toggleable__content {max-height: 0;max-width: 0;overflow: hidden;text-align: left;background-color: #f0f8ff;}#sk-container-id-3 div.sk-toggleable__content pre {margin: 0.2em;color: black;border-radius: 0.25em;background-color: #f0f8ff;}#sk-container-id-3 input.sk-toggleable__control:checked~div.sk-toggleable__content {max-height: 200px;max-width: 100%;overflow: auto;}#sk-container-id-3 input.sk-toggleable__control:checked~label.sk-toggleable__label-arrow:before {content: \"▾\";}#sk-container-id-3 div.sk-estimator input.sk-toggleable__control:checked~label.sk-toggleable__label {background-color: #d4ebff;}#sk-container-id-3 div.sk-label input.sk-toggleable__control:checked~label.sk-toggleable__label {background-color: #d4ebff;}#sk-container-id-3 input.sk-hidden--visually {border: 0;clip: rect(1px 1px 1px 1px);clip: rect(1px, 1px, 1px, 1px);height: 1px;margin: -1px;overflow: hidden;padding: 0;position: absolute;width: 1px;}#sk-container-id-3 div.sk-estimator {font-family: monospace;background-color: #f0f8ff;border: 1px dotted black;border-radius: 0.25em;box-sizing: border-box;margin-bottom: 0.5em;}#sk-container-id-3 div.sk-estimator:hover {background-color: #d4ebff;}#sk-container-id-3 div.sk-parallel-item::after {content: \"\";width: 100%;border-bottom: 1px solid gray;flex-grow: 1;}#sk-container-id-3 div.sk-label:hover label.sk-toggleable__label {background-color: #d4ebff;}#sk-container-id-3 div.sk-serial::before {content: \"\";position: absolute;border-left: 1px solid gray;box-sizing: border-box;top: 0;bottom: 0;left: 50%;z-index: 0;}#sk-container-id-3 div.sk-serial {display: flex;flex-direction: column;align-items: center;background-color: white;padding-right: 0.2em;padding-left: 0.2em;position: relative;}#sk-container-id-3 div.sk-item {position: relative;z-index: 1;}#sk-container-id-3 div.sk-parallel {display: flex;align-items: stretch;justify-content: center;background-color: white;position: relative;}#sk-container-id-3 div.sk-item::before, #sk-container-id-3 div.sk-parallel-item::before {content: \"\";position: absolute;border-left: 1px solid gray;box-sizing: border-box;top: 0;bottom: 0;left: 50%;z-index: -1;}#sk-container-id-3 div.sk-parallel-item {display: flex;flex-direction: column;z-index: 1;position: relative;background-color: white;}#sk-container-id-3 div.sk-parallel-item:first-child::after {align-self: flex-end;width: 50%;}#sk-container-id-3 div.sk-parallel-item:last-child::after {align-self: flex-start;width: 50%;}#sk-container-id-3 div.sk-parallel-item:only-child::after {width: 0;}#sk-container-id-3 div.sk-dashed-wrapped {border: 1px dashed gray;margin: 0 0.4em 0.5em 0.4em;box-sizing: border-box;padding-bottom: 0.4em;background-color: white;}#sk-container-id-3 div.sk-label label {font-family: monospace;font-weight: bold;display: inline-block;line-height: 1.2em;}#sk-container-id-3 div.sk-label-container {text-align: center;}#sk-container-id-3 div.sk-container {/* jupyter's `normalize.less` sets `[hidden] { display: none; }` but bootstrap.min.css set `[hidden] { display: none !important; }` so we also need the `!important` here to be able to override the default hidden behavior on the sphinx rendered scikit-learn.org. See: https://github.com/scikit-learn/scikit-learn/issues/21755 */display: inline-block !important;position: relative;}#sk-container-id-3 div.sk-text-repr-fallback {display: none;}</style><div id=\"sk-container-id-3\" class=\"sk-top-container\"><div class=\"sk-text-repr-fallback\"><pre>Pipeline(steps=[(&#x27;preprocess&#x27;,\n",
       "                 ColumnTransformer(transformers=[(&#x27;prep&#x27;,\n",
       "                                                  Pipeline(steps=[(&#x27;variance&#x27;,\n",
       "                                                                   VarianceThreshold(threshold=0.08999999999999998)),\n",
       "                                                                  (&#x27;corr&#x27;,\n",
       "                                                                   CorrRemover()),\n",
       "                                                                  (&#x27;scaler&#x27;,\n",
       "                                                                   StandardScaler()),\n",
       "                                                                  (&#x27;quantile&#x27;,\n",
       "                                                                   QuantileTransformer()),\n",
       "                                                                  (&#x27;pca&#x27;,\n",
       "                                                                   PCA())]),\n",
       "                                                  [&#x27;var3&#x27;, &#x27;var15&#x27;,\n",
       "                                                   &#x27;imp_ent_var16_ult1&#x27;,\n",
       "                                                   &#x27;imp_op_var39_comer_ult1&#x27;,\n",
       "                                                   &#x27;imp_op_var39_comer_ult3&#x27;,\n",
       "                                                   &#x27;imp_op_var...\n",
       "                                                   &#x27;imp_op_var41_comer_ult3&#x27;,\n",
       "                                                   &#x27;imp_op_var41_efect_ult1&#x27;,\n",
       "                                                   &#x27;imp_op_var41_efect_ult3&#x27;,\n",
       "                                                   &#x27;imp_op_var41_ult1&#x27;,\n",
       "                                                   &#x27;imp_op_var39_efect_ult1&#x27;,\n",
       "                                                   &#x27;imp_op_var39_efect_ult3&#x27;,\n",
       "                                                   &#x27;imp_op_var39_ult1&#x27;,\n",
       "                                                   &#x27;imp_sal_var16_ult1&#x27;,\n",
       "                                                   &#x27;ind_var1_0&#x27;, &#x27;ind_var1&#x27;,\n",
       "                                                   &#x27;ind_var2_0&#x27;, &#x27;ind_var2&#x27;,\n",
       "                                                   &#x27;ind_var5_0&#x27;, &#x27;ind_var5&#x27;,\n",
       "                                                   &#x27;ind_var6_0&#x27;, &#x27;ind_var6&#x27;,\n",
       "                                                   &#x27;ind_var8_0&#x27;, &#x27;ind_var8&#x27;,\n",
       "                                                   &#x27;ind_var12_0&#x27;, ...])])),\n",
       "                (&#x27;model&#x27;, LogisticRegression())])</pre><b>In a Jupyter environment, please rerun this cell to show the HTML representation or trust the notebook. <br />On GitHub, the HTML representation is unable to render, please try loading this page with nbviewer.org.</b></div><div class=\"sk-container\" hidden><div class=\"sk-item sk-dashed-wrapped\"><div class=\"sk-label-container\"><div class=\"sk-label sk-toggleable\"><input class=\"sk-toggleable__control sk-hidden--visually\" id=\"sk-estimator-id-11\" type=\"checkbox\" ><label for=\"sk-estimator-id-11\" class=\"sk-toggleable__label sk-toggleable__label-arrow\">Pipeline</label><div class=\"sk-toggleable__content\"><pre>Pipeline(steps=[(&#x27;preprocess&#x27;,\n",
       "                 ColumnTransformer(transformers=[(&#x27;prep&#x27;,\n",
       "                                                  Pipeline(steps=[(&#x27;variance&#x27;,\n",
       "                                                                   VarianceThreshold(threshold=0.08999999999999998)),\n",
       "                                                                  (&#x27;corr&#x27;,\n",
       "                                                                   CorrRemover()),\n",
       "                                                                  (&#x27;scaler&#x27;,\n",
       "                                                                   StandardScaler()),\n",
       "                                                                  (&#x27;quantile&#x27;,\n",
       "                                                                   QuantileTransformer()),\n",
       "                                                                  (&#x27;pca&#x27;,\n",
       "                                                                   PCA())]),\n",
       "                                                  [&#x27;var3&#x27;, &#x27;var15&#x27;,\n",
       "                                                   &#x27;imp_ent_var16_ult1&#x27;,\n",
       "                                                   &#x27;imp_op_var39_comer_ult1&#x27;,\n",
       "                                                   &#x27;imp_op_var39_comer_ult3&#x27;,\n",
       "                                                   &#x27;imp_op_var...\n",
       "                                                   &#x27;imp_op_var41_comer_ult3&#x27;,\n",
       "                                                   &#x27;imp_op_var41_efect_ult1&#x27;,\n",
       "                                                   &#x27;imp_op_var41_efect_ult3&#x27;,\n",
       "                                                   &#x27;imp_op_var41_ult1&#x27;,\n",
       "                                                   &#x27;imp_op_var39_efect_ult1&#x27;,\n",
       "                                                   &#x27;imp_op_var39_efect_ult3&#x27;,\n",
       "                                                   &#x27;imp_op_var39_ult1&#x27;,\n",
       "                                                   &#x27;imp_sal_var16_ult1&#x27;,\n",
       "                                                   &#x27;ind_var1_0&#x27;, &#x27;ind_var1&#x27;,\n",
       "                                                   &#x27;ind_var2_0&#x27;, &#x27;ind_var2&#x27;,\n",
       "                                                   &#x27;ind_var5_0&#x27;, &#x27;ind_var5&#x27;,\n",
       "                                                   &#x27;ind_var6_0&#x27;, &#x27;ind_var6&#x27;,\n",
       "                                                   &#x27;ind_var8_0&#x27;, &#x27;ind_var8&#x27;,\n",
       "                                                   &#x27;ind_var12_0&#x27;, ...])])),\n",
       "                (&#x27;model&#x27;, LogisticRegression())])</pre></div></div></div><div class=\"sk-serial\"><div class=\"sk-item sk-dashed-wrapped\"><div class=\"sk-label-container\"><div class=\"sk-label sk-toggleable\"><input class=\"sk-toggleable__control sk-hidden--visually\" id=\"sk-estimator-id-12\" type=\"checkbox\" ><label for=\"sk-estimator-id-12\" class=\"sk-toggleable__label sk-toggleable__label-arrow\">preprocess: ColumnTransformer</label><div class=\"sk-toggleable__content\"><pre>ColumnTransformer(transformers=[(&#x27;prep&#x27;,\n",
       "                                 Pipeline(steps=[(&#x27;variance&#x27;,\n",
       "                                                  VarianceThreshold(threshold=0.08999999999999998)),\n",
       "                                                 (&#x27;corr&#x27;, CorrRemover()),\n",
       "                                                 (&#x27;scaler&#x27;, StandardScaler()),\n",
       "                                                 (&#x27;quantile&#x27;,\n",
       "                                                  QuantileTransformer()),\n",
       "                                                 (&#x27;pca&#x27;, PCA())]),\n",
       "                                 [&#x27;var3&#x27;, &#x27;var15&#x27;, &#x27;imp_ent_var16_ult1&#x27;,\n",
       "                                  &#x27;imp_op_var39_comer_ult1&#x27;,\n",
       "                                  &#x27;imp_op_var39_comer_ult3&#x27;,\n",
       "                                  &#x27;imp_op_var40_comer_ult1&#x27;,\n",
       "                                  &#x27;imp_op_var40_c...\n",
       "                                  &#x27;imp_op_var41_comer_ult1&#x27;,\n",
       "                                  &#x27;imp_op_var41_comer_ult3&#x27;,\n",
       "                                  &#x27;imp_op_var41_efect_ult1&#x27;,\n",
       "                                  &#x27;imp_op_var41_efect_ult3&#x27;,\n",
       "                                  &#x27;imp_op_var41_ult1&#x27;,\n",
       "                                  &#x27;imp_op_var39_efect_ult1&#x27;,\n",
       "                                  &#x27;imp_op_var39_efect_ult3&#x27;,\n",
       "                                  &#x27;imp_op_var39_ult1&#x27;, &#x27;imp_sal_var16_ult1&#x27;,\n",
       "                                  &#x27;ind_var1_0&#x27;, &#x27;ind_var1&#x27;, &#x27;ind_var2_0&#x27;,\n",
       "                                  &#x27;ind_var2&#x27;, &#x27;ind_var5_0&#x27;, &#x27;ind_var5&#x27;,\n",
       "                                  &#x27;ind_var6_0&#x27;, &#x27;ind_var6&#x27;, &#x27;ind_var8_0&#x27;,\n",
       "                                  &#x27;ind_var8&#x27;, &#x27;ind_var12_0&#x27;, ...])])</pre></div></div></div><div class=\"sk-parallel\"><div class=\"sk-parallel-item\"><div class=\"sk-item\"><div class=\"sk-label-container\"><div class=\"sk-label sk-toggleable\"><input class=\"sk-toggleable__control sk-hidden--visually\" id=\"sk-estimator-id-13\" type=\"checkbox\" ><label for=\"sk-estimator-id-13\" class=\"sk-toggleable__label sk-toggleable__label-arrow\">prep</label><div class=\"sk-toggleable__content\"><pre>[&#x27;var3&#x27;, &#x27;var15&#x27;, &#x27;imp_ent_var16_ult1&#x27;, &#x27;imp_op_var39_comer_ult1&#x27;, &#x27;imp_op_var39_comer_ult3&#x27;, &#x27;imp_op_var40_comer_ult1&#x27;, &#x27;imp_op_var40_comer_ult3&#x27;, &#x27;imp_op_var40_efect_ult1&#x27;, &#x27;imp_op_var40_efect_ult3&#x27;, &#x27;imp_op_var40_ult1&#x27;, &#x27;imp_op_var41_comer_ult1&#x27;, &#x27;imp_op_var41_comer_ult3&#x27;, &#x27;imp_op_var41_efect_ult1&#x27;, &#x27;imp_op_var41_efect_ult3&#x27;, &#x27;imp_op_var41_ult1&#x27;, &#x27;imp_op_var39_efect_ult1&#x27;, &#x27;imp_op_var39_efect_ult3&#x27;, &#x27;imp_op_var39_ult1&#x27;, &#x27;imp_sal_var16_ult1&#x27;, &#x27;ind_var1_0&#x27;, &#x27;ind_var1&#x27;, &#x27;ind_var2_0&#x27;, &#x27;ind_var2&#x27;, &#x27;ind_var5_0&#x27;, &#x27;ind_var5&#x27;, &#x27;ind_var6_0&#x27;, &#x27;ind_var6&#x27;, &#x27;ind_var8_0&#x27;, &#x27;ind_var8&#x27;, &#x27;ind_var12_0&#x27;, &#x27;ind_var12&#x27;, &#x27;ind_var13_0&#x27;, &#x27;ind_var13_corto_0&#x27;, &#x27;ind_var13_corto&#x27;, &#x27;ind_var13_largo_0&#x27;, &#x27;ind_var13_largo&#x27;, &#x27;ind_var13_medio_0&#x27;, &#x27;ind_var13_medio&#x27;, &#x27;ind_var13&#x27;, &#x27;ind_var14_0&#x27;, &#x27;ind_var14&#x27;, &#x27;ind_var17_0&#x27;, &#x27;ind_var17&#x27;, &#x27;ind_var18_0&#x27;, &#x27;ind_var18&#x27;, &#x27;ind_var19&#x27;, &#x27;ind_var20_0&#x27;, &#x27;ind_var20&#x27;, &#x27;ind_var24_0&#x27;, &#x27;ind_var24&#x27;, &#x27;ind_var25_cte&#x27;, &#x27;ind_var26_0&#x27;, &#x27;ind_var26_cte&#x27;, &#x27;ind_var26&#x27;, &#x27;ind_var25_0&#x27;, &#x27;ind_var25&#x27;, &#x27;ind_var27_0&#x27;, &#x27;ind_var28_0&#x27;, &#x27;ind_var28&#x27;, &#x27;ind_var27&#x27;, &#x27;ind_var29_0&#x27;, &#x27;ind_var29&#x27;, &#x27;ind_var30_0&#x27;, &#x27;ind_var30&#x27;, &#x27;ind_var31_0&#x27;, &#x27;ind_var31&#x27;, &#x27;ind_var32_cte&#x27;, &#x27;ind_var32_0&#x27;, &#x27;ind_var32&#x27;, &#x27;ind_var33_0&#x27;, &#x27;ind_var33&#x27;, &#x27;ind_var34_0&#x27;, &#x27;ind_var34&#x27;, &#x27;ind_var37_cte&#x27;, &#x27;ind_var37_0&#x27;, &#x27;ind_var37&#x27;, &#x27;ind_var39_0&#x27;, &#x27;ind_var40_0&#x27;, &#x27;ind_var40&#x27;, &#x27;ind_var41_0&#x27;, &#x27;ind_var41&#x27;, &#x27;ind_var39&#x27;, &#x27;ind_var44_0&#x27;, &#x27;ind_var44&#x27;, &#x27;ind_var46_0&#x27;, &#x27;ind_var46&#x27;, &#x27;num_var1_0&#x27;, &#x27;num_var1&#x27;, &#x27;num_var4&#x27;, &#x27;num_var5_0&#x27;, &#x27;num_var5&#x27;, &#x27;num_var6_0&#x27;, &#x27;num_var6&#x27;, &#x27;num_var8_0&#x27;, &#x27;num_var8&#x27;, &#x27;num_var12_0&#x27;, &#x27;num_var12&#x27;, &#x27;num_var13_0&#x27;, &#x27;num_var13_corto_0&#x27;, &#x27;num_var13_corto&#x27;, &#x27;num_var13_largo_0&#x27;, &#x27;num_var13_largo&#x27;, &#x27;num_var13_medio_0&#x27;, &#x27;num_var13_medio&#x27;, &#x27;num_var13&#x27;, &#x27;num_var14_0&#x27;, &#x27;num_var14&#x27;, &#x27;num_var17_0&#x27;, &#x27;num_var17&#x27;, &#x27;num_var18_0&#x27;, &#x27;num_var18&#x27;, &#x27;num_var20_0&#x27;, &#x27;num_var20&#x27;, &#x27;num_var24_0&#x27;, &#x27;num_var24&#x27;, &#x27;num_var26_0&#x27;, &#x27;num_var26&#x27;, &#x27;num_var25_0&#x27;, &#x27;num_var25&#x27;, &#x27;num_op_var40_hace2&#x27;, &#x27;num_op_var40_hace3&#x27;, &#x27;num_op_var40_ult1&#x27;, &#x27;num_op_var40_ult3&#x27;, &#x27;num_op_var41_hace2&#x27;, &#x27;num_op_var41_hace3&#x27;, &#x27;num_op_var41_ult1&#x27;, &#x27;num_op_var41_ult3&#x27;, &#x27;num_op_var39_hace2&#x27;, &#x27;num_op_var39_hace3&#x27;, &#x27;num_op_var39_ult1&#x27;, &#x27;num_op_var39_ult3&#x27;, &#x27;num_var27_0&#x27;, &#x27;num_var28_0&#x27;, &#x27;num_var28&#x27;, &#x27;num_var27&#x27;, &#x27;num_var29_0&#x27;, &#x27;num_var29&#x27;, &#x27;num_var30_0&#x27;, &#x27;num_var30&#x27;, &#x27;num_var31_0&#x27;, &#x27;num_var31&#x27;, &#x27;num_var32_0&#x27;, &#x27;num_var32&#x27;, &#x27;num_var33_0&#x27;, &#x27;num_var33&#x27;, &#x27;num_var34_0&#x27;, &#x27;num_var34&#x27;, &#x27;num_var35&#x27;, &#x27;num_var37_med_ult2&#x27;, &#x27;num_var37_0&#x27;, &#x27;num_var37&#x27;, &#x27;num_var39_0&#x27;, &#x27;num_var40_0&#x27;, &#x27;num_var40&#x27;, &#x27;num_var41_0&#x27;, &#x27;num_var41&#x27;, &#x27;num_var39&#x27;, &#x27;num_var42_0&#x27;, &#x27;num_var42&#x27;, &#x27;num_var44_0&#x27;, &#x27;num_var44&#x27;, &#x27;num_var46_0&#x27;, &#x27;num_var46&#x27;, &#x27;saldo_var1&#x27;, &#x27;saldo_var5&#x27;, &#x27;saldo_var6&#x27;, &#x27;saldo_var8&#x27;, &#x27;saldo_var12&#x27;, &#x27;saldo_var13_corto&#x27;, &#x27;saldo_var13_largo&#x27;, &#x27;saldo_var13_medio&#x27;, &#x27;saldo_var13&#x27;, &#x27;saldo_var14&#x27;, &#x27;saldo_var17&#x27;, &#x27;saldo_var18&#x27;, &#x27;saldo_var20&#x27;, &#x27;saldo_var24&#x27;, &#x27;saldo_var26&#x27;, &#x27;saldo_var25&#x27;, &#x27;saldo_var28&#x27;, &#x27;saldo_var27&#x27;, &#x27;saldo_var29&#x27;, &#x27;saldo_var30&#x27;, &#x27;saldo_var31&#x27;, &#x27;saldo_var32&#x27;, &#x27;saldo_var33&#x27;, &#x27;saldo_var34&#x27;, &#x27;saldo_var37&#x27;, &#x27;saldo_var40&#x27;, &#x27;saldo_var41&#x27;, &#x27;saldo_var42&#x27;, &#x27;saldo_var44&#x27;, &#x27;saldo_var46&#x27;, &#x27;var36&#x27;, &#x27;delta_imp_amort_var18_1y3&#x27;, &#x27;delta_imp_amort_var34_1y3&#x27;, &#x27;delta_imp_aport_var13_1y3&#x27;, &#x27;delta_imp_aport_var17_1y3&#x27;, &#x27;delta_imp_aport_var33_1y3&#x27;, &#x27;delta_imp_compra_var44_1y3&#x27;, &#x27;delta_imp_reemb_var13_1y3&#x27;, &#x27;delta_imp_reemb_var17_1y3&#x27;, &#x27;delta_imp_reemb_var33_1y3&#x27;, &#x27;delta_imp_trasp_var17_in_1y3&#x27;, &#x27;delta_imp_trasp_var17_out_1y3&#x27;, &#x27;delta_imp_trasp_var33_in_1y3&#x27;, &#x27;delta_imp_trasp_var33_out_1y3&#x27;, &#x27;delta_imp_venta_var44_1y3&#x27;, &#x27;delta_num_aport_var13_1y3&#x27;, &#x27;delta_num_aport_var17_1y3&#x27;, &#x27;delta_num_aport_var33_1y3&#x27;, &#x27;delta_num_compra_var44_1y3&#x27;, &#x27;delta_num_reemb_var13_1y3&#x27;, &#x27;delta_num_reemb_var17_1y3&#x27;, &#x27;delta_num_reemb_var33_1y3&#x27;, &#x27;delta_num_trasp_var17_in_1y3&#x27;, &#x27;delta_num_trasp_var17_out_1y3&#x27;, &#x27;delta_num_trasp_var33_in_1y3&#x27;, &#x27;delta_num_trasp_var33_out_1y3&#x27;, &#x27;delta_num_venta_var44_1y3&#x27;, &#x27;imp_amort_var18_hace3&#x27;, &#x27;imp_amort_var18_ult1&#x27;, &#x27;imp_amort_var34_hace3&#x27;, &#x27;imp_amort_var34_ult1&#x27;, &#x27;imp_aport_var13_hace3&#x27;, &#x27;imp_aport_var13_ult1&#x27;, &#x27;imp_aport_var17_hace3&#x27;, &#x27;imp_aport_var17_ult1&#x27;, &#x27;imp_aport_var33_hace3&#x27;, &#x27;imp_aport_var33_ult1&#x27;, &#x27;imp_var7_emit_ult1&#x27;, &#x27;imp_var7_recib_ult1&#x27;, &#x27;imp_compra_var44_hace3&#x27;, &#x27;imp_compra_var44_ult1&#x27;, &#x27;imp_reemb_var13_hace3&#x27;, &#x27;imp_reemb_var13_ult1&#x27;, &#x27;imp_reemb_var17_hace3&#x27;, &#x27;imp_reemb_var17_ult1&#x27;, &#x27;imp_reemb_var33_hace3&#x27;, &#x27;imp_reemb_var33_ult1&#x27;, &#x27;imp_var43_emit_ult1&#x27;, &#x27;imp_trans_var37_ult1&#x27;, &#x27;imp_trasp_var17_in_hace3&#x27;, &#x27;imp_trasp_var17_in_ult1&#x27;, &#x27;imp_trasp_var17_out_hace3&#x27;, &#x27;imp_trasp_var17_out_ult1&#x27;, &#x27;imp_trasp_var33_in_hace3&#x27;, &#x27;imp_trasp_var33_in_ult1&#x27;, &#x27;imp_trasp_var33_out_hace3&#x27;, &#x27;imp_trasp_var33_out_ult1&#x27;, &#x27;imp_venta_var44_hace3&#x27;, &#x27;imp_venta_var44_ult1&#x27;, &#x27;ind_var7_emit_ult1&#x27;, &#x27;ind_var7_recib_ult1&#x27;, &#x27;ind_var10_ult1&#x27;, &#x27;ind_var10cte_ult1&#x27;, &#x27;ind_var9_cte_ult1&#x27;, &#x27;ind_var9_ult1&#x27;, &#x27;ind_var43_emit_ult1&#x27;, &#x27;ind_var43_recib_ult1&#x27;, &#x27;var21&#x27;, &#x27;num_var2_0_ult1&#x27;, &#x27;num_var2_ult1&#x27;, &#x27;num_aport_var13_hace3&#x27;, &#x27;num_aport_var13_ult1&#x27;, &#x27;num_aport_var17_hace3&#x27;, &#x27;num_aport_var17_ult1&#x27;, &#x27;num_aport_var33_hace3&#x27;, &#x27;num_aport_var33_ult1&#x27;, &#x27;num_var7_emit_ult1&#x27;, &#x27;num_var7_recib_ult1&#x27;, &#x27;num_compra_var44_hace3&#x27;, &#x27;num_compra_var44_ult1&#x27;, &#x27;num_ent_var16_ult1&#x27;, &#x27;num_var22_hace2&#x27;, &#x27;num_var22_hace3&#x27;, &#x27;num_var22_ult1&#x27;, &#x27;num_var22_ult3&#x27;, &#x27;num_med_var22_ult3&#x27;, &#x27;num_med_var45_ult3&#x27;, &#x27;num_meses_var5_ult3&#x27;, &#x27;num_meses_var8_ult3&#x27;, &#x27;num_meses_var12_ult3&#x27;, &#x27;num_meses_var13_corto_ult3&#x27;, &#x27;num_meses_var13_largo_ult3&#x27;, &#x27;num_meses_var13_medio_ult3&#x27;, &#x27;num_meses_var17_ult3&#x27;, &#x27;num_meses_var29_ult3&#x27;, &#x27;num_meses_var33_ult3&#x27;, &#x27;num_meses_var39_vig_ult3&#x27;, &#x27;num_meses_var44_ult3&#x27;, &#x27;num_op_var39_comer_ult1&#x27;, &#x27;num_op_var39_comer_ult3&#x27;, &#x27;num_op_var40_comer_ult1&#x27;, &#x27;num_op_var40_comer_ult3&#x27;, &#x27;num_op_var40_efect_ult1&#x27;, &#x27;num_op_var40_efect_ult3&#x27;, &#x27;num_op_var41_comer_ult1&#x27;, &#x27;num_op_var41_comer_ult3&#x27;, &#x27;num_op_var41_efect_ult1&#x27;, &#x27;num_op_var41_efect_ult3&#x27;, &#x27;num_op_var39_efect_ult1&#x27;, &#x27;num_op_var39_efect_ult3&#x27;, &#x27;num_reemb_var13_hace3&#x27;, &#x27;num_reemb_var13_ult1&#x27;, &#x27;num_reemb_var17_hace3&#x27;, &#x27;num_reemb_var17_ult1&#x27;, &#x27;num_reemb_var33_hace3&#x27;, &#x27;num_reemb_var33_ult1&#x27;, &#x27;num_sal_var16_ult1&#x27;, &#x27;num_var43_emit_ult1&#x27;, &#x27;num_var43_recib_ult1&#x27;, &#x27;num_trasp_var11_ult1&#x27;, &#x27;num_trasp_var17_in_hace3&#x27;, &#x27;num_trasp_var17_in_ult1&#x27;, &#x27;num_trasp_var17_out_hace3&#x27;, &#x27;num_trasp_var17_out_ult1&#x27;, &#x27;num_trasp_var33_in_hace3&#x27;, &#x27;num_trasp_var33_in_ult1&#x27;, &#x27;num_trasp_var33_out_hace3&#x27;, &#x27;num_trasp_var33_out_ult1&#x27;, &#x27;num_venta_var44_hace3&#x27;, &#x27;num_venta_var44_ult1&#x27;, &#x27;num_var45_hace2&#x27;, &#x27;num_var45_hace3&#x27;, &#x27;num_var45_ult1&#x27;, &#x27;num_var45_ult3&#x27;, &#x27;saldo_var2_ult1&#x27;, &#x27;saldo_medio_var5_hace2&#x27;, &#x27;saldo_medio_var5_hace3&#x27;, &#x27;saldo_medio_var5_ult1&#x27;, &#x27;saldo_medio_var5_ult3&#x27;, &#x27;saldo_medio_var8_hace2&#x27;, &#x27;saldo_medio_var8_hace3&#x27;, &#x27;saldo_medio_var8_ult1&#x27;, &#x27;saldo_medio_var8_ult3&#x27;, &#x27;saldo_medio_var12_hace2&#x27;, &#x27;saldo_medio_var12_hace3&#x27;, &#x27;saldo_medio_var12_ult1&#x27;, &#x27;saldo_medio_var12_ult3&#x27;, &#x27;saldo_medio_var13_corto_hace2&#x27;, &#x27;saldo_medio_var13_corto_hace3&#x27;, &#x27;saldo_medio_var13_corto_ult1&#x27;, &#x27;saldo_medio_var13_corto_ult3&#x27;, &#x27;saldo_medio_var13_largo_hace2&#x27;, &#x27;saldo_medio_var13_largo_hace3&#x27;, &#x27;saldo_medio_var13_largo_ult1&#x27;, &#x27;saldo_medio_var13_largo_ult3&#x27;, &#x27;saldo_medio_var13_medio_hace2&#x27;, &#x27;saldo_medio_var13_medio_hace3&#x27;, &#x27;saldo_medio_var13_medio_ult1&#x27;, &#x27;saldo_medio_var13_medio_ult3&#x27;, &#x27;saldo_medio_var17_hace2&#x27;, &#x27;saldo_medio_var17_hace3&#x27;, &#x27;saldo_medio_var17_ult1&#x27;, &#x27;saldo_medio_var17_ult3&#x27;, &#x27;saldo_medio_var29_hace2&#x27;, &#x27;saldo_medio_var29_hace3&#x27;, &#x27;saldo_medio_var29_ult1&#x27;, &#x27;saldo_medio_var29_ult3&#x27;, &#x27;saldo_medio_var33_hace2&#x27;, &#x27;saldo_medio_var33_hace3&#x27;, &#x27;saldo_medio_var33_ult1&#x27;, &#x27;saldo_medio_var33_ult3&#x27;, &#x27;saldo_medio_var44_hace2&#x27;, &#x27;saldo_medio_var44_hace3&#x27;, &#x27;saldo_medio_var44_ult1&#x27;, &#x27;saldo_medio_var44_ult3&#x27;, &#x27;var38&#x27;]</pre></div></div></div><div class=\"sk-serial\"><div class=\"sk-item\"><div class=\"sk-serial\"><div class=\"sk-item\"><div class=\"sk-estimator sk-toggleable\"><input class=\"sk-toggleable__control sk-hidden--visually\" id=\"sk-estimator-id-14\" type=\"checkbox\" ><label for=\"sk-estimator-id-14\" class=\"sk-toggleable__label sk-toggleable__label-arrow\">VarianceThreshold</label><div class=\"sk-toggleable__content\"><pre>VarianceThreshold(threshold=0.08999999999999998)</pre></div></div></div><div class=\"sk-item\"><div class=\"sk-estimator sk-toggleable\"><input class=\"sk-toggleable__control sk-hidden--visually\" id=\"sk-estimator-id-15\" type=\"checkbox\" ><label for=\"sk-estimator-id-15\" class=\"sk-toggleable__label sk-toggleable__label-arrow\">CorrRemover</label><div class=\"sk-toggleable__content\"><pre>CorrRemover()</pre></div></div></div><div class=\"sk-item\"><div class=\"sk-estimator sk-toggleable\"><input class=\"sk-toggleable__control sk-hidden--visually\" id=\"sk-estimator-id-16\" type=\"checkbox\" ><label for=\"sk-estimator-id-16\" class=\"sk-toggleable__label sk-toggleable__label-arrow\">StandardScaler</label><div class=\"sk-toggleable__content\"><pre>StandardScaler()</pre></div></div></div><div class=\"sk-item\"><div class=\"sk-estimator sk-toggleable\"><input class=\"sk-toggleable__control sk-hidden--visually\" id=\"sk-estimator-id-17\" type=\"checkbox\" ><label for=\"sk-estimator-id-17\" class=\"sk-toggleable__label sk-toggleable__label-arrow\">QuantileTransformer</label><div class=\"sk-toggleable__content\"><pre>QuantileTransformer()</pre></div></div></div><div class=\"sk-item\"><div class=\"sk-estimator sk-toggleable\"><input class=\"sk-toggleable__control sk-hidden--visually\" id=\"sk-estimator-id-18\" type=\"checkbox\" ><label for=\"sk-estimator-id-18\" class=\"sk-toggleable__label sk-toggleable__label-arrow\">PCA</label><div class=\"sk-toggleable__content\"><pre>PCA()</pre></div></div></div></div></div></div></div></div></div></div><div class=\"sk-item\"><div class=\"sk-estimator sk-toggleable\"><input class=\"sk-toggleable__control sk-hidden--visually\" id=\"sk-estimator-id-19\" type=\"checkbox\" ><label for=\"sk-estimator-id-19\" class=\"sk-toggleable__label sk-toggleable__label-arrow\">LogisticRegression</label><div class=\"sk-toggleable__content\"><pre>LogisticRegression()</pre></div></div></div></div></div></div></div>"
      ],
      "text/plain": [
       "Pipeline(steps=[('preprocess',\n",
       "                 ColumnTransformer(transformers=[('prep',\n",
       "                                                  Pipeline(steps=[('variance',\n",
       "                                                                   VarianceThreshold(threshold=0.08999999999999998)),\n",
       "                                                                  ('corr',\n",
       "                                                                   CorrRemover()),\n",
       "                                                                  ('scaler',\n",
       "                                                                   StandardScaler()),\n",
       "                                                                  ('quantile',\n",
       "                                                                   QuantileTransformer()),\n",
       "                                                                  ('pca',\n",
       "                                                                   PCA())]),\n",
       "                                                  ['var3', 'var15',\n",
       "                                                   'imp_ent_var16_ult1',\n",
       "                                                   'imp_op_var39_comer_ult1',\n",
       "                                                   'imp_op_var39_comer_ult3',\n",
       "                                                   'imp_op_var...\n",
       "                                                   'imp_op_var41_comer_ult3',\n",
       "                                                   'imp_op_var41_efect_ult1',\n",
       "                                                   'imp_op_var41_efect_ult3',\n",
       "                                                   'imp_op_var41_ult1',\n",
       "                                                   'imp_op_var39_efect_ult1',\n",
       "                                                   'imp_op_var39_efect_ult3',\n",
       "                                                   'imp_op_var39_ult1',\n",
       "                                                   'imp_sal_var16_ult1',\n",
       "                                                   'ind_var1_0', 'ind_var1',\n",
       "                                                   'ind_var2_0', 'ind_var2',\n",
       "                                                   'ind_var5_0', 'ind_var5',\n",
       "                                                   'ind_var6_0', 'ind_var6',\n",
       "                                                   'ind_var8_0', 'ind_var8',\n",
       "                                                   'ind_var12_0', ...])])),\n",
       "                ('model', LogisticRegression())])"
      ]
     },
     "execution_count": 26,
     "metadata": {},
     "output_type": "execute_result"
    }
   ],
   "source": [
    "pipe.fit(X_train, y_train)"
   ]
  },
  {
   "cell_type": "code",
   "execution_count": 28,
   "id": "dfa23217",
   "metadata": {},
   "outputs": [],
   "source": [
    "_ = pipe.predict(X_val)"
   ]
  },
  {
   "cell_type": "code",
   "execution_count": 29,
   "id": "38130f86",
   "metadata": {},
   "outputs": [
    {
     "data": {
      "text/plain": [
       "array([0, 0, 0, ..., 0, 0, 0], dtype=int64)"
      ]
     },
     "execution_count": 29,
     "metadata": {},
     "output_type": "execute_result"
    }
   ],
   "source": [
    "_"
   ]
  },
  {
   "cell_type": "code",
   "execution_count": 30,
   "id": "bdda90f7",
   "metadata": {},
   "outputs": [
    {
     "data": {
      "text/plain": [
       "array([[21899,     5],\n",
       "       [  900,     2]], dtype=int64)"
      ]
     },
     "execution_count": 30,
     "metadata": {},
     "output_type": "execute_result"
    }
   ],
   "source": [
    "# modelo está muito ruim para a classe positiva\n",
    "confusion_matrix(y_val, _)"
   ]
  },
  {
   "cell_type": "code",
   "execution_count": 31,
   "id": "333bb43c",
   "metadata": {},
   "outputs": [
    {
     "data": {
      "text/plain": [
       "{'steps': [('preprocess',\n",
       "   ColumnTransformer(transformers=[('prep',\n",
       "                                    Pipeline(steps=[('variance',\n",
       "                                                     VarianceThreshold(threshold=0.08999999999999998)),\n",
       "                                                    ('corr', CorrRemover()),\n",
       "                                                    ('scaler', StandardScaler()),\n",
       "                                                    ('quantile',\n",
       "                                                     QuantileTransformer()),\n",
       "                                                    ('pca', PCA())]),\n",
       "                                    ['var3', 'var15', 'imp_ent_var16_ult1',\n",
       "                                     'imp_op_var39_comer_ult1',\n",
       "                                     'imp_op_var39_comer_ult3',\n",
       "                                     'imp_op_var40_comer_ult1',\n",
       "                                     'imp_op_var40_c...\n",
       "                                     'imp_op_var41_comer_ult1',\n",
       "                                     'imp_op_var41_comer_ult3',\n",
       "                                     'imp_op_var41_efect_ult1',\n",
       "                                     'imp_op_var41_efect_ult3',\n",
       "                                     'imp_op_var41_ult1',\n",
       "                                     'imp_op_var39_efect_ult1',\n",
       "                                     'imp_op_var39_efect_ult3',\n",
       "                                     'imp_op_var39_ult1', 'imp_sal_var16_ult1',\n",
       "                                     'ind_var1_0', 'ind_var1', 'ind_var2_0',\n",
       "                                     'ind_var2', 'ind_var5_0', 'ind_var5',\n",
       "                                     'ind_var6_0', 'ind_var6', 'ind_var8_0',\n",
       "                                     'ind_var8', 'ind_var12_0', ...])])),\n",
       "  ('model', LogisticRegression())],\n",
       " 'memory': None,\n",
       " 'verbose': False}"
      ]
     },
     "execution_count": 31,
     "metadata": {},
     "output_type": "execute_result"
    }
   ],
   "source": [
    "pipe.__dict__"
   ]
  },
  {
   "cell_type": "code",
   "execution_count": 32,
   "id": "a7e5bb31",
   "metadata": {},
   "outputs": [],
   "source": [
    "weights = np.linspace(0.0,0.99,200)\n",
    "param = [\n",
    "    dict(\n",
    "        preprocess__prep__quantile__output_distribution=['normal', 'uniform'],\n",
    "        preprocess__prep__pca__n_components=[5,10,20,0.95],\n",
    "#         preprocess__prep__corr__threshold=[0.8,0.9,0.99],\n",
    "        model__penalty=['l1', 'l2'],\n",
    "        model__class_weight=[{0:x, 1:1.0-x} for x in weights]\n",
    "    )\n",
    "]"
   ]
  },
  {
   "cell_type": "code",
   "execution_count": null,
   "id": "6a1f6336",
   "metadata": {},
   "outputs": [
    {
     "name": "stdout",
     "output_type": "stream",
     "text": [
      "Fitting 3 folds for each of 3200 candidates, totalling 9600 fits\n"
     ]
    }
   ],
   "source": [
    "grid = GridSearchCV(pipe, param, cv=3, scoring='accuracy', n_jobs=-1, verbose=10) \n",
    "grid.fit(X_train, y_train) \n",
    "print(grid.best_score_)"
   ]
  },
  {
   "cell_type": "code",
   "execution_count": null,
   "id": "ac64e035",
   "metadata": {},
   "outputs": [],
   "source": [
    "weigh_data = pd.DataFrame({ 'score': gridsearch.cv_results_['mean_test_score'], 'weight': (1- weights)})\n",
    "fig, ax = plt.subplots()\n",
    "ax.plot(weigh_data['weight'], weigh_data['score'], linewidth=2.0)\n",
    "plt.xlabel('Weight for class 1')\n",
    "plt.ylabel('F1 score')\n",
    "plt.xticks([round(i/10,1) for i in range(0,11,1)])\n",
    "plt.title('Scoring for different class weights', fontsize=24)"
   ]
  },
  {
   "cell_type": "code",
   "execution_count": null,
   "id": "c4eb0337",
   "metadata": {},
   "outputs": [],
   "source": [
    "param = [\n",
    "    dict(\n",
    "        preprocess__num_pipe__poly__degree=[2,3],\n",
    "        preprocess__num_pipe__poly__interaction_only=[True],\n",
    "        preprocess__num_pipe__pca__n_components=[14,15,16],\n",
    "), dict(\n",
    "        model=[DecisionTreeClassifier()],\n",
    "        model__criterion=['gini', 'entropy', 'log_loss'],\n",
    "        model__max_depth=[5,8,13,15,18],\n",
    "        model__max_features=['auto', 'sqrt', 'log2', None],\n",
    "        preprocess__num_pipe__poly__degree=[2,3],\n",
    "        preprocess__num_pipe__poly__interaction_only=[True, False],\n",
    "        preprocess__num_pipe__pca__n_components=[5,10,15,0.95],\n",
    "), dict(\n",
    "        model=[RandomForestClassifier()],\n",
    "        model__n_estimators=[50,100,200],\n",
    "        model__max_depth=[5,8,13,15,18],\n",
    "        model__max_features=['auto', 'sqrt', 'log2', None],\n",
    "        preprocess__num_pipe__poly__degree=[2,3],\n",
    "        preprocess__num_pipe__poly__interaction_only=[True, False],\n",
    "        preprocess__num_pipe__pca__n_components=[5,10,15,0.95],\n",
    "), dict(\n",
    "    model=[GaussianNB]\n",
    "), dict(\n",
    "        model=[LogisticRegression()],\n",
    "        model__C=[0.5,0.8,0.9,1,1.2,1.3,1.5],\n",
    "        preprocess__num_pipe__poly__degree=[2,3],\n",
    "        preprocess__num_pipe__poly__interaction_only=[True, False],\n",
    "        preprocess__num_pipe__pca__n_components=[5,10,15,0.95],\n",
    "       )\n",
    "    \n",
    "]"
   ]
  }
 ],
 "metadata": {
  "kernelspec": {
   "display_name": "Python 3 (ipykernel)",
   "language": "python",
   "name": "python3"
  },
  "language_info": {
   "codemirror_mode": {
    "name": "ipython",
    "version": 3
   },
   "file_extension": ".py",
   "mimetype": "text/x-python",
   "name": "python",
   "nbconvert_exporter": "python",
   "pygments_lexer": "ipython3",
   "version": "3.9.7"
  }
 },
 "nbformat": 4,
 "nbformat_minor": 5
}
