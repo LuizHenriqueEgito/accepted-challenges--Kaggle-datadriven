{
 "cells": [
  {
   "cell_type": "code",
   "execution_count": 1,
   "id": "5b4b3a02",
   "metadata": {},
   "outputs": [],
   "source": [
    "import pandas as pd"
   ]
  },
  {
   "cell_type": "code",
   "execution_count": 2,
   "id": "aa53860e",
   "metadata": {},
   "outputs": [],
   "source": [
    "data = pd.read_csv('../data/train.csv')"
   ]
  },
  {
   "cell_type": "code",
   "execution_count": 3,
   "id": "a0660774",
   "metadata": {},
   "outputs": [
    {
     "name": "stdout",
     "output_type": "stream",
     "text": [
      "<class 'pandas.core.frame.DataFrame'>\n",
      "RangeIndex: 1460 entries, 0 to 1459\n",
      "Data columns (total 81 columns):\n",
      " #   Column         Non-Null Count  Dtype  \n",
      "---  ------         --------------  -----  \n",
      " 0   Id             1460 non-null   int64  \n",
      " 1   MSSubClass     1460 non-null   int64  \n",
      " 2   MSZoning       1460 non-null   object \n",
      " 3   LotFrontage    1201 non-null   float64\n",
      " 4   LotArea        1460 non-null   int64  \n",
      " 5   Street         1460 non-null   object \n",
      " 6   Alley          91 non-null     object \n",
      " 7   LotShape       1460 non-null   object \n",
      " 8   LandContour    1460 non-null   object \n",
      " 9   Utilities      1460 non-null   object \n",
      " 10  LotConfig      1460 non-null   object \n",
      " 11  LandSlope      1460 non-null   object \n",
      " 12  Neighborhood   1460 non-null   object \n",
      " 13  Condition1     1460 non-null   object \n",
      " 14  Condition2     1460 non-null   object \n",
      " 15  BldgType       1460 non-null   object \n",
      " 16  HouseStyle     1460 non-null   object \n",
      " 17  OverallQual    1460 non-null   int64  \n",
      " 18  OverallCond    1460 non-null   int64  \n",
      " 19  YearBuilt      1460 non-null   int64  \n",
      " 20  YearRemodAdd   1460 non-null   int64  \n",
      " 21  RoofStyle      1460 non-null   object \n",
      " 22  RoofMatl       1460 non-null   object \n",
      " 23  Exterior1st    1460 non-null   object \n",
      " 24  Exterior2nd    1460 non-null   object \n",
      " 25  MasVnrType     1452 non-null   object \n",
      " 26  MasVnrArea     1452 non-null   float64\n",
      " 27  ExterQual      1460 non-null   object \n",
      " 28  ExterCond      1460 non-null   object \n",
      " 29  Foundation     1460 non-null   object \n",
      " 30  BsmtQual       1423 non-null   object \n",
      " 31  BsmtCond       1423 non-null   object \n",
      " 32  BsmtExposure   1422 non-null   object \n",
      " 33  BsmtFinType1   1423 non-null   object \n",
      " 34  BsmtFinSF1     1460 non-null   int64  \n",
      " 35  BsmtFinType2   1422 non-null   object \n",
      " 36  BsmtFinSF2     1460 non-null   int64  \n",
      " 37  BsmtUnfSF      1460 non-null   int64  \n",
      " 38  TotalBsmtSF    1460 non-null   int64  \n",
      " 39  Heating        1460 non-null   object \n",
      " 40  HeatingQC      1460 non-null   object \n",
      " 41  CentralAir     1460 non-null   object \n",
      " 42  Electrical     1459 non-null   object \n",
      " 43  1stFlrSF       1460 non-null   int64  \n",
      " 44  2ndFlrSF       1460 non-null   int64  \n",
      " 45  LowQualFinSF   1460 non-null   int64  \n",
      " 46  GrLivArea      1460 non-null   int64  \n",
      " 47  BsmtFullBath   1460 non-null   int64  \n",
      " 48  BsmtHalfBath   1460 non-null   int64  \n",
      " 49  FullBath       1460 non-null   int64  \n",
      " 50  HalfBath       1460 non-null   int64  \n",
      " 51  BedroomAbvGr   1460 non-null   int64  \n",
      " 52  KitchenAbvGr   1460 non-null   int64  \n",
      " 53  KitchenQual    1460 non-null   object \n",
      " 54  TotRmsAbvGrd   1460 non-null   int64  \n",
      " 55  Functional     1460 non-null   object \n",
      " 56  Fireplaces     1460 non-null   int64  \n",
      " 57  FireplaceQu    770 non-null    object \n",
      " 58  GarageType     1379 non-null   object \n",
      " 59  GarageYrBlt    1379 non-null   float64\n",
      " 60  GarageFinish   1379 non-null   object \n",
      " 61  GarageCars     1460 non-null   int64  \n",
      " 62  GarageArea     1460 non-null   int64  \n",
      " 63  GarageQual     1379 non-null   object \n",
      " 64  GarageCond     1379 non-null   object \n",
      " 65  PavedDrive     1460 non-null   object \n",
      " 66  WoodDeckSF     1460 non-null   int64  \n",
      " 67  OpenPorchSF    1460 non-null   int64  \n",
      " 68  EnclosedPorch  1460 non-null   int64  \n",
      " 69  3SsnPorch      1460 non-null   int64  \n",
      " 70  ScreenPorch    1460 non-null   int64  \n",
      " 71  PoolArea       1460 non-null   int64  \n",
      " 72  PoolQC         7 non-null      object \n",
      " 73  Fence          281 non-null    object \n",
      " 74  MiscFeature    54 non-null     object \n",
      " 75  MiscVal        1460 non-null   int64  \n",
      " 76  MoSold         1460 non-null   int64  \n",
      " 77  YrSold         1460 non-null   int64  \n",
      " 78  SaleType       1460 non-null   object \n",
      " 79  SaleCondition  1460 non-null   object \n",
      " 80  SalePrice      1460 non-null   int64  \n",
      "dtypes: float64(3), int64(35), object(43)\n",
      "memory usage: 924.0+ KB\n"
     ]
    }
   ],
   "source": [
    "data.info()"
   ]
  },
  {
   "cell_type": "code",
   "execution_count": 4,
   "id": "6d5e4e17",
   "metadata": {},
   "outputs": [],
   "source": [
    "data.drop(columns=['MiscFeature',\n",
    "                   'Fence',\n",
    "                   'PoolQC',\n",
    "                   'FireplaceQu',\n",
    "                   'Alley'], inplace=True)"
   ]
  },
  {
   "cell_type": "code",
   "execution_count": 5,
   "id": "91d394fa",
   "metadata": {},
   "outputs": [],
   "source": [
    "data.set_index('Id', inplace=True)"
   ]
  },
  {
   "cell_type": "code",
   "execution_count": 6,
   "id": "349b7407",
   "metadata": {},
   "outputs": [],
   "source": [
    "num_data = data.select_dtypes('number')"
   ]
  },
  {
   "cell_type": "code",
   "execution_count": 7,
   "id": "68b96094",
   "metadata": {},
   "outputs": [],
   "source": [
    "num_cols = list(num_data.columns)"
   ]
  },
  {
   "cell_type": "code",
   "execution_count": 8,
   "id": "0b69559d",
   "metadata": {},
   "outputs": [
    {
     "data": {
      "text/html": [
       "<div>\n",
       "<style scoped>\n",
       "    .dataframe tbody tr th:only-of-type {\n",
       "        vertical-align: middle;\n",
       "    }\n",
       "\n",
       "    .dataframe tbody tr th {\n",
       "        vertical-align: top;\n",
       "    }\n",
       "\n",
       "    .dataframe thead th {\n",
       "        text-align: right;\n",
       "    }\n",
       "</style>\n",
       "<table border=\"1\" class=\"dataframe\">\n",
       "  <thead>\n",
       "    <tr style=\"text-align: right;\">\n",
       "      <th></th>\n",
       "      <th>MSSubClass</th>\n",
       "      <th>LotFrontage</th>\n",
       "      <th>LotArea</th>\n",
       "      <th>OverallQual</th>\n",
       "      <th>OverallCond</th>\n",
       "      <th>YearBuilt</th>\n",
       "      <th>YearRemodAdd</th>\n",
       "      <th>MasVnrArea</th>\n",
       "      <th>BsmtFinSF1</th>\n",
       "      <th>BsmtFinSF2</th>\n",
       "      <th>...</th>\n",
       "      <th>WoodDeckSF</th>\n",
       "      <th>OpenPorchSF</th>\n",
       "      <th>EnclosedPorch</th>\n",
       "      <th>3SsnPorch</th>\n",
       "      <th>ScreenPorch</th>\n",
       "      <th>PoolArea</th>\n",
       "      <th>MiscVal</th>\n",
       "      <th>MoSold</th>\n",
       "      <th>YrSold</th>\n",
       "      <th>SalePrice</th>\n",
       "    </tr>\n",
       "  </thead>\n",
       "  <tbody>\n",
       "    <tr>\n",
       "      <th>count</th>\n",
       "      <td>1460.000000</td>\n",
       "      <td>1201.000000</td>\n",
       "      <td>1460.000000</td>\n",
       "      <td>1460.000000</td>\n",
       "      <td>1460.000000</td>\n",
       "      <td>1460.000000</td>\n",
       "      <td>1460.000000</td>\n",
       "      <td>1452.000000</td>\n",
       "      <td>1460.000000</td>\n",
       "      <td>1460.000000</td>\n",
       "      <td>...</td>\n",
       "      <td>1460.000000</td>\n",
       "      <td>1460.000000</td>\n",
       "      <td>1460.000000</td>\n",
       "      <td>1460.000000</td>\n",
       "      <td>1460.000000</td>\n",
       "      <td>1460.000000</td>\n",
       "      <td>1460.000000</td>\n",
       "      <td>1460.000000</td>\n",
       "      <td>1460.000000</td>\n",
       "      <td>1460.000000</td>\n",
       "    </tr>\n",
       "    <tr>\n",
       "      <th>mean</th>\n",
       "      <td>56.897260</td>\n",
       "      <td>70.049958</td>\n",
       "      <td>10516.828082</td>\n",
       "      <td>6.099315</td>\n",
       "      <td>5.575342</td>\n",
       "      <td>1971.267808</td>\n",
       "      <td>1984.865753</td>\n",
       "      <td>103.685262</td>\n",
       "      <td>443.639726</td>\n",
       "      <td>46.549315</td>\n",
       "      <td>...</td>\n",
       "      <td>94.244521</td>\n",
       "      <td>46.660274</td>\n",
       "      <td>21.954110</td>\n",
       "      <td>3.409589</td>\n",
       "      <td>15.060959</td>\n",
       "      <td>2.758904</td>\n",
       "      <td>43.489041</td>\n",
       "      <td>6.321918</td>\n",
       "      <td>2007.815753</td>\n",
       "      <td>180921.195890</td>\n",
       "    </tr>\n",
       "    <tr>\n",
       "      <th>std</th>\n",
       "      <td>42.300571</td>\n",
       "      <td>24.284752</td>\n",
       "      <td>9981.264932</td>\n",
       "      <td>1.382997</td>\n",
       "      <td>1.112799</td>\n",
       "      <td>30.202904</td>\n",
       "      <td>20.645407</td>\n",
       "      <td>181.066207</td>\n",
       "      <td>456.098091</td>\n",
       "      <td>161.319273</td>\n",
       "      <td>...</td>\n",
       "      <td>125.338794</td>\n",
       "      <td>66.256028</td>\n",
       "      <td>61.119149</td>\n",
       "      <td>29.317331</td>\n",
       "      <td>55.757415</td>\n",
       "      <td>40.177307</td>\n",
       "      <td>496.123024</td>\n",
       "      <td>2.703626</td>\n",
       "      <td>1.328095</td>\n",
       "      <td>79442.502883</td>\n",
       "    </tr>\n",
       "    <tr>\n",
       "      <th>min</th>\n",
       "      <td>20.000000</td>\n",
       "      <td>21.000000</td>\n",
       "      <td>1300.000000</td>\n",
       "      <td>1.000000</td>\n",
       "      <td>1.000000</td>\n",
       "      <td>1872.000000</td>\n",
       "      <td>1950.000000</td>\n",
       "      <td>0.000000</td>\n",
       "      <td>0.000000</td>\n",
       "      <td>0.000000</td>\n",
       "      <td>...</td>\n",
       "      <td>0.000000</td>\n",
       "      <td>0.000000</td>\n",
       "      <td>0.000000</td>\n",
       "      <td>0.000000</td>\n",
       "      <td>0.000000</td>\n",
       "      <td>0.000000</td>\n",
       "      <td>0.000000</td>\n",
       "      <td>1.000000</td>\n",
       "      <td>2006.000000</td>\n",
       "      <td>34900.000000</td>\n",
       "    </tr>\n",
       "    <tr>\n",
       "      <th>25%</th>\n",
       "      <td>20.000000</td>\n",
       "      <td>59.000000</td>\n",
       "      <td>7553.500000</td>\n",
       "      <td>5.000000</td>\n",
       "      <td>5.000000</td>\n",
       "      <td>1954.000000</td>\n",
       "      <td>1967.000000</td>\n",
       "      <td>0.000000</td>\n",
       "      <td>0.000000</td>\n",
       "      <td>0.000000</td>\n",
       "      <td>...</td>\n",
       "      <td>0.000000</td>\n",
       "      <td>0.000000</td>\n",
       "      <td>0.000000</td>\n",
       "      <td>0.000000</td>\n",
       "      <td>0.000000</td>\n",
       "      <td>0.000000</td>\n",
       "      <td>0.000000</td>\n",
       "      <td>5.000000</td>\n",
       "      <td>2007.000000</td>\n",
       "      <td>129975.000000</td>\n",
       "    </tr>\n",
       "    <tr>\n",
       "      <th>50%</th>\n",
       "      <td>50.000000</td>\n",
       "      <td>69.000000</td>\n",
       "      <td>9478.500000</td>\n",
       "      <td>6.000000</td>\n",
       "      <td>5.000000</td>\n",
       "      <td>1973.000000</td>\n",
       "      <td>1994.000000</td>\n",
       "      <td>0.000000</td>\n",
       "      <td>383.500000</td>\n",
       "      <td>0.000000</td>\n",
       "      <td>...</td>\n",
       "      <td>0.000000</td>\n",
       "      <td>25.000000</td>\n",
       "      <td>0.000000</td>\n",
       "      <td>0.000000</td>\n",
       "      <td>0.000000</td>\n",
       "      <td>0.000000</td>\n",
       "      <td>0.000000</td>\n",
       "      <td>6.000000</td>\n",
       "      <td>2008.000000</td>\n",
       "      <td>163000.000000</td>\n",
       "    </tr>\n",
       "    <tr>\n",
       "      <th>75%</th>\n",
       "      <td>70.000000</td>\n",
       "      <td>80.000000</td>\n",
       "      <td>11601.500000</td>\n",
       "      <td>7.000000</td>\n",
       "      <td>6.000000</td>\n",
       "      <td>2000.000000</td>\n",
       "      <td>2004.000000</td>\n",
       "      <td>166.000000</td>\n",
       "      <td>712.250000</td>\n",
       "      <td>0.000000</td>\n",
       "      <td>...</td>\n",
       "      <td>168.000000</td>\n",
       "      <td>68.000000</td>\n",
       "      <td>0.000000</td>\n",
       "      <td>0.000000</td>\n",
       "      <td>0.000000</td>\n",
       "      <td>0.000000</td>\n",
       "      <td>0.000000</td>\n",
       "      <td>8.000000</td>\n",
       "      <td>2009.000000</td>\n",
       "      <td>214000.000000</td>\n",
       "    </tr>\n",
       "    <tr>\n",
       "      <th>max</th>\n",
       "      <td>190.000000</td>\n",
       "      <td>313.000000</td>\n",
       "      <td>215245.000000</td>\n",
       "      <td>10.000000</td>\n",
       "      <td>9.000000</td>\n",
       "      <td>2010.000000</td>\n",
       "      <td>2010.000000</td>\n",
       "      <td>1600.000000</td>\n",
       "      <td>5644.000000</td>\n",
       "      <td>1474.000000</td>\n",
       "      <td>...</td>\n",
       "      <td>857.000000</td>\n",
       "      <td>547.000000</td>\n",
       "      <td>552.000000</td>\n",
       "      <td>508.000000</td>\n",
       "      <td>480.000000</td>\n",
       "      <td>738.000000</td>\n",
       "      <td>15500.000000</td>\n",
       "      <td>12.000000</td>\n",
       "      <td>2010.000000</td>\n",
       "      <td>755000.000000</td>\n",
       "    </tr>\n",
       "  </tbody>\n",
       "</table>\n",
       "<p>8 rows × 37 columns</p>\n",
       "</div>"
      ],
      "text/plain": [
       "        MSSubClass  LotFrontage        LotArea  OverallQual  OverallCond  \\\n",
       "count  1460.000000  1201.000000    1460.000000  1460.000000  1460.000000   \n",
       "mean     56.897260    70.049958   10516.828082     6.099315     5.575342   \n",
       "std      42.300571    24.284752    9981.264932     1.382997     1.112799   \n",
       "min      20.000000    21.000000    1300.000000     1.000000     1.000000   \n",
       "25%      20.000000    59.000000    7553.500000     5.000000     5.000000   \n",
       "50%      50.000000    69.000000    9478.500000     6.000000     5.000000   \n",
       "75%      70.000000    80.000000   11601.500000     7.000000     6.000000   \n",
       "max     190.000000   313.000000  215245.000000    10.000000     9.000000   \n",
       "\n",
       "         YearBuilt  YearRemodAdd   MasVnrArea   BsmtFinSF1   BsmtFinSF2  ...  \\\n",
       "count  1460.000000   1460.000000  1452.000000  1460.000000  1460.000000  ...   \n",
       "mean   1971.267808   1984.865753   103.685262   443.639726    46.549315  ...   \n",
       "std      30.202904     20.645407   181.066207   456.098091   161.319273  ...   \n",
       "min    1872.000000   1950.000000     0.000000     0.000000     0.000000  ...   \n",
       "25%    1954.000000   1967.000000     0.000000     0.000000     0.000000  ...   \n",
       "50%    1973.000000   1994.000000     0.000000   383.500000     0.000000  ...   \n",
       "75%    2000.000000   2004.000000   166.000000   712.250000     0.000000  ...   \n",
       "max    2010.000000   2010.000000  1600.000000  5644.000000  1474.000000  ...   \n",
       "\n",
       "        WoodDeckSF  OpenPorchSF  EnclosedPorch    3SsnPorch  ScreenPorch  \\\n",
       "count  1460.000000  1460.000000    1460.000000  1460.000000  1460.000000   \n",
       "mean     94.244521    46.660274      21.954110     3.409589    15.060959   \n",
       "std     125.338794    66.256028      61.119149    29.317331    55.757415   \n",
       "min       0.000000     0.000000       0.000000     0.000000     0.000000   \n",
       "25%       0.000000     0.000000       0.000000     0.000000     0.000000   \n",
       "50%       0.000000    25.000000       0.000000     0.000000     0.000000   \n",
       "75%     168.000000    68.000000       0.000000     0.000000     0.000000   \n",
       "max     857.000000   547.000000     552.000000   508.000000   480.000000   \n",
       "\n",
       "          PoolArea       MiscVal       MoSold       YrSold      SalePrice  \n",
       "count  1460.000000   1460.000000  1460.000000  1460.000000    1460.000000  \n",
       "mean      2.758904     43.489041     6.321918  2007.815753  180921.195890  \n",
       "std      40.177307    496.123024     2.703626     1.328095   79442.502883  \n",
       "min       0.000000      0.000000     1.000000  2006.000000   34900.000000  \n",
       "25%       0.000000      0.000000     5.000000  2007.000000  129975.000000  \n",
       "50%       0.000000      0.000000     6.000000  2008.000000  163000.000000  \n",
       "75%       0.000000      0.000000     8.000000  2009.000000  214000.000000  \n",
       "max     738.000000  15500.000000    12.000000  2010.000000  755000.000000  \n",
       "\n",
       "[8 rows x 37 columns]"
      ]
     },
     "execution_count": 8,
     "metadata": {},
     "output_type": "execute_result"
    }
   ],
   "source": [
    "num_data.describe()"
   ]
  },
  {
   "cell_type": "code",
   "execution_count": 9,
   "id": "9b819285",
   "metadata": {},
   "outputs": [
    {
     "name": "stderr",
     "output_type": "stream",
     "text": [
      "C:\\ProgramData\\Anaconda3\\lib\\site-packages\\pandas\\core\\frame.py:4906: SettingWithCopyWarning: \n",
      "A value is trying to be set on a copy of a slice from a DataFrame\n",
      "\n",
      "See the caveats in the documentation: https://pandas.pydata.org/pandas-docs/stable/user_guide/indexing.html#returning-a-view-versus-a-copy\n",
      "  return super().drop(\n"
     ]
    }
   ],
   "source": [
    "num_data.drop('SalePrice', axis=1, inplace=True)"
   ]
  },
  {
   "cell_type": "code",
   "execution_count": 10,
   "id": "a0c43e61",
   "metadata": {},
   "outputs": [
    {
     "name": "stdout",
     "output_type": "stream",
     "text": [
      "Ok\n"
     ]
    }
   ],
   "source": [
    "c = 0\n",
    "for i in num_data.columns:\n",
    "    if i.startswith(\"Sale\"):\n",
    "        print('aqui')\n",
    "    c += 1\n",
    "    if c == len(num_data.columns):\n",
    "        print('Ok')"
   ]
  },
  {
   "cell_type": "code",
   "execution_count": 11,
   "id": "0a20e18c",
   "metadata": {},
   "outputs": [],
   "source": [
    "from sklearn.preprocessing import StandardScaler\n",
    "from sklearn.impute import SimpleImputer"
   ]
  },
  {
   "cell_type": "code",
   "execution_count": 12,
   "id": "e0c03623",
   "metadata": {},
   "outputs": [],
   "source": [
    "imp = SimpleImputer(strategy='mean')\n",
    "\n",
    "num_data = imp.fit_transform(num_data)\n",
    "\n",
    "std = StandardScaler()\n",
    "\n",
    "num_data = std.fit_transform(num_data)"
   ]
  },
  {
   "cell_type": "code",
   "execution_count": 13,
   "id": "325299f0",
   "metadata": {},
   "outputs": [
    {
     "data": {
      "text/plain": [
       "array([[ 0.07337496, -0.22937175, -0.20714171, ..., -0.08768781,\n",
       "        -1.5991111 ,  0.13877749],\n",
       "       [-0.87256276,  0.4519361 , -0.09188637, ..., -0.08768781,\n",
       "        -0.48911005, -0.61443862],\n",
       "       [ 0.07337496, -0.09311018,  0.07347998, ..., -0.08768781,\n",
       "         0.99089135,  0.13877749],\n",
       "       ...,\n",
       "       [ 0.30985939, -0.18395123, -0.14781027, ...,  4.95311151,\n",
       "        -0.48911005,  1.64520971],\n",
       "       [-0.87256276, -0.09311018, -0.08016039, ..., -0.08768781,\n",
       "        -0.8591104 ,  1.64520971],\n",
       "       [-0.87256276,  0.22483348, -0.05811155, ..., -0.08768781,\n",
       "        -0.1191097 ,  0.13877749]])"
      ]
     },
     "execution_count": 13,
     "metadata": {},
     "output_type": "execute_result"
    }
   ],
   "source": [
    "num_data"
   ]
  },
  {
   "cell_type": "code",
   "execution_count": 14,
   "id": "8f3a5bc5",
   "metadata": {},
   "outputs": [
    {
     "data": {
      "text/plain": [
       "'SalePrice'"
      ]
     },
     "execution_count": 14,
     "metadata": {},
     "output_type": "execute_result"
    }
   ],
   "source": [
    "num_cols.pop()"
   ]
  },
  {
   "cell_type": "code",
   "execution_count": 15,
   "id": "d6b17cca",
   "metadata": {},
   "outputs": [],
   "source": [
    "df = pd.DataFrame(num_data, columns=num_cols)"
   ]
  },
  {
   "cell_type": "code",
   "execution_count": 16,
   "id": "5119a2f7",
   "metadata": {},
   "outputs": [],
   "source": [
    "from sklearn.linear_model import LinearRegression\n",
    "from sklearn.model_selection import train_test_split"
   ]
  },
  {
   "cell_type": "code",
   "execution_count": 17,
   "id": "fed627d8",
   "metadata": {},
   "outputs": [
    {
     "data": {
      "text/plain": [
       "Id\n",
       "1       208500\n",
       "2       181500\n",
       "3       223500\n",
       "4       140000\n",
       "5       250000\n",
       "         ...  \n",
       "1456    175000\n",
       "1457    210000\n",
       "1458    266500\n",
       "1459    142125\n",
       "1460    147500\n",
       "Name: SalePrice, Length: 1460, dtype: int64"
      ]
     },
     "execution_count": 17,
     "metadata": {},
     "output_type": "execute_result"
    }
   ],
   "source": [
    "data.SalePrice"
   ]
  },
  {
   "cell_type": "code",
   "execution_count": 18,
   "id": "749e905c",
   "metadata": {},
   "outputs": [],
   "source": [
    "X = num_data.copy()\n",
    "y = data.SalePrice"
   ]
  },
  {
   "cell_type": "code",
   "execution_count": 20,
   "id": "31dbe795",
   "metadata": {},
   "outputs": [
    {
     "data": {
      "text/plain": [
       "(1460, 36)"
      ]
     },
     "execution_count": 20,
     "metadata": {},
     "output_type": "execute_result"
    }
   ],
   "source": [
    "X.shape"
   ]
  },
  {
   "cell_type": "code",
   "execution_count": 21,
   "id": "627ea3b8",
   "metadata": {},
   "outputs": [
    {
     "data": {
      "text/plain": [
       "(1460,)"
      ]
     },
     "execution_count": 21,
     "metadata": {},
     "output_type": "execute_result"
    }
   ],
   "source": [
    "y.shape"
   ]
  },
  {
   "cell_type": "code",
   "execution_count": 22,
   "id": "1e771f92",
   "metadata": {},
   "outputs": [],
   "source": [
    "X_train, X_test, y_train, y_test = train_test_split(X, y, test_size=0.3, random_state=42)"
   ]
  },
  {
   "cell_type": "code",
   "execution_count": 23,
   "id": "c664df5c",
   "metadata": {},
   "outputs": [],
   "source": [
    "reg = LinearRegression()"
   ]
  },
  {
   "cell_type": "code",
   "execution_count": 24,
   "id": "1dce58a0",
   "metadata": {},
   "outputs": [
    {
     "data": {
      "text/html": [
       "<style>#sk-container-id-1 {color: black;background-color: white;}#sk-container-id-1 pre{padding: 0;}#sk-container-id-1 div.sk-toggleable {background-color: white;}#sk-container-id-1 label.sk-toggleable__label {cursor: pointer;display: block;width: 100%;margin-bottom: 0;padding: 0.3em;box-sizing: border-box;text-align: center;}#sk-container-id-1 label.sk-toggleable__label-arrow:before {content: \"▸\";float: left;margin-right: 0.25em;color: #696969;}#sk-container-id-1 label.sk-toggleable__label-arrow:hover:before {color: black;}#sk-container-id-1 div.sk-estimator:hover label.sk-toggleable__label-arrow:before {color: black;}#sk-container-id-1 div.sk-toggleable__content {max-height: 0;max-width: 0;overflow: hidden;text-align: left;background-color: #f0f8ff;}#sk-container-id-1 div.sk-toggleable__content pre {margin: 0.2em;color: black;border-radius: 0.25em;background-color: #f0f8ff;}#sk-container-id-1 input.sk-toggleable__control:checked~div.sk-toggleable__content {max-height: 200px;max-width: 100%;overflow: auto;}#sk-container-id-1 input.sk-toggleable__control:checked~label.sk-toggleable__label-arrow:before {content: \"▾\";}#sk-container-id-1 div.sk-estimator input.sk-toggleable__control:checked~label.sk-toggleable__label {background-color: #d4ebff;}#sk-container-id-1 div.sk-label input.sk-toggleable__control:checked~label.sk-toggleable__label {background-color: #d4ebff;}#sk-container-id-1 input.sk-hidden--visually {border: 0;clip: rect(1px 1px 1px 1px);clip: rect(1px, 1px, 1px, 1px);height: 1px;margin: -1px;overflow: hidden;padding: 0;position: absolute;width: 1px;}#sk-container-id-1 div.sk-estimator {font-family: monospace;background-color: #f0f8ff;border: 1px dotted black;border-radius: 0.25em;box-sizing: border-box;margin-bottom: 0.5em;}#sk-container-id-1 div.sk-estimator:hover {background-color: #d4ebff;}#sk-container-id-1 div.sk-parallel-item::after {content: \"\";width: 100%;border-bottom: 1px solid gray;flex-grow: 1;}#sk-container-id-1 div.sk-label:hover label.sk-toggleable__label {background-color: #d4ebff;}#sk-container-id-1 div.sk-serial::before {content: \"\";position: absolute;border-left: 1px solid gray;box-sizing: border-box;top: 0;bottom: 0;left: 50%;z-index: 0;}#sk-container-id-1 div.sk-serial {display: flex;flex-direction: column;align-items: center;background-color: white;padding-right: 0.2em;padding-left: 0.2em;position: relative;}#sk-container-id-1 div.sk-item {position: relative;z-index: 1;}#sk-container-id-1 div.sk-parallel {display: flex;align-items: stretch;justify-content: center;background-color: white;position: relative;}#sk-container-id-1 div.sk-item::before, #sk-container-id-1 div.sk-parallel-item::before {content: \"\";position: absolute;border-left: 1px solid gray;box-sizing: border-box;top: 0;bottom: 0;left: 50%;z-index: -1;}#sk-container-id-1 div.sk-parallel-item {display: flex;flex-direction: column;z-index: 1;position: relative;background-color: white;}#sk-container-id-1 div.sk-parallel-item:first-child::after {align-self: flex-end;width: 50%;}#sk-container-id-1 div.sk-parallel-item:last-child::after {align-self: flex-start;width: 50%;}#sk-container-id-1 div.sk-parallel-item:only-child::after {width: 0;}#sk-container-id-1 div.sk-dashed-wrapped {border: 1px dashed gray;margin: 0 0.4em 0.5em 0.4em;box-sizing: border-box;padding-bottom: 0.4em;background-color: white;}#sk-container-id-1 div.sk-label label {font-family: monospace;font-weight: bold;display: inline-block;line-height: 1.2em;}#sk-container-id-1 div.sk-label-container {text-align: center;}#sk-container-id-1 div.sk-container {/* jupyter's `normalize.less` sets `[hidden] { display: none; }` but bootstrap.min.css set `[hidden] { display: none !important; }` so we also need the `!important` here to be able to override the default hidden behavior on the sphinx rendered scikit-learn.org. See: https://github.com/scikit-learn/scikit-learn/issues/21755 */display: inline-block !important;position: relative;}#sk-container-id-1 div.sk-text-repr-fallback {display: none;}</style><div id=\"sk-container-id-1\" class=\"sk-top-container\"><div class=\"sk-text-repr-fallback\"><pre>LinearRegression()</pre><b>In a Jupyter environment, please rerun this cell to show the HTML representation or trust the notebook. <br />On GitHub, the HTML representation is unable to render, please try loading this page with nbviewer.org.</b></div><div class=\"sk-container\" hidden><div class=\"sk-item\"><div class=\"sk-estimator sk-toggleable\"><input class=\"sk-toggleable__control sk-hidden--visually\" id=\"sk-estimator-id-1\" type=\"checkbox\" checked><label for=\"sk-estimator-id-1\" class=\"sk-toggleable__label sk-toggleable__label-arrow\">LinearRegression</label><div class=\"sk-toggleable__content\"><pre>LinearRegression()</pre></div></div></div></div></div>"
      ],
      "text/plain": [
       "LinearRegression()"
      ]
     },
     "execution_count": 24,
     "metadata": {},
     "output_type": "execute_result"
    }
   ],
   "source": [
    "reg.fit(X_train,y_train)"
   ]
  },
  {
   "cell_type": "code",
   "execution_count": 25,
   "id": "75632211",
   "metadata": {},
   "outputs": [],
   "source": [
    "y_pred = reg.predict(X_test)"
   ]
  },
  {
   "cell_type": "code",
   "execution_count": 26,
   "id": "3c45507c",
   "metadata": {},
   "outputs": [
    {
     "data": {
      "text/plain": [
       "array([151454.9427593 , 308704.9427593 , 114848.9427593 , 181168.9427593 ,\n",
       "       299376.9427593 ,  46752.9427593 , 230248.9427593 , 150192.9427593 ,\n",
       "        45136.9427593 , 149984.9427593 , 154768.9427593 , 115856.9427593 ,\n",
       "        76504.9427593 , 212400.9427593 , 190464.9427593 , 142196.9427593 ,\n",
       "       213584.9427593 , 136246.9427593 , 116604.9427593 , 233872.9427593 ,\n",
       "       185592.9427593 , 212192.9427593 , 192496.9427593 , 132432.9427593 ,\n",
       "       211736.9427593 , 147828.9427593 , 199112.9427593 ,  81384.9427593 ,\n",
       "       180712.9427593 , 179576.9427593 , 115816.9427593 , 273040.9427593 ,\n",
       "       225056.9427593 ,  85708.9427593 , 268080.9427593 , 158912.1927593 ,\n",
       "       149308.9427593 , 218184.9427593 , 303464.9427593 ,  91488.9427593 ,\n",
       "       138300.9427593 , 250940.9427593 , 106080.9427593 , 270592.9427593 ,\n",
       "       130896.9427593 , 126484.6927593 , 105632.9427593 , 127900.9427593 ,\n",
       "       357232.9427593 , 128232.9427593 , 105752.9427593 , 216160.9427593 ,\n",
       "        85728.9427593 , 327136.9427593 , 164520.9427593 , 244752.9427593 ,\n",
       "       231136.9427593 , 149811.9427593 , 151642.9427593 , 114656.9427593 ,\n",
       "        57024.9427593 , 138524.9427593 , 284374.9427593 , 259680.9427593 ,\n",
       "       273200.9427593 , 214176.9427593 ,  95408.9427593 , 306560.9427593 ,\n",
       "       101616.9427593 , 184304.9427593 , 128104.9427593 , 115932.9427593 ,\n",
       "        77032.9427593 ,  60184.9427593 , 383232.9427593 , 183716.9427593 ,\n",
       "       296856.9427593 , 295104.9427593 , 123388.9427593 , 113040.9427593 ,\n",
       "       131744.9427593 ,  85816.9427593 , 110932.9427593 , 102928.9427593 ,\n",
       "       167568.9427593 , 114560.9427593 , 257796.9427593 , 209360.9427593 ,\n",
       "       163544.9427593 , 205808.9427593 , 150368.9427593 , 149872.9427593 ,\n",
       "       123744.9427593 , 255444.9427593 ,  91808.9427593 , 187464.9427593 ,\n",
       "       184360.9427593 , 185696.9427593 , 211456.9427593 , 264752.9427593 ,\n",
       "       199712.9427593 , 234384.9427593 , 300896.9427593 , 154992.9427593 ,\n",
       "       163944.9427593 , 185048.9427593 , 168864.9427593 , 231616.9427593 ,\n",
       "       134212.9427593 , 180440.9427593 ,  22944.9427593 , 109128.9427593 ,\n",
       "       136192.9427593 , 119328.9427593 , 215288.9427593 , 128472.9427593 ,\n",
       "        89672.9427593 , 122328.9427593 , 161212.9427593 , 278144.9427593 ,\n",
       "       158256.9427593 , 160008.9427593 , 186912.9427593 , 187012.9427593 ,\n",
       "       191368.9427593 , 124384.9427593 , 234096.9427593 ,  91704.9427593 ,\n",
       "       133349.9427593 , 208528.9427593 , 198552.9427593 , 316288.9427593 ,\n",
       "       201680.9427593 , 123050.9427593 ,  30640.9427593 , 321664.9427593 ,\n",
       "       318864.9427593 , 122536.9427593 , 244560.9427593 , 454720.9427593 ,\n",
       "       303504.9427593 , 120432.9427593 , 191544.9427593 , 158360.9427593 ,\n",
       "       104650.9427593 , 111624.9427593 , 209308.9427593 , 199168.9427593 ,\n",
       "       111128.9427593 ,  45320.9427593 ,  81762.9427593 , 158368.9427593 ,\n",
       "       251584.9427593 , 175990.9427593 ,  52328.9427593 , 110496.9427593 ,\n",
       "       147184.9427593 , 156264.9427593 ,  77872.9427593 , 139750.9427593 ,\n",
       "       214224.9427593 , 171444.9427593 , 289024.9427593 , 141608.9427593 ,\n",
       "       112376.9427593 ,  95904.9427593 , 271312.9427593 , 300536.9427593 ,\n",
       "       339840.9427593 , 220274.9427593 , 322816.9427593 ,  71504.9427593 ,\n",
       "        96176.9427593 , 164992.9427593 , 290720.9427593 , 118064.9427593 ,\n",
       "       133296.9427593 , 226028.9427593 , 120400.9427593 , 149928.9427593 ,\n",
       "       147488.9427593 , 109616.9427593 , 114440.9427593 , 164480.9427593 ,\n",
       "       267066.9427593 , 188816.9427593 , 286160.9427593 , 235088.9427593 ,\n",
       "       194968.9427593 ,  63056.9427593 , 144176.9427593 ,  96516.9427593 ,\n",
       "       136272.9427593 , 143507.4427593 , 198484.9427593 , 196694.9427593 ,\n",
       "       216012.9427593 ,  67312.9427593 , 233076.9427593 , 111264.9427593 ,\n",
       "       251280.9427593 , 207920.9427593 , 110816.9427593 , 305728.9427593 ,\n",
       "       212880.9427593 ,  97928.9427593 , 245239.1927593 , 135288.4427593 ,\n",
       "       163968.10877492,  99680.9427593 , 258132.9427593 , 167968.75965383,\n",
       "       102433.9427593 , 169968.9427593 , 221314.9427593 , 250496.9427593 ,\n",
       "       200656.9427593 , 120028.9427593 , 103868.9427593 , 134776.9427593 ,\n",
       "       140976.9427593 , 233696.9427593 , 204176.9427593 ,  89296.9427593 ,\n",
       "       241504.9427593 , 169612.9427593 ,  91984.9427593 ,  70256.9427593 ,\n",
       "       173336.9427593 ,  88768.9427593 ,  98272.9427593 , 182176.9427593 ,\n",
       "       139944.9427593 , 107668.9427593 , 255640.9427593 , 157280.9427593 ,\n",
       "       220712.9427593 , 163120.9427593 , 256951.9427593 , 126112.9427593 ,\n",
       "       139232.9427593 , 263664.9427593 , 230444.9427593 , 384880.9427593 ,\n",
       "       190032.9427593 ,  84312.9427593 , 136320.9427593 , 200083.6927593 ,\n",
       "       135692.9427593 ,  91664.9427593 , 180560.9427593 , 194560.9427593 ,\n",
       "       140288.9427593 ,  70560.9427593 , 142047.1927593 , 144750.9427593 ,\n",
       "       125488.9427593 , 112192.9427593 , 177224.9427593 , 276368.9427593 ,\n",
       "       286368.9427593 , 181942.9427593 , 122368.9427593 , 255744.9427593 ,\n",
       "       288752.9427593 , 222512.9427593 , 187332.9427593 , 158928.9427593 ,\n",
       "       105472.9427593 , 196768.9427593 , 339744.9427593 , 225272.9427593 ,\n",
       "       228130.4427593 ,  68384.9427593 ,  94976.9427593 , 136064.9427593 ,\n",
       "       189000.9427593 , 258368.9427593 , 213016.9427593 , 140080.9427593 ,\n",
       "       219944.9427593 ,  71968.9427593 , 193744.9427593 , 107000.9427593 ,\n",
       "       289424.9427593 , 180840.9427593 , 221032.9427593 , 134712.9427593 ,\n",
       "       239232.9427593 , 220384.9427593 , 101648.9427593 , 101376.9427593 ,\n",
       "       137008.9427593 , 187872.9427593 ,  77288.9427593 , 163416.9427593 ,\n",
       "       125280.9427593 , 144160.9427593 , 177744.9427593 , 111584.9427593 ,\n",
       "       196064.9427593 , 230912.9427593 , 120720.9427593 , 153146.9427593 ,\n",
       "       213312.9427593 , 239930.9427593 , 164577.9427593 , 214092.9427593 ,\n",
       "       226624.9427593 , 131408.9427593 , 165792.9427593 , 226144.9427593 ,\n",
       "        79440.9427593 , 221264.9427593 , 127418.9427593 , 189560.9427593 ,\n",
       "       213938.9427593 , 162976.9427593 , 249824.9427593 ,  65944.9427593 ,\n",
       "       211488.9427593 , 121988.9427593 , 119155.9427593 ,  95008.9427593 ,\n",
       "       215496.9427593 , 178048.9427593 , 128968.9427593 , 217784.9427593 ,\n",
       "       188656.9427593 ,  77808.9427593 , 165160.9427593 , 151856.9427593 ,\n",
       "       129368.9427593 , 254744.9427593 , 170080.9427593 , 119436.9427593 ,\n",
       "       144688.9427593 ,  61888.9427593 , 101232.9427593 , 199096.9427593 ,\n",
       "       207896.9427593 , 138120.9427593 ,  96168.9427593 , 202680.9427593 ,\n",
       "       239552.9427593 , 333784.9427593 , 321648.9427593 , 115560.9427593 ,\n",
       "       261928.9427593 , 116800.9427593 , 295800.9427593 , 335584.9427593 ,\n",
       "       255840.9427593 , 195324.9427593 , 254304.9427593 , 109584.9427593 ,\n",
       "       109612.9427593 ,  89336.9427593 , 214376.9427593 , 320736.9427593 ,\n",
       "       194506.9427593 , 114256.9427593 , 252652.9427593 , 231060.9427593 ,\n",
       "       115776.9427593 , 204160.9427593 , 178096.4427593 , 126704.9427593 ,\n",
       "       128276.9427593 , 146384.9427593 , 112440.9427593 , 189532.9427593 ,\n",
       "       120948.9427593 , 212896.9427593 , 182528.9427593 , 115264.9427593 ,\n",
       "       201197.9427593 , 208768.9427593 , 101360.9427593 , 221888.9427593 ,\n",
       "       148440.9427593 , 163872.9427593 , 206704.9427593 , 151969.4427593 ,\n",
       "       113832.9427593 , 245088.9427593 , 148352.9427593 , 150700.9427593 ,\n",
       "       260304.9427593 , 193378.9427593 , 115048.9427593 , 176976.9427593 ,\n",
       "       126712.9427593 , 314704.9427593 , 156802.9427593 , 362568.9427593 ,\n",
       "       141552.9427593 , 179216.9427593 , 175800.9427593 , 143966.9427593 ,\n",
       "       186080.9427593 , 337792.9427593 , 103180.9427593 , 170363.9427593 ,\n",
       "       121168.4427593 ,  75744.9427593 , 214476.9427593 , 127392.9427593 ,\n",
       "       229896.9427593 , 215280.9427593 , 236036.9427593 , 232832.9427593 ,\n",
       "        67088.9427593 , 291808.9427593 , 122238.4427593 , 320896.9427593 ,\n",
       "       101144.9427593 , 319087.6927593 , 266976.9427593 , 121460.9427593 ,\n",
       "       235024.9427593 , 235584.9427593 , 215232.9427593 , 184392.9427593 ,\n",
       "       238120.9427593 ,  84656.9427593 , 217416.9427593 , 199120.9427593 ,\n",
       "       214384.9427593 , 221760.9427593 , 103464.9427593 , 142884.9427593 ,\n",
       "       182304.9427593 , 132078.9427593 , 105514.9427593 , 210168.9427593 ,\n",
       "       150562.1650086 , 364667.53552446])"
      ]
     },
     "execution_count": 26,
     "metadata": {},
     "output_type": "execute_result"
    }
   ],
   "source": [
    "y_pred"
   ]
  },
  {
   "cell_type": "code",
   "execution_count": 37,
   "id": "f3e388f2",
   "metadata": {},
   "outputs": [],
   "source": [
    "feature_importance = list(zip(num_cols,reg.coef_))"
   ]
  },
  {
   "cell_type": "code",
   "execution_count": 38,
   "id": "133ee0aa",
   "metadata": {},
   "outputs": [
    {
     "data": {
      "text/plain": [
       "[('MSSubClass', -9703.29969423193),\n",
       " ('LotFrontage', -2693.207049356529),\n",
       " ('LotArea', 4377.776204514865),\n",
       " ('OverallQual', 25460.895609755204),\n",
       " ('OverallCond', 3660.1380785770903),\n",
       " ('YearBuilt', 7836.775249284998),\n",
       " ('YearRemodAdd', 3615.4213587665145),\n",
       " ('MasVnrArea', 3871.807153622106),\n",
       " ('BsmtFinSF1', 2.22807822369773e+16),\n",
       " ('BsmtFinSF2', 7880584593989884.0),\n",
       " ('BsmtUnfSF', 2.1585579081098668e+16),\n",
       " ('TotalBsmtSF', -2.1431130708001028e+16),\n",
       " ('1stFlrSF', 5.687237050291894e+16),\n",
       " ('2ndFlrSF', 6.421933366687736e+16),\n",
       " ('LowQualFinSF', 7153123677158445.0),\n",
       " ('GrLivArea', -7.730538792949589e+16),\n",
       " ('BsmtFullBath', 6358.949389488988),\n",
       " ('BsmtHalfBath', -65.35055624594591),\n",
       " ('FullBath', 2239.0938821415966),\n",
       " ('HalfBath', -949.6722599880698),\n",
       " ('BedroomAbvGr', -7554.987417666856),\n",
       " ('KitchenAbvGr', -1808.2729799958713),\n",
       " ('TotRmsAbvGrd', 8690.993620090074),\n",
       " ('Fireplaces', 3397.702978792199),\n",
       " ('GarageYrBlt', 2839.894578899),\n",
       " ('GarageCars', 11477.313771753154),\n",
       " ('GarageArea', -2162.2346820436196),\n",
       " ('WoodDeckSF', 2445.826596754575),\n",
       " ('OpenPorchSF', -1281.5970264196571),\n",
       " ('EnclosedPorch', 188.3130372592707),\n",
       " ('3SsnPorch', 1391.9398457479167),\n",
       " ('ScreenPorch', 3960.509728261143),\n",
       " ('PoolArea', -413.32143288120346),\n",
       " ('MiscVal', -1126.9693503146352),\n",
       " ('MoSold', 61.160710165643415),\n",
       " ('YrSold', -238.51279318051752)]"
      ]
     },
     "execution_count": 38,
     "metadata": {},
     "output_type": "execute_result"
    }
   ],
   "source": [
    "feature_importance"
   ]
  },
  {
   "cell_type": "code",
   "execution_count": 39,
   "id": "fc8d6ad9",
   "metadata": {},
   "outputs": [],
   "source": [
    "feature_importance.sort()"
   ]
  },
  {
   "cell_type": "code",
   "execution_count": 40,
   "id": "8197cfde",
   "metadata": {},
   "outputs": [
    {
     "data": {
      "text/plain": [
       "[('1stFlrSF', 5.687237050291894e+16),\n",
       " ('2ndFlrSF', 6.421933366687736e+16),\n",
       " ('3SsnPorch', 1391.9398457479167),\n",
       " ('BedroomAbvGr', -7554.987417666856),\n",
       " ('BsmtFinSF1', 2.22807822369773e+16),\n",
       " ('BsmtFinSF2', 7880584593989884.0),\n",
       " ('BsmtFullBath', 6358.949389488988),\n",
       " ('BsmtHalfBath', -65.35055624594591),\n",
       " ('BsmtUnfSF', 2.1585579081098668e+16),\n",
       " ('EnclosedPorch', 188.3130372592707),\n",
       " ('Fireplaces', 3397.702978792199),\n",
       " ('FullBath', 2239.0938821415966),\n",
       " ('GarageArea', -2162.2346820436196),\n",
       " ('GarageCars', 11477.313771753154),\n",
       " ('GarageYrBlt', 2839.894578899),\n",
       " ('GrLivArea', -7.730538792949589e+16),\n",
       " ('HalfBath', -949.6722599880698),\n",
       " ('KitchenAbvGr', -1808.2729799958713),\n",
       " ('LotArea', 4377.776204514865),\n",
       " ('LotFrontage', -2693.207049356529),\n",
       " ('LowQualFinSF', 7153123677158445.0),\n",
       " ('MSSubClass', -9703.29969423193),\n",
       " ('MasVnrArea', 3871.807153622106),\n",
       " ('MiscVal', -1126.9693503146352),\n",
       " ('MoSold', 61.160710165643415),\n",
       " ('OpenPorchSF', -1281.5970264196571),\n",
       " ('OverallCond', 3660.1380785770903),\n",
       " ('OverallQual', 25460.895609755204),\n",
       " ('PoolArea', -413.32143288120346),\n",
       " ('ScreenPorch', 3960.509728261143),\n",
       " ('TotRmsAbvGrd', 8690.993620090074),\n",
       " ('TotalBsmtSF', -2.1431130708001028e+16),\n",
       " ('WoodDeckSF', 2445.826596754575),\n",
       " ('YearBuilt', 7836.775249284998),\n",
       " ('YearRemodAdd', 3615.4213587665145),\n",
       " ('YrSold', -238.51279318051752)]"
      ]
     },
     "execution_count": 40,
     "metadata": {},
     "output_type": "execute_result"
    }
   ],
   "source": [
    "feature_importance"
   ]
  },
  {
   "cell_type": "code",
   "execution_count": 41,
   "id": "b6c9fa79",
   "metadata": {},
   "outputs": [],
   "source": [
    "first_important = '1stFlrSF'"
   ]
  },
  {
   "cell_type": "code",
   "execution_count": 44,
   "id": "a65feb18",
   "metadata": {},
   "outputs": [],
   "source": [
    "d_teste = pd.DataFrame(X_test, columns=num_cols)"
   ]
  },
  {
   "cell_type": "code",
   "execution_count": 45,
   "id": "9f5c11a7",
   "metadata": {},
   "outputs": [
    {
     "data": {
      "text/plain": [
       "0     -0.244858\n",
       "1      0.872994\n",
       "2     -0.348363\n",
       "3     -0.410466\n",
       "4      1.183509\n",
       "         ...   \n",
       "433   -0.275910\n",
       "434    0.000966\n",
       "435   -0.881413\n",
       "436   -1.238505\n",
       "437    2.078826\n",
       "Name: 1stFlrSF, Length: 438, dtype: float64"
      ]
     },
     "execution_count": 45,
     "metadata": {},
     "output_type": "execute_result"
    }
   ],
   "source": [
    "d_teste[first_important]"
   ]
  },
  {
   "cell_type": "code",
   "execution_count": 92,
   "id": "afc8cac4",
   "metadata": {},
   "outputs": [
    {
     "data": {
      "text/plain": [
       "3   -0.410466\n",
       "2   -0.348363\n",
       "0   -0.244858\n",
       "1    0.872994\n",
       "4    1.183509\n",
       "Name: 1stFlrSF, dtype: float64"
      ]
     },
     "execution_count": 92,
     "metadata": {},
     "output_type": "execute_result"
    }
   ],
   "source": [
    "d_teste.loc[:4, first_important].sort_values()"
   ]
  },
  {
   "cell_type": "code",
   "execution_count": 139,
   "id": "2680f55f",
   "metadata": {},
   "outputs": [
    {
     "data": {
      "text/plain": [
       "Index(['coluna_x', 'y_pred', 'SalePrice'], dtype='object')"
      ]
     },
     "execution_count": 139,
     "metadata": {},
     "output_type": "execute_result"
    }
   ],
   "source": [
    "df_final.columns"
   ]
  },
  {
   "cell_type": "code",
   "execution_count": 140,
   "id": "a27ea506",
   "metadata": {},
   "outputs": [
    {
     "data": {
      "image/png": "[encoded data removed]",
      "text/plain": [
       "<Figure size 432x288 with 1 Axes>"
      ]
     },
     "metadata": {
      "needs_background": "light"
     },
     "output_type": "display_data"
    }
   ],
   "source": [
    "import matplotlib.pyplot as plt\n",
    "import seaborn as sns\n",
    "\n",
    "colors = sns.color_palette(\"colorblind\")\n",
    "\n",
    "plt.figure()\n",
    "plt.scatter(df_final.coluna_x.sort_values(), df_final.SalePrice.sort_index(), color=colors[0], label=\"training samples\")\n",
    "plt.plot(df_final.coluna_x.sort_values(), df_final.y_pred.sort_values(), color=colors[1], label=\"n_estimators=1\", linewidth=2)\n",
    "plt.xlabel(\"data\")\n",
    "plt.ylabel(\"target\")\n",
    "plt.title(\"Boosted Decision Tree Regression\")\n",
    "plt.legend()\n",
    "plt.show()"
   ]
  },
  {
   "cell_type": "code",
   "execution_count": 65,
   "id": "b974138c",
   "metadata": {},
   "outputs": [],
   "source": [
    "d_train = pd.DataFrame(X_train, columns=num_cols)"
   ]
  },
  {
   "cell_type": "code",
   "execution_count": 72,
   "id": "fb21ed8a",
   "metadata": {},
   "outputs": [
    {
     "data": {
      "text/plain": [
       "0   -0.795163\n",
       "dtype: float64"
      ]
     },
     "execution_count": 72,
     "metadata": {},
     "output_type": "execute_result"
    }
   ],
   "source": [
    "d_train['2ndFlrSF'].mode()"
   ]
  },
  {
   "cell_type": "code",
   "execution_count": 70,
   "id": "b72c47dc",
   "metadata": {},
   "outputs": [
    {
     "data": {
      "text/plain": [
       "<matplotlib.collections.PathCollection at 0x239eabd0940>"
      ]
     },
     "execution_count": 70,
     "metadata": {},
     "output_type": "execute_result"
    },
    {
     "data": {
      "image/png": "[encoded data removed]",
      "text/plain": [
       "<Figure size 432x288 with 1 Axes>"
      ]
     },
     "metadata": {
      "needs_background": "light"
     },
     "output_type": "display_data"
    }
   ],
   "source": [
    "plt.scatter(d_train['2ndFlrSF'], y_train)"
   ]
  },
  {
   "cell_type": "code",
   "execution_count": 67,
   "id": "23ed3ac3",
   "metadata": {},
   "outputs": [
    {
     "data": {
      "text/plain": [
       "<matplotlib.collections.PathCollection at 0x239eace8340>"
      ]
     },
     "execution_count": 67,
     "metadata": {},
     "output_type": "execute_result"
    },
    {
     "data": {
      "image/png": "[encoded data removed]",
      "text/plain": [
       "<Figure size 432x288 with 1 Axes>"
      ]
     },
     "metadata": {
      "needs_background": "light"
     },
     "output_type": "display_data"
    }
   ],
   "source": [
    "plt.scatter(d_train[first_important], y_train)"
   ]
  },
  {
   "cell_type": "code",
   "execution_count": 79,
   "id": "efbdec06",
   "metadata": {},
   "outputs": [
    {
     "data": {
      "text/plain": [
       "<matplotlib.collections.PathCollection at 0x239ebcf1c40>"
      ]
     },
     "execution_count": 79,
     "metadata": {},
     "output_type": "execute_result"
    },
    {
     "data": {
      "image/png": "[encoded data removed]",
      "text/plain": [
       "<Figure size 432x288 with 1 Axes>"
      ]
     },
     "metadata": {
      "needs_background": "light"
     },
     "output_type": "display_data"
    }
   ],
   "source": [
    "plt.scatter(x=range(len(y_test)), y=y_test.sort_values())\n",
    "plt.scatter(x=range(len(y_pred)), y=pd.Series(y_pred).sort_values())"
   ]
  },
  {
   "cell_type": "code",
   "execution_count": 346,
   "id": "4c58d62d",
   "metadata": {},
   "outputs": [
    {
     "data": {
      "text/plain": [
       "[<matplotlib.lines.Line2D at 0x239ef7a8310>]"
      ]
     },
     "execution_count": 346,
     "metadata": {},
     "output_type": "execute_result"
    },
    {
     "data": {
      "image/png": "[encoded data removed]",
      "text/plain": [
       "<Figure size 432x288 with 1 Axes>"
      ]
     },
     "metadata": {
      "needs_background": "light"
     },
     "output_type": "display_data"
    }
   ],
   "source": [
    "plt.plot(y_test.sort_values(), y_pred.sort_values())"
   ]
  },
  {
   "cell_type": "code",
   "execution_count": 348,
   "id": "9524003d",
   "metadata": {},
   "outputs": [
    {
     "data": {
      "text/plain": [
       "<matplotlib.collections.PathCollection at 0x239f12cfb50>"
      ]
     },
     "execution_count": 348,
     "metadata": {},
     "output_type": "execute_result"
    },
    {
     "data": {
      "image/png": "[encoded data removed]",
      "text/plain": [
       "<Figure size 432x288 with 1 Axes>"
      ]
     },
     "metadata": {
      "needs_background": "light"
     },
     "output_type": "display_data"
    }
   ],
   "source": [
    "plt.scatter(y_test, y_pred_tree)"
   ]
  },
  {
   "cell_type": "code",
   "execution_count": 94,
   "id": "6035005b",
   "metadata": {},
   "outputs": [],
   "source": [
    "d = pd.DataFrame()\n",
    "d[first_important] = d_teste[first_important]"
   ]
  },
  {
   "cell_type": "code",
   "execution_count": 96,
   "id": "c59112ee",
   "metadata": {},
   "outputs": [],
   "source": [
    "d['y_test'] = y_test\n",
    "d['y_pred'] = y_pred"
   ]
  },
  {
   "cell_type": "code",
   "execution_count": 98,
   "id": "1e98ffd6",
   "metadata": {},
   "outputs": [
    {
     "data": {
      "text/plain": [
       "Id\n",
       "893     154500\n",
       "1106    325000\n",
       "414     115000\n",
       "523     159000\n",
       "1037    315500\n",
       "         ...  \n",
       "332     139000\n",
       "324     126175\n",
       "651     205950\n",
       "440     110000\n",
       "799     485000\n",
       "Name: SalePrice, Length: 438, dtype: int64"
      ]
     },
     "execution_count": 98,
     "metadata": {},
     "output_type": "execute_result"
    }
   ],
   "source": [
    "y_test"
   ]
  },
  {
   "cell_type": "code",
   "execution_count": 108,
   "id": "c2d7b6db",
   "metadata": {},
   "outputs": [],
   "source": [
    "d.drop('y_test', axis=1, inplace=True)"
   ]
  },
  {
   "cell_type": "code",
   "execution_count": 110,
   "id": "18f2c10d",
   "metadata": {},
   "outputs": [],
   "source": [
    "d['y'] = pd.Series(y_test)"
   ]
  },
  {
   "cell_type": "code",
   "execution_count": 119,
   "id": "e4c6adc0",
   "metadata": {},
   "outputs": [],
   "source": [
    "y_pred = pd.Series(y_pred)"
   ]
  },
  {
   "cell_type": "code",
   "execution_count": 120,
   "id": "93dba668",
   "metadata": {},
   "outputs": [
    {
     "data": {
      "text/plain": [
       "0      151454.942759\n",
       "1      308704.942759\n",
       "2      114848.942759\n",
       "3      181168.942759\n",
       "4      299376.942759\n",
       "           ...      \n",
       "433    132078.942759\n",
       "434    105514.942759\n",
       "435    210168.942759\n",
       "436    150562.165009\n",
       "437    364667.535524\n",
       "Length: 438, dtype: float64"
      ]
     },
     "execution_count": 120,
     "metadata": {},
     "output_type": "execute_result"
    }
   ],
   "source": [
    "y_pred"
   ]
  },
  {
   "cell_type": "code",
   "execution_count": 127,
   "id": "e6ee043a",
   "metadata": {},
   "outputs": [],
   "source": [
    "a = pd.DataFrame({'coluna_x': d_teste[first_important],\n",
    "              'y_pred': y_pred})"
   ]
  },
  {
   "cell_type": "code",
   "execution_count": 131,
   "id": "4d14cfa8",
   "metadata": {},
   "outputs": [],
   "source": [
    "b = pd.DataFrame(data=y_test)"
   ]
  },
  {
   "cell_type": "code",
   "execution_count": 132,
   "id": "27e7da8f",
   "metadata": {},
   "outputs": [],
   "source": [
    "a.reset_index(drop=True, inplace=True)\n",
    "b.reset_index(drop=True, inplace=True)"
   ]
  },
  {
   "cell_type": "code",
   "execution_count": null,
   "id": "248fa382",
   "metadata": {},
   "outputs": [],
   "source": []
  },
  {
   "cell_type": "code",
   "execution_count": 134,
   "id": "d38495db",
   "metadata": {},
   "outputs": [
    {
     "data": {
      "text/html": [
       "<div>\n",
       "<style scoped>\n",
       "    .dataframe tbody tr th:only-of-type {\n",
       "        vertical-align: middle;\n",
       "    }\n",
       "\n",
       "    .dataframe tbody tr th {\n",
       "        vertical-align: top;\n",
       "    }\n",
       "\n",
       "    .dataframe thead th {\n",
       "        text-align: right;\n",
       "    }\n",
       "</style>\n",
       "<table border=\"1\" class=\"dataframe\">\n",
       "  <thead>\n",
       "    <tr style=\"text-align: right;\">\n",
       "      <th></th>\n",
       "      <th>coluna_x</th>\n",
       "      <th>y_pred</th>\n",
       "    </tr>\n",
       "  </thead>\n",
       "  <tbody>\n",
       "    <tr>\n",
       "      <th>0</th>\n",
       "      <td>-0.244858</td>\n",
       "      <td>151454.942759</td>\n",
       "    </tr>\n",
       "    <tr>\n",
       "      <th>1</th>\n",
       "      <td>0.872994</td>\n",
       "      <td>308704.942759</td>\n",
       "    </tr>\n",
       "    <tr>\n",
       "      <th>2</th>\n",
       "      <td>-0.348363</td>\n",
       "      <td>114848.942759</td>\n",
       "    </tr>\n",
       "    <tr>\n",
       "      <th>3</th>\n",
       "      <td>-0.410466</td>\n",
       "      <td>181168.942759</td>\n",
       "    </tr>\n",
       "    <tr>\n",
       "      <th>4</th>\n",
       "      <td>1.183509</td>\n",
       "      <td>299376.942759</td>\n",
       "    </tr>\n",
       "    <tr>\n",
       "      <th>...</th>\n",
       "      <td>...</td>\n",
       "      <td>...</td>\n",
       "    </tr>\n",
       "    <tr>\n",
       "      <th>433</th>\n",
       "      <td>-0.275910</td>\n",
       "      <td>132078.942759</td>\n",
       "    </tr>\n",
       "    <tr>\n",
       "      <th>434</th>\n",
       "      <td>0.000966</td>\n",
       "      <td>105514.942759</td>\n",
       "    </tr>\n",
       "    <tr>\n",
       "      <th>435</th>\n",
       "      <td>-0.881413</td>\n",
       "      <td>210168.942759</td>\n",
       "    </tr>\n",
       "    <tr>\n",
       "      <th>436</th>\n",
       "      <td>-1.238505</td>\n",
       "      <td>150562.165009</td>\n",
       "    </tr>\n",
       "    <tr>\n",
       "      <th>437</th>\n",
       "      <td>2.078826</td>\n",
       "      <td>364667.535524</td>\n",
       "    </tr>\n",
       "  </tbody>\n",
       "</table>\n",
       "<p>438 rows × 2 columns</p>\n",
       "</div>"
      ],
      "text/plain": [
       "     coluna_x         y_pred\n",
       "0   -0.244858  151454.942759\n",
       "1    0.872994  308704.942759\n",
       "2   -0.348363  114848.942759\n",
       "3   -0.410466  181168.942759\n",
       "4    1.183509  299376.942759\n",
       "..        ...            ...\n",
       "433 -0.275910  132078.942759\n",
       "434  0.000966  105514.942759\n",
       "435 -0.881413  210168.942759\n",
       "436 -1.238505  150562.165009\n",
       "437  2.078826  364667.535524\n",
       "\n",
       "[438 rows x 2 columns]"
      ]
     },
     "execution_count": 134,
     "metadata": {},
     "output_type": "execute_result"
    }
   ],
   "source": [
    "a"
   ]
  },
  {
   "cell_type": "code",
   "execution_count": 157,
   "id": "4d0acfc1",
   "metadata": {},
   "outputs": [],
   "source": [
    "c = sns.color_palette(\"pastel\")"
   ]
  },
  {
   "cell_type": "code",
   "execution_count": 158,
   "id": "e2738261",
   "metadata": {},
   "outputs": [
    {
     "data": {
      "text/html": [
       "<svg  width=\"550\" height=\"55\"><rect x=\"0\" y=\"0\" width=\"55\" height=\"55\" style=\"fill:#a1c9f4;stroke-width:2;stroke:rgb(255,255,255)\"/><rect x=\"55\" y=\"0\" width=\"55\" height=\"55\" style=\"fill:#ffb482;stroke-width:2;stroke:rgb(255,255,255)\"/><rect x=\"110\" y=\"0\" width=\"55\" height=\"55\" style=\"fill:#8de5a1;stroke-width:2;stroke:rgb(255,255,255)\"/><rect x=\"165\" y=\"0\" width=\"55\" height=\"55\" style=\"fill:#ff9f9b;stroke-width:2;stroke:rgb(255,255,255)\"/><rect x=\"220\" y=\"0\" width=\"55\" height=\"55\" style=\"fill:#d0bbff;stroke-width:2;stroke:rgb(255,255,255)\"/><rect x=\"275\" y=\"0\" width=\"55\" height=\"55\" style=\"fill:#debb9b;stroke-width:2;stroke:rgb(255,255,255)\"/><rect x=\"330\" y=\"0\" width=\"55\" height=\"55\" style=\"fill:#fab0e4;stroke-width:2;stroke:rgb(255,255,255)\"/><rect x=\"385\" y=\"0\" width=\"55\" height=\"55\" style=\"fill:#cfcfcf;stroke-width:2;stroke:rgb(255,255,255)\"/><rect x=\"440\" y=\"0\" width=\"55\" height=\"55\" style=\"fill:#fffea3;stroke-width:2;stroke:rgb(255,255,255)\"/><rect x=\"495\" y=\"0\" width=\"55\" height=\"55\" style=\"fill:#b9f2f0;stroke-width:2;stroke:rgb(255,255,255)\"/></svg>"
      ],
      "text/plain": [
       "[(0.6313725490196078, 0.788235294117647, 0.9568627450980393),\n",
       " (1.0, 0.7058823529411765, 0.5098039215686274),\n",
       " (0.5529411764705883, 0.8980392156862745, 0.6313725490196078),\n",
       " (1.0, 0.6235294117647059, 0.6078431372549019),\n",
       " (0.8156862745098039, 0.7333333333333333, 1.0),\n",
       " (0.8705882352941177, 0.7333333333333333, 0.6078431372549019),\n",
       " (0.9803921568627451, 0.6901960784313725, 0.8941176470588236),\n",
       " (0.8117647058823529, 0.8117647058823529, 0.8117647058823529),\n",
       " (1.0, 0.996078431372549, 0.6392156862745098),\n",
       " (0.7254901960784313, 0.9490196078431372, 0.9411764705882353)]"
      ]
     },
     "execution_count": 158,
     "metadata": {},
     "output_type": "execute_result"
    }
   ],
   "source": [
    "c"
   ]
  },
  {
   "cell_type": "code",
   "execution_count": 138,
   "id": "6b51faaf",
   "metadata": {},
   "outputs": [],
   "source": [
    "df_final = pd.concat([a, b], axis=1)"
   ]
  },
  {
   "cell_type": "code",
   "execution_count": 118,
   "id": "bce262e5",
   "metadata": {},
   "outputs": [
    {
     "data": {
      "text/plain": [
       "Id\n",
       "893     154500\n",
       "1106    325000\n",
       "414     115000\n",
       "523     159000\n",
       "1037    315500\n",
       "         ...  \n",
       "332     139000\n",
       "324     126175\n",
       "651     205950\n",
       "440     110000\n",
       "799     485000\n",
       "Name: SalePrice, Length: 438, dtype: int64"
      ]
     },
     "execution_count": 118,
     "metadata": {},
     "output_type": "execute_result"
    }
   ],
   "source": [
    "y_test"
   ]
  },
  {
   "cell_type": "code",
   "execution_count": 83,
   "id": "2af1bfae",
   "metadata": {},
   "outputs": [
    {
     "data": {
      "text/plain": [
       "0   -0.244858\n",
       "1    0.872994\n",
       "2   -0.348363\n",
       "3   -0.410466\n",
       "4    1.183509\n",
       "5   -1.378236\n",
       "6   -0.066312\n",
       "7   -0.796021\n",
       "8   -1.378236\n",
       "9   -0.752032\n",
       "Name: 1stFlrSF, dtype: float64"
      ]
     },
     "execution_count": 83,
     "metadata": {},
     "output_type": "execute_result"
    }
   ],
   "source": [
    "d_teste[first_important][:10]"
   ]
  },
  {
   "cell_type": "code",
   "execution_count": 89,
   "id": "80ccbd48",
   "metadata": {},
   "outputs": [
    {
     "data": {
      "text/plain": [
       "<matplotlib.collections.PathCollection at 0x239ed31df40>"
      ]
     },
     "execution_count": 89,
     "metadata": {},
     "output_type": "execute_result"
    },
    {
     "data": {
      "image/png": "[encoded data removed]",
      "text/plain": [
       "<Figure size 432x288 with 1 Axes>"
      ]
     },
     "metadata": {
      "needs_background": "light"
     },
     "output_type": "display_data"
    }
   ],
   "source": [
    "plt.scatter(x=d_teste[first_important][:20], y=y_test[:20], )\n",
    "plt.scatter(x=d_teste[first_important][:20], y=pd.Series(y_pred[:20]), alpha=0.5)"
   ]
  },
  {
   "cell_type": "code",
   "execution_count": 78,
   "id": "31f56e68",
   "metadata": {},
   "outputs": [
    {
     "data": {
      "text/plain": [
       "0      151454.942759\n",
       "1      308704.942759\n",
       "2      114848.942759\n",
       "3      181168.942759\n",
       "4      299376.942759\n",
       "           ...      \n",
       "433    132078.942759\n",
       "434    105514.942759\n",
       "435    210168.942759\n",
       "436    150562.165009\n",
       "437    364667.535524\n",
       "Length: 438, dtype: float64"
      ]
     },
     "execution_count": 78,
     "metadata": {},
     "output_type": "execute_result"
    }
   ],
   "source": [
    "pd.Series(y_pred)"
   ]
  },
  {
   "cell_type": "code",
   "execution_count": 69,
   "id": "25b0fae9",
   "metadata": {},
   "outputs": [
    {
     "data": {
      "text/plain": [
       "count    1022.000000\n",
       "mean        0.018401\n",
       "std         1.008009\n",
       "min        -2.144172\n",
       "25%        -0.706102\n",
       "50%        -0.171111\n",
       "75%         0.593531\n",
       "max         9.132681\n",
       "Name: 1stFlrSF, dtype: float64"
      ]
     },
     "execution_count": 69,
     "metadata": {},
     "output_type": "execute_result"
    }
   ],
   "source": [
    "d_train[first_important].describe()"
   ]
  },
  {
   "cell_type": "code",
   "execution_count": null,
   "id": "c01a0585",
   "metadata": {},
   "outputs": [],
   "source": [
    "plt.figure()\n",
    "plt.scatter(d_teste.loc[:4, first_important], y_test[:5], color=colors[0], label=\"training samples\")\n",
    "plt.plot(d_teste.loc[:4, first_important], y_pred[:5], color=colors[1], label=\"n_estimators=1\", linewidth=2)\n",
    "plt.xlabel(\"data\")\n",
    "plt.ylabel(\"target\")\n",
    "plt.title(\"Boosted Decision Tree Regression\")\n",
    "plt.legend()\n",
    "plt.show()"
   ]
  },
  {
   "cell_type": "code",
   "execution_count": 53,
   "id": "0b4beeb1",
   "metadata": {},
   "outputs": [
    {
     "data": {
      "text/plain": [
       "10"
      ]
     },
     "execution_count": 53,
     "metadata": {},
     "output_type": "execute_result"
    }
   ],
   "source": [
    "len(y_test[:10])"
   ]
  },
  {
   "cell_type": "code",
   "execution_count": 54,
   "id": "1d01eb58",
   "metadata": {},
   "outputs": [
    {
     "data": {
      "text/plain": [
       "10"
      ]
     },
     "execution_count": 54,
     "metadata": {},
     "output_type": "execute_result"
    }
   ],
   "source": [
    "len(y_pred[:10])"
   ]
  },
  {
   "cell_type": "code",
   "execution_count": 60,
   "id": "40fb32eb",
   "metadata": {},
   "outputs": [
    {
     "data": {
      "text/plain": [
       "False"
      ]
     },
     "execution_count": 60,
     "metadata": {},
     "output_type": "execute_result"
    }
   ],
   "source": [
    "len(d_teste.loc[:10, first_important]) == len(y_test[:10])"
   ]
  },
  {
   "cell_type": "code",
   "execution_count": 62,
   "id": "43989ac5",
   "metadata": {},
   "outputs": [
    {
     "data": {
      "text/plain": [
       "10"
      ]
     },
     "execution_count": 62,
     "metadata": {},
     "output_type": "execute_result"
    }
   ],
   "source": [
    "len(d_teste.loc[:9, first_important])"
   ]
  },
  {
   "cell_type": "code",
   "execution_count": 141,
   "id": "ae3e91c9",
   "metadata": {},
   "outputs": [
    {
     "data": {
      "text/html": [
       "<div>\n",
       "<style scoped>\n",
       "    .dataframe tbody tr th:only-of-type {\n",
       "        vertical-align: middle;\n",
       "    }\n",
       "\n",
       "    .dataframe tbody tr th {\n",
       "        vertical-align: top;\n",
       "    }\n",
       "\n",
       "    .dataframe thead th {\n",
       "        text-align: right;\n",
       "    }\n",
       "</style>\n",
       "<table border=\"1\" class=\"dataframe\">\n",
       "  <thead>\n",
       "    <tr style=\"text-align: right;\">\n",
       "      <th></th>\n",
       "      <th>MSSubClass</th>\n",
       "      <th>LotFrontage</th>\n",
       "      <th>LotArea</th>\n",
       "      <th>OverallQual</th>\n",
       "      <th>OverallCond</th>\n",
       "      <th>YearBuilt</th>\n",
       "      <th>YearRemodAdd</th>\n",
       "      <th>MasVnrArea</th>\n",
       "      <th>BsmtFinSF1</th>\n",
       "      <th>BsmtFinSF2</th>\n",
       "      <th>...</th>\n",
       "      <th>GarageArea</th>\n",
       "      <th>WoodDeckSF</th>\n",
       "      <th>OpenPorchSF</th>\n",
       "      <th>EnclosedPorch</th>\n",
       "      <th>3SsnPorch</th>\n",
       "      <th>ScreenPorch</th>\n",
       "      <th>PoolArea</th>\n",
       "      <th>MiscVal</th>\n",
       "      <th>MoSold</th>\n",
       "      <th>YrSold</th>\n",
       "    </tr>\n",
       "  </thead>\n",
       "  <tbody>\n",
       "    <tr>\n",
       "      <th>0</th>\n",
       "      <td>-0.872563</td>\n",
       "      <td>-0.002269</td>\n",
       "      <td>-0.210750</td>\n",
       "      <td>-0.071836</td>\n",
       "      <td>2.179628</td>\n",
       "      <td>-0.273836</td>\n",
       "      <td>0.878668</td>\n",
       "      <td>-0.574410</td>\n",
       "      <td>0.481115</td>\n",
       "      <td>-0.288653</td>\n",
       "      <td>...</td>\n",
       "      <td>-0.977769</td>\n",
       "      <td>0.780197</td>\n",
       "      <td>-0.704483</td>\n",
       "      <td>-0.359325</td>\n",
       "      <td>-0.116339</td>\n",
       "      <td>-0.270208</td>\n",
       "      <td>-0.068692</td>\n",
       "      <td>-0.087688</td>\n",
       "      <td>-1.599111</td>\n",
       "      <td>-1.367655</td>\n",
       "    </tr>\n",
       "    <tr>\n",
       "      <th>1</th>\n",
       "      <td>0.073375</td>\n",
       "      <td>1.269506</td>\n",
       "      <td>0.174303</td>\n",
       "      <td>1.374795</td>\n",
       "      <td>-0.517200</td>\n",
       "      <td>0.752907</td>\n",
       "      <td>0.491040</td>\n",
       "      <td>1.431049</td>\n",
       "      <td>1.290428</td>\n",
       "      <td>-0.288653</td>\n",
       "      <td>...</td>\n",
       "      <td>1.118318</td>\n",
       "      <td>0.732311</td>\n",
       "      <td>-0.221343</td>\n",
       "      <td>-0.359325</td>\n",
       "      <td>-0.116339</td>\n",
       "      <td>-0.270208</td>\n",
       "      <td>-0.068692</td>\n",
       "      <td>-0.087688</td>\n",
       "      <td>-0.859110</td>\n",
       "      <td>1.645210</td>\n",
       "    </tr>\n",
       "    <tr>\n",
       "      <th>2</th>\n",
       "      <td>-0.636078</td>\n",
       "      <td>-0.638156</td>\n",
       "      <td>-0.156028</td>\n",
       "      <td>-0.795151</td>\n",
       "      <td>0.381743</td>\n",
       "      <td>-1.466183</td>\n",
       "      <td>-1.689368</td>\n",
       "      <td>-0.574410</td>\n",
       "      <td>-0.973018</td>\n",
       "      <td>-0.288653</td>\n",
       "      <td>...</td>\n",
       "      <td>-0.528608</td>\n",
       "      <td>-0.752176</td>\n",
       "      <td>-0.704483</td>\n",
       "      <td>1.768397</td>\n",
       "      <td>-0.116339</td>\n",
       "      <td>-0.270208</td>\n",
       "      <td>-0.068692</td>\n",
       "      <td>-0.087688</td>\n",
       "      <td>-1.229111</td>\n",
       "      <td>1.645210</td>\n",
       "    </tr>\n",
       "    <tr>\n",
       "      <th>3</th>\n",
       "      <td>-0.163109</td>\n",
       "      <td>-0.910680</td>\n",
       "      <td>-0.552908</td>\n",
       "      <td>-0.071836</td>\n",
       "      <td>1.280685</td>\n",
       "      <td>-0.803768</td>\n",
       "      <td>-1.689368</td>\n",
       "      <td>-0.574410</td>\n",
       "      <td>-0.097907</td>\n",
       "      <td>-0.288653</td>\n",
       "      <td>...</td>\n",
       "      <td>-0.247882</td>\n",
       "      <td>-0.752176</td>\n",
       "      <td>-0.342128</td>\n",
       "      <td>0.229890</td>\n",
       "      <td>-0.116339</td>\n",
       "      <td>-0.270208</td>\n",
       "      <td>-0.068692</td>\n",
       "      <td>-0.087688</td>\n",
       "      <td>1.360892</td>\n",
       "      <td>-1.367655</td>\n",
       "    </tr>\n",
       "    <tr>\n",
       "      <th>4</th>\n",
       "      <td>-0.872563</td>\n",
       "      <td>0.860721</td>\n",
       "      <td>0.238646</td>\n",
       "      <td>2.098110</td>\n",
       "      <td>-0.517200</td>\n",
       "      <td>1.183477</td>\n",
       "      <td>1.120936</td>\n",
       "      <td>-0.186614</td>\n",
       "      <td>1.268496</td>\n",
       "      <td>-0.288653</td>\n",
       "      <td>...</td>\n",
       "      <td>2.054071</td>\n",
       "      <td>1.067517</td>\n",
       "      <td>-0.704483</td>\n",
       "      <td>-0.359325</td>\n",
       "      <td>-0.116339</td>\n",
       "      <td>-0.270208</td>\n",
       "      <td>-0.068692</td>\n",
       "      <td>-0.087688</td>\n",
       "      <td>0.990891</td>\n",
       "      <td>0.891994</td>\n",
       "    </tr>\n",
       "    <tr>\n",
       "      <th>...</th>\n",
       "      <td>...</td>\n",
       "      <td>...</td>\n",
       "      <td>...</td>\n",
       "      <td>...</td>\n",
       "      <td>...</td>\n",
       "      <td>...</td>\n",
       "      <td>...</td>\n",
       "      <td>...</td>\n",
       "      <td>...</td>\n",
       "      <td>...</td>\n",
       "      <td>...</td>\n",
       "      <td>...</td>\n",
       "      <td>...</td>\n",
       "      <td>...</td>\n",
       "      <td>...</td>\n",
       "      <td>...</td>\n",
       "      <td>...</td>\n",
       "      <td>...</td>\n",
       "      <td>...</td>\n",
       "      <td>...</td>\n",
       "      <td>...</td>\n",
       "    </tr>\n",
       "    <tr>\n",
       "      <th>433</th>\n",
       "      <td>-0.872563</td>\n",
       "      <td>-0.002269</td>\n",
       "      <td>-0.234603</td>\n",
       "      <td>-0.795151</td>\n",
       "      <td>0.381743</td>\n",
       "      <td>-0.439440</td>\n",
       "      <td>0.345679</td>\n",
       "      <td>-0.574410</td>\n",
       "      <td>0.882482</td>\n",
       "      <td>-0.288653</td>\n",
       "      <td>...</td>\n",
       "      <td>-0.771903</td>\n",
       "      <td>-0.752176</td>\n",
       "      <td>-0.704483</td>\n",
       "      <td>-0.359325</td>\n",
       "      <td>-0.116339</td>\n",
       "      <td>-0.270208</td>\n",
       "      <td>-0.068692</td>\n",
       "      <td>-0.087688</td>\n",
       "      <td>0.620891</td>\n",
       "      <td>-0.614439</td>\n",
       "    </tr>\n",
       "    <tr>\n",
       "      <th>434</th>\n",
       "      <td>-0.872563</td>\n",
       "      <td>-0.956100</td>\n",
       "      <td>-0.470726</td>\n",
       "      <td>-2.241782</td>\n",
       "      <td>2.179628</td>\n",
       "      <td>-0.538802</td>\n",
       "      <td>0.975575</td>\n",
       "      <td>-0.574410</td>\n",
       "      <td>-0.411543</td>\n",
       "      <td>-0.288653</td>\n",
       "      <td>...</td>\n",
       "      <td>-1.183635</td>\n",
       "      <td>0.381142</td>\n",
       "      <td>0.775134</td>\n",
       "      <td>-0.359325</td>\n",
       "      <td>-0.116339</td>\n",
       "      <td>-0.270208</td>\n",
       "      <td>-0.068692</td>\n",
       "      <td>-0.087688</td>\n",
       "      <td>0.250891</td>\n",
       "      <td>-1.367655</td>\n",
       "    </tr>\n",
       "    <tr>\n",
       "      <th>435</th>\n",
       "      <td>0.073375</td>\n",
       "      <td>-0.229372</td>\n",
       "      <td>-0.239714</td>\n",
       "      <td>0.651479</td>\n",
       "      <td>0.381743</td>\n",
       "      <td>1.183477</td>\n",
       "      <td>1.072482</td>\n",
       "      <td>0.000000</td>\n",
       "      <td>-0.973018</td>\n",
       "      <td>-0.288653</td>\n",
       "      <td>...</td>\n",
       "      <td>0.416503</td>\n",
       "      <td>-0.752176</td>\n",
       "      <td>-0.704483</td>\n",
       "      <td>-0.359325</td>\n",
       "      <td>-0.116339</td>\n",
       "      <td>-0.270208</td>\n",
       "      <td>-0.068692</td>\n",
       "      <td>-0.087688</td>\n",
       "      <td>-0.489110</td>\n",
       "      <td>0.138777</td>\n",
       "    </tr>\n",
       "    <tr>\n",
       "      <th>436</th>\n",
       "      <td>-0.163109</td>\n",
       "      <td>-0.138531</td>\n",
       "      <td>0.184125</td>\n",
       "      <td>-0.071836</td>\n",
       "      <td>2.179628</td>\n",
       "      <td>-1.698028</td>\n",
       "      <td>0.733308</td>\n",
       "      <td>-0.574410</td>\n",
       "      <td>-0.973018</td>\n",
       "      <td>-0.288653</td>\n",
       "      <td>...</td>\n",
       "      <td>0.257425</td>\n",
       "      <td>-0.752176</td>\n",
       "      <td>-0.009969</td>\n",
       "      <td>-0.359325</td>\n",
       "      <td>-0.116339</td>\n",
       "      <td>-0.270208</td>\n",
       "      <td>-0.068692</td>\n",
       "      <td>1.525368</td>\n",
       "      <td>0.620891</td>\n",
       "      <td>0.891994</td>\n",
       "    </tr>\n",
       "    <tr>\n",
       "      <th>437</th>\n",
       "      <td>0.073375</td>\n",
       "      <td>1.542029</td>\n",
       "      <td>0.300784</td>\n",
       "      <td>2.098110</td>\n",
       "      <td>-0.517200</td>\n",
       "      <td>1.216598</td>\n",
       "      <td>1.169389</td>\n",
       "      <td>4.189941</td>\n",
       "      <td>-0.973018</td>\n",
       "      <td>-0.288653</td>\n",
       "      <td>...</td>\n",
       "      <td>1.623624</td>\n",
       "      <td>0.397104</td>\n",
       "      <td>0.473172</td>\n",
       "      <td>-0.359325</td>\n",
       "      <td>-0.116339</td>\n",
       "      <td>-0.270208</td>\n",
       "      <td>-0.068692</td>\n",
       "      <td>-0.087688</td>\n",
       "      <td>0.250891</td>\n",
       "      <td>0.891994</td>\n",
       "    </tr>\n",
       "  </tbody>\n",
       "</table>\n",
       "<p>438 rows × 36 columns</p>\n",
       "</div>"
      ],
      "text/plain": [
       "     MSSubClass  LotFrontage   LotArea  OverallQual  OverallCond  YearBuilt  \\\n",
       "0     -0.872563    -0.002269 -0.210750    -0.071836     2.179628  -0.273836   \n",
       "1      0.073375     1.269506  0.174303     1.374795    -0.517200   0.752907   \n",
       "2     -0.636078    -0.638156 -0.156028    -0.795151     0.381743  -1.466183   \n",
       "3     -0.163109    -0.910680 -0.552908    -0.071836     1.280685  -0.803768   \n",
       "4     -0.872563     0.860721  0.238646     2.098110    -0.517200   1.183477   \n",
       "..          ...          ...       ...          ...          ...        ...   \n",
       "433   -0.872563    -0.002269 -0.234603    -0.795151     0.381743  -0.439440   \n",
       "434   -0.872563    -0.956100 -0.470726    -2.241782     2.179628  -0.538802   \n",
       "435    0.073375    -0.229372 -0.239714     0.651479     0.381743   1.183477   \n",
       "436   -0.163109    -0.138531  0.184125    -0.071836     2.179628  -1.698028   \n",
       "437    0.073375     1.542029  0.300784     2.098110    -0.517200   1.216598   \n",
       "\n",
       "     YearRemodAdd  MasVnrArea  BsmtFinSF1  BsmtFinSF2  ...  GarageArea  \\\n",
       "0        0.878668   -0.574410    0.481115   -0.288653  ...   -0.977769   \n",
       "1        0.491040    1.431049    1.290428   -0.288653  ...    1.118318   \n",
       "2       -1.689368   -0.574410   -0.973018   -0.288653  ...   -0.528608   \n",
       "3       -1.689368   -0.574410   -0.097907   -0.288653  ...   -0.247882   \n",
       "4        1.120936   -0.186614    1.268496   -0.288653  ...    2.054071   \n",
       "..            ...         ...         ...         ...  ...         ...   \n",
       "433      0.345679   -0.574410    0.882482   -0.288653  ...   -0.771903   \n",
       "434      0.975575   -0.574410   -0.411543   -0.288653  ...   -1.183635   \n",
       "435      1.072482    0.000000   -0.973018   -0.288653  ...    0.416503   \n",
       "436      0.733308   -0.574410   -0.973018   -0.288653  ...    0.257425   \n",
       "437      1.169389    4.189941   -0.973018   -0.288653  ...    1.623624   \n",
       "\n",
       "     WoodDeckSF  OpenPorchSF  EnclosedPorch  3SsnPorch  ScreenPorch  PoolArea  \\\n",
       "0      0.780197    -0.704483      -0.359325  -0.116339    -0.270208 -0.068692   \n",
       "1      0.732311    -0.221343      -0.359325  -0.116339    -0.270208 -0.068692   \n",
       "2     -0.752176    -0.704483       1.768397  -0.116339    -0.270208 -0.068692   \n",
       "3     -0.752176    -0.342128       0.229890  -0.116339    -0.270208 -0.068692   \n",
       "4      1.067517    -0.704483      -0.359325  -0.116339    -0.270208 -0.068692   \n",
       "..          ...          ...            ...        ...          ...       ...   \n",
       "433   -0.752176    -0.704483      -0.359325  -0.116339    -0.270208 -0.068692   \n",
       "434    0.381142     0.775134      -0.359325  -0.116339    -0.270208 -0.068692   \n",
       "435   -0.752176    -0.704483      -0.359325  -0.116339    -0.270208 -0.068692   \n",
       "436   -0.752176    -0.009969      -0.359325  -0.116339    -0.270208 -0.068692   \n",
       "437    0.397104     0.473172      -0.359325  -0.116339    -0.270208 -0.068692   \n",
       "\n",
       "      MiscVal    MoSold    YrSold  \n",
       "0   -0.087688 -1.599111 -1.367655  \n",
       "1   -0.087688 -0.859110  1.645210  \n",
       "2   -0.087688 -1.229111  1.645210  \n",
       "3   -0.087688  1.360892 -1.367655  \n",
       "4   -0.087688  0.990891  0.891994  \n",
       "..        ...       ...       ...  \n",
       "433 -0.087688  0.620891 -0.614439  \n",
       "434 -0.087688  0.250891 -1.367655  \n",
       "435 -0.087688 -0.489110  0.138777  \n",
       "436  1.525368  0.620891  0.891994  \n",
       "437 -0.087688  0.250891  0.891994  \n",
       "\n",
       "[438 rows x 36 columns]"
      ]
     },
     "execution_count": 141,
     "metadata": {},
     "output_type": "execute_result"
    }
   ],
   "source": [
    "d_teste"
   ]
  },
  {
   "cell_type": "code",
   "execution_count": 142,
   "id": "e726f4f8",
   "metadata": {},
   "outputs": [
    {
     "data": {
      "text/html": [
       "<div>\n",
       "<style scoped>\n",
       "    .dataframe tbody tr th:only-of-type {\n",
       "        vertical-align: middle;\n",
       "    }\n",
       "\n",
       "    .dataframe tbody tr th {\n",
       "        vertical-align: top;\n",
       "    }\n",
       "\n",
       "    .dataframe thead th {\n",
       "        text-align: right;\n",
       "    }\n",
       "</style>\n",
       "<table border=\"1\" class=\"dataframe\">\n",
       "  <thead>\n",
       "    <tr style=\"text-align: right;\">\n",
       "      <th></th>\n",
       "      <th>coluna_x</th>\n",
       "      <th>y_pred</th>\n",
       "      <th>SalePrice</th>\n",
       "    </tr>\n",
       "  </thead>\n",
       "  <tbody>\n",
       "    <tr>\n",
       "      <th>0</th>\n",
       "      <td>-0.244858</td>\n",
       "      <td>151454.942759</td>\n",
       "      <td>154500</td>\n",
       "    </tr>\n",
       "    <tr>\n",
       "      <th>1</th>\n",
       "      <td>0.872994</td>\n",
       "      <td>308704.942759</td>\n",
       "      <td>325000</td>\n",
       "    </tr>\n",
       "    <tr>\n",
       "      <th>2</th>\n",
       "      <td>-0.348363</td>\n",
       "      <td>114848.942759</td>\n",
       "      <td>115000</td>\n",
       "    </tr>\n",
       "    <tr>\n",
       "      <th>3</th>\n",
       "      <td>-0.410466</td>\n",
       "      <td>181168.942759</td>\n",
       "      <td>159000</td>\n",
       "    </tr>\n",
       "    <tr>\n",
       "      <th>4</th>\n",
       "      <td>1.183509</td>\n",
       "      <td>299376.942759</td>\n",
       "      <td>315500</td>\n",
       "    </tr>\n",
       "    <tr>\n",
       "      <th>...</th>\n",
       "      <td>...</td>\n",
       "      <td>...</td>\n",
       "      <td>...</td>\n",
       "    </tr>\n",
       "    <tr>\n",
       "      <th>433</th>\n",
       "      <td>-0.275910</td>\n",
       "      <td>132078.942759</td>\n",
       "      <td>139000</td>\n",
       "    </tr>\n",
       "    <tr>\n",
       "      <th>434</th>\n",
       "      <td>0.000966</td>\n",
       "      <td>105514.942759</td>\n",
       "      <td>126175</td>\n",
       "    </tr>\n",
       "    <tr>\n",
       "      <th>435</th>\n",
       "      <td>-0.881413</td>\n",
       "      <td>210168.942759</td>\n",
       "      <td>205950</td>\n",
       "    </tr>\n",
       "    <tr>\n",
       "      <th>436</th>\n",
       "      <td>-1.238505</td>\n",
       "      <td>150562.165009</td>\n",
       "      <td>110000</td>\n",
       "    </tr>\n",
       "    <tr>\n",
       "      <th>437</th>\n",
       "      <td>2.078826</td>\n",
       "      <td>364667.535524</td>\n",
       "      <td>485000</td>\n",
       "    </tr>\n",
       "  </tbody>\n",
       "</table>\n",
       "<p>438 rows × 3 columns</p>\n",
       "</div>"
      ],
      "text/plain": [
       "     coluna_x         y_pred  SalePrice\n",
       "0   -0.244858  151454.942759     154500\n",
       "1    0.872994  308704.942759     325000\n",
       "2   -0.348363  114848.942759     115000\n",
       "3   -0.410466  181168.942759     159000\n",
       "4    1.183509  299376.942759     315500\n",
       "..        ...            ...        ...\n",
       "433 -0.275910  132078.942759     139000\n",
       "434  0.000966  105514.942759     126175\n",
       "435 -0.881413  210168.942759     205950\n",
       "436 -1.238505  150562.165009     110000\n",
       "437  2.078826  364667.535524     485000\n",
       "\n",
       "[438 rows x 3 columns]"
      ]
     },
     "execution_count": 142,
     "metadata": {},
     "output_type": "execute_result"
    }
   ],
   "source": [
    "df_final"
   ]
  },
  {
   "cell_type": "code",
   "execution_count": 163,
   "id": "8d9169a4",
   "metadata": {},
   "outputs": [
    {
     "data": {
      "text/plain": [
       "<matplotlib.collections.PathCollection at 0x239ebbd7c40>"
      ]
     },
     "execution_count": 163,
     "metadata": {},
     "output_type": "execute_result"
    },
    {
     "data": {
      "image/png": "[encoded data removed]",
      "text/plain": [
       "<Figure size 432x288 with 1 Axes>"
      ]
     },
     "metadata": {
      "needs_background": "light"
     },
     "output_type": "display_data"
    }
   ],
   "source": [
    "plt.scatter(\n",
    "    df_final['coluna_x'],\n",
    "    df_final.SalePrice, color=c[0], edgecolors='white')"
   ]
  },
  {
   "cell_type": "code",
   "execution_count": 147,
   "id": "5d7ebf82",
   "metadata": {},
   "outputs": [],
   "source": [
    "df_final = df_final.sort_values(by='coluna_x')"
   ]
  },
  {
   "cell_type": "code",
   "execution_count": 155,
   "id": "0fceaa1b",
   "metadata": {},
   "outputs": [
    {
     "data": {
      "text/html": [
       "<svg  width=\"550\" height=\"55\"><rect x=\"0\" y=\"0\" width=\"55\" height=\"55\" style=\"fill:#0173b2;stroke-width:2;stroke:rgb(255,255,255)\"/><rect x=\"55\" y=\"0\" width=\"55\" height=\"55\" style=\"fill:#de8f05;stroke-width:2;stroke:rgb(255,255,255)\"/><rect x=\"110\" y=\"0\" width=\"55\" height=\"55\" style=\"fill:#029e73;stroke-width:2;stroke:rgb(255,255,255)\"/><rect x=\"165\" y=\"0\" width=\"55\" height=\"55\" style=\"fill:#d55e00;stroke-width:2;stroke:rgb(255,255,255)\"/><rect x=\"220\" y=\"0\" width=\"55\" height=\"55\" style=\"fill:#cc78bc;stroke-width:2;stroke:rgb(255,255,255)\"/><rect x=\"275\" y=\"0\" width=\"55\" height=\"55\" style=\"fill:#ca9161;stroke-width:2;stroke:rgb(255,255,255)\"/><rect x=\"330\" y=\"0\" width=\"55\" height=\"55\" style=\"fill:#fbafe4;stroke-width:2;stroke:rgb(255,255,255)\"/><rect x=\"385\" y=\"0\" width=\"55\" height=\"55\" style=\"fill:#949494;stroke-width:2;stroke:rgb(255,255,255)\"/><rect x=\"440\" y=\"0\" width=\"55\" height=\"55\" style=\"fill:#ece133;stroke-width:2;stroke:rgb(255,255,255)\"/><rect x=\"495\" y=\"0\" width=\"55\" height=\"55\" style=\"fill:#56b4e9;stroke-width:2;stroke:rgb(255,255,255)\"/></svg>"
      ],
      "text/plain": [
       "[(0.00392156862745098, 0.45098039215686275, 0.6980392156862745),\n",
       " (0.8705882352941177, 0.5607843137254902, 0.0196078431372549),\n",
       " (0.00784313725490196, 0.6196078431372549, 0.45098039215686275),\n",
       " (0.8352941176470589, 0.3686274509803922, 0.0),\n",
       " (0.8, 0.47058823529411764, 0.7372549019607844),\n",
       " (0.792156862745098, 0.5686274509803921, 0.3803921568627451),\n",
       " (0.984313725490196, 0.6862745098039216, 0.8941176470588236),\n",
       " (0.5803921568627451, 0.5803921568627451, 0.5803921568627451),\n",
       " (0.9254901960784314, 0.8823529411764706, 0.2),\n",
       " (0.33725490196078434, 0.7058823529411765, 0.9137254901960784)]"
      ]
     },
     "execution_count": 155,
     "metadata": {},
     "output_type": "execute_result"
    }
   ],
   "source": [
    "colors"
   ]
  },
  {
   "cell_type": "code",
   "execution_count": 164,
   "id": "1c692842",
   "metadata": {},
   "outputs": [],
   "source": [
    "# treinando com uma random forst"
   ]
  },
  {
   "cell_type": "code",
   "execution_count": 165,
   "id": "5752745a",
   "metadata": {},
   "outputs": [],
   "source": [
    "from sklearn.tree import DecisionTreeRegressor"
   ]
  },
  {
   "cell_type": "code",
   "execution_count": 166,
   "id": "84efe1bd",
   "metadata": {},
   "outputs": [],
   "source": [
    "tree = DecisionTreeRegressor()"
   ]
  },
  {
   "cell_type": "code",
   "execution_count": 208,
   "id": "c26266be",
   "metadata": {},
   "outputs": [],
   "source": [
    "X = pd.DataFrame(num_data, columns=num_cols)"
   ]
  },
  {
   "cell_type": "code",
   "execution_count": 209,
   "id": "a4d473e5",
   "metadata": {},
   "outputs": [
    {
     "data": {
      "text/html": [
       "<div>\n",
       "<style scoped>\n",
       "    .dataframe tbody tr th:only-of-type {\n",
       "        vertical-align: middle;\n",
       "    }\n",
       "\n",
       "    .dataframe tbody tr th {\n",
       "        vertical-align: top;\n",
       "    }\n",
       "\n",
       "    .dataframe thead th {\n",
       "        text-align: right;\n",
       "    }\n",
       "</style>\n",
       "<table border=\"1\" class=\"dataframe\">\n",
       "  <thead>\n",
       "    <tr style=\"text-align: right;\">\n",
       "      <th></th>\n",
       "      <th>MSSubClass</th>\n",
       "      <th>LotFrontage</th>\n",
       "      <th>LotArea</th>\n",
       "      <th>OverallQual</th>\n",
       "      <th>OverallCond</th>\n",
       "      <th>YearBuilt</th>\n",
       "      <th>YearRemodAdd</th>\n",
       "      <th>MasVnrArea</th>\n",
       "      <th>BsmtFinSF1</th>\n",
       "      <th>BsmtFinSF2</th>\n",
       "      <th>...</th>\n",
       "      <th>GarageArea</th>\n",
       "      <th>WoodDeckSF</th>\n",
       "      <th>OpenPorchSF</th>\n",
       "      <th>EnclosedPorch</th>\n",
       "      <th>3SsnPorch</th>\n",
       "      <th>ScreenPorch</th>\n",
       "      <th>PoolArea</th>\n",
       "      <th>MiscVal</th>\n",
       "      <th>MoSold</th>\n",
       "      <th>YrSold</th>\n",
       "    </tr>\n",
       "  </thead>\n",
       "  <tbody>\n",
       "    <tr>\n",
       "      <th>0</th>\n",
       "      <td>0.073375</td>\n",
       "      <td>-0.229372</td>\n",
       "      <td>-0.207142</td>\n",
       "      <td>0.651479</td>\n",
       "      <td>-0.517200</td>\n",
       "      <td>1.050994</td>\n",
       "      <td>0.878668</td>\n",
       "      <td>0.511418</td>\n",
       "      <td>0.575425</td>\n",
       "      <td>-0.288653</td>\n",
       "      <td>...</td>\n",
       "      <td>0.351000</td>\n",
       "      <td>-0.752176</td>\n",
       "      <td>0.216503</td>\n",
       "      <td>-0.359325</td>\n",
       "      <td>-0.116339</td>\n",
       "      <td>-0.270208</td>\n",
       "      <td>-0.068692</td>\n",
       "      <td>-0.087688</td>\n",
       "      <td>-1.599111</td>\n",
       "      <td>0.138777</td>\n",
       "    </tr>\n",
       "    <tr>\n",
       "      <th>1</th>\n",
       "      <td>-0.872563</td>\n",
       "      <td>0.451936</td>\n",
       "      <td>-0.091886</td>\n",
       "      <td>-0.071836</td>\n",
       "      <td>2.179628</td>\n",
       "      <td>0.156734</td>\n",
       "      <td>-0.429577</td>\n",
       "      <td>-0.574410</td>\n",
       "      <td>1.171992</td>\n",
       "      <td>-0.288653</td>\n",
       "      <td>...</td>\n",
       "      <td>-0.060731</td>\n",
       "      <td>1.626195</td>\n",
       "      <td>-0.704483</td>\n",
       "      <td>-0.359325</td>\n",
       "      <td>-0.116339</td>\n",
       "      <td>-0.270208</td>\n",
       "      <td>-0.068692</td>\n",
       "      <td>-0.087688</td>\n",
       "      <td>-0.489110</td>\n",
       "      <td>-0.614439</td>\n",
       "    </tr>\n",
       "    <tr>\n",
       "      <th>2</th>\n",
       "      <td>0.073375</td>\n",
       "      <td>-0.093110</td>\n",
       "      <td>0.073480</td>\n",
       "      <td>0.651479</td>\n",
       "      <td>-0.517200</td>\n",
       "      <td>0.984752</td>\n",
       "      <td>0.830215</td>\n",
       "      <td>0.323060</td>\n",
       "      <td>0.092907</td>\n",
       "      <td>-0.288653</td>\n",
       "      <td>...</td>\n",
       "      <td>0.631726</td>\n",
       "      <td>-0.752176</td>\n",
       "      <td>-0.070361</td>\n",
       "      <td>-0.359325</td>\n",
       "      <td>-0.116339</td>\n",
       "      <td>-0.270208</td>\n",
       "      <td>-0.068692</td>\n",
       "      <td>-0.087688</td>\n",
       "      <td>0.990891</td>\n",
       "      <td>0.138777</td>\n",
       "    </tr>\n",
       "    <tr>\n",
       "      <th>3</th>\n",
       "      <td>0.309859</td>\n",
       "      <td>-0.456474</td>\n",
       "      <td>-0.096897</td>\n",
       "      <td>0.651479</td>\n",
       "      <td>-0.517200</td>\n",
       "      <td>-1.863632</td>\n",
       "      <td>-0.720298</td>\n",
       "      <td>-0.574410</td>\n",
       "      <td>-0.499274</td>\n",
       "      <td>-0.288653</td>\n",
       "      <td>...</td>\n",
       "      <td>0.790804</td>\n",
       "      <td>-0.752176</td>\n",
       "      <td>-0.176048</td>\n",
       "      <td>4.092524</td>\n",
       "      <td>-0.116339</td>\n",
       "      <td>-0.270208</td>\n",
       "      <td>-0.068692</td>\n",
       "      <td>-0.087688</td>\n",
       "      <td>-1.599111</td>\n",
       "      <td>-1.367655</td>\n",
       "    </tr>\n",
       "    <tr>\n",
       "      <th>4</th>\n",
       "      <td>0.073375</td>\n",
       "      <td>0.633618</td>\n",
       "      <td>0.375148</td>\n",
       "      <td>1.374795</td>\n",
       "      <td>-0.517200</td>\n",
       "      <td>0.951632</td>\n",
       "      <td>0.733308</td>\n",
       "      <td>1.364570</td>\n",
       "      <td>0.463568</td>\n",
       "      <td>-0.288653</td>\n",
       "      <td>...</td>\n",
       "      <td>1.698485</td>\n",
       "      <td>0.780197</td>\n",
       "      <td>0.563760</td>\n",
       "      <td>-0.359325</td>\n",
       "      <td>-0.116339</td>\n",
       "      <td>-0.270208</td>\n",
       "      <td>-0.068692</td>\n",
       "      <td>-0.087688</td>\n",
       "      <td>2.100892</td>\n",
       "      <td>0.138777</td>\n",
       "    </tr>\n",
       "    <tr>\n",
       "      <th>...</th>\n",
       "      <td>...</td>\n",
       "      <td>...</td>\n",
       "      <td>...</td>\n",
       "      <td>...</td>\n",
       "      <td>...</td>\n",
       "      <td>...</td>\n",
       "      <td>...</td>\n",
       "      <td>...</td>\n",
       "      <td>...</td>\n",
       "      <td>...</td>\n",
       "      <td>...</td>\n",
       "      <td>...</td>\n",
       "      <td>...</td>\n",
       "      <td>...</td>\n",
       "      <td>...</td>\n",
       "      <td>...</td>\n",
       "      <td>...</td>\n",
       "      <td>...</td>\n",
       "      <td>...</td>\n",
       "      <td>...</td>\n",
       "      <td>...</td>\n",
       "    </tr>\n",
       "    <tr>\n",
       "      <th>1455</th>\n",
       "      <td>0.073375</td>\n",
       "      <td>-0.365633</td>\n",
       "      <td>-0.260560</td>\n",
       "      <td>-0.071836</td>\n",
       "      <td>-0.517200</td>\n",
       "      <td>0.918511</td>\n",
       "      <td>0.733308</td>\n",
       "      <td>-0.574410</td>\n",
       "      <td>-0.973018</td>\n",
       "      <td>-0.288653</td>\n",
       "      <td>...</td>\n",
       "      <td>-0.060731</td>\n",
       "      <td>-0.752176</td>\n",
       "      <td>-0.100558</td>\n",
       "      <td>-0.359325</td>\n",
       "      <td>-0.116339</td>\n",
       "      <td>-0.270208</td>\n",
       "      <td>-0.068692</td>\n",
       "      <td>-0.087688</td>\n",
       "      <td>0.620891</td>\n",
       "      <td>-0.614439</td>\n",
       "    </tr>\n",
       "    <tr>\n",
       "      <th>1456</th>\n",
       "      <td>-0.872563</td>\n",
       "      <td>0.679039</td>\n",
       "      <td>0.266407</td>\n",
       "      <td>-0.071836</td>\n",
       "      <td>0.381743</td>\n",
       "      <td>0.222975</td>\n",
       "      <td>0.151865</td>\n",
       "      <td>0.084843</td>\n",
       "      <td>0.759659</td>\n",
       "      <td>0.722112</td>\n",
       "      <td>...</td>\n",
       "      <td>0.126420</td>\n",
       "      <td>2.033231</td>\n",
       "      <td>-0.704483</td>\n",
       "      <td>-0.359325</td>\n",
       "      <td>-0.116339</td>\n",
       "      <td>-0.270208</td>\n",
       "      <td>-0.068692</td>\n",
       "      <td>-0.087688</td>\n",
       "      <td>-1.599111</td>\n",
       "      <td>1.645210</td>\n",
       "    </tr>\n",
       "    <tr>\n",
       "      <th>1457</th>\n",
       "      <td>0.309859</td>\n",
       "      <td>-0.183951</td>\n",
       "      <td>-0.147810</td>\n",
       "      <td>0.651479</td>\n",
       "      <td>3.078570</td>\n",
       "      <td>-1.002492</td>\n",
       "      <td>1.024029</td>\n",
       "      <td>-0.574410</td>\n",
       "      <td>-0.369871</td>\n",
       "      <td>-0.288653</td>\n",
       "      <td>...</td>\n",
       "      <td>-1.033914</td>\n",
       "      <td>-0.752176</td>\n",
       "      <td>0.201405</td>\n",
       "      <td>-0.359325</td>\n",
       "      <td>-0.116339</td>\n",
       "      <td>-0.270208</td>\n",
       "      <td>-0.068692</td>\n",
       "      <td>4.953112</td>\n",
       "      <td>-0.489110</td>\n",
       "      <td>1.645210</td>\n",
       "    </tr>\n",
       "    <tr>\n",
       "      <th>1458</th>\n",
       "      <td>-0.872563</td>\n",
       "      <td>-0.093110</td>\n",
       "      <td>-0.080160</td>\n",
       "      <td>-0.795151</td>\n",
       "      <td>0.381743</td>\n",
       "      <td>-0.704406</td>\n",
       "      <td>0.539493</td>\n",
       "      <td>-0.574410</td>\n",
       "      <td>-0.865548</td>\n",
       "      <td>6.092188</td>\n",
       "      <td>...</td>\n",
       "      <td>-1.090059</td>\n",
       "      <td>2.168910</td>\n",
       "      <td>-0.704483</td>\n",
       "      <td>1.473789</td>\n",
       "      <td>-0.116339</td>\n",
       "      <td>-0.270208</td>\n",
       "      <td>-0.068692</td>\n",
       "      <td>-0.087688</td>\n",
       "      <td>-0.859110</td>\n",
       "      <td>1.645210</td>\n",
       "    </tr>\n",
       "    <tr>\n",
       "      <th>1459</th>\n",
       "      <td>-0.872563</td>\n",
       "      <td>0.224833</td>\n",
       "      <td>-0.058112</td>\n",
       "      <td>-0.795151</td>\n",
       "      <td>0.381743</td>\n",
       "      <td>-0.207594</td>\n",
       "      <td>-0.962566</td>\n",
       "      <td>-0.574410</td>\n",
       "      <td>0.847389</td>\n",
       "      <td>1.509640</td>\n",
       "      <td>...</td>\n",
       "      <td>-0.921624</td>\n",
       "      <td>5.121921</td>\n",
       "      <td>0.322190</td>\n",
       "      <td>-0.359325</td>\n",
       "      <td>-0.116339</td>\n",
       "      <td>-0.270208</td>\n",
       "      <td>-0.068692</td>\n",
       "      <td>-0.087688</td>\n",
       "      <td>-0.119110</td>\n",
       "      <td>0.138777</td>\n",
       "    </tr>\n",
       "  </tbody>\n",
       "</table>\n",
       "<p>1460 rows × 36 columns</p>\n",
       "</div>"
      ],
      "text/plain": [
       "      MSSubClass  LotFrontage   LotArea  OverallQual  OverallCond  YearBuilt  \\\n",
       "0       0.073375    -0.229372 -0.207142     0.651479    -0.517200   1.050994   \n",
       "1      -0.872563     0.451936 -0.091886    -0.071836     2.179628   0.156734   \n",
       "2       0.073375    -0.093110  0.073480     0.651479    -0.517200   0.984752   \n",
       "3       0.309859    -0.456474 -0.096897     0.651479    -0.517200  -1.863632   \n",
       "4       0.073375     0.633618  0.375148     1.374795    -0.517200   0.951632   \n",
       "...          ...          ...       ...          ...          ...        ...   \n",
       "1455    0.073375    -0.365633 -0.260560    -0.071836    -0.517200   0.918511   \n",
       "1456   -0.872563     0.679039  0.266407    -0.071836     0.381743   0.222975   \n",
       "1457    0.309859    -0.183951 -0.147810     0.651479     3.078570  -1.002492   \n",
       "1458   -0.872563    -0.093110 -0.080160    -0.795151     0.381743  -0.704406   \n",
       "1459   -0.872563     0.224833 -0.058112    -0.795151     0.381743  -0.207594   \n",
       "\n",
       "      YearRemodAdd  MasVnrArea  BsmtFinSF1  BsmtFinSF2  ...  GarageArea  \\\n",
       "0         0.878668    0.511418    0.575425   -0.288653  ...    0.351000   \n",
       "1        -0.429577   -0.574410    1.171992   -0.288653  ...   -0.060731   \n",
       "2         0.830215    0.323060    0.092907   -0.288653  ...    0.631726   \n",
       "3        -0.720298   -0.574410   -0.499274   -0.288653  ...    0.790804   \n",
       "4         0.733308    1.364570    0.463568   -0.288653  ...    1.698485   \n",
       "...            ...         ...         ...         ...  ...         ...   \n",
       "1455      0.733308   -0.574410   -0.973018   -0.288653  ...   -0.060731   \n",
       "1456      0.151865    0.084843    0.759659    0.722112  ...    0.126420   \n",
       "1457      1.024029   -0.574410   -0.369871   -0.288653  ...   -1.033914   \n",
       "1458      0.539493   -0.574410   -0.865548    6.092188  ...   -1.090059   \n",
       "1459     -0.962566   -0.574410    0.847389    1.509640  ...   -0.921624   \n",
       "\n",
       "      WoodDeckSF  OpenPorchSF  EnclosedPorch  3SsnPorch  ScreenPorch  \\\n",
       "0      -0.752176     0.216503      -0.359325  -0.116339    -0.270208   \n",
       "1       1.626195    -0.704483      -0.359325  -0.116339    -0.270208   \n",
       "2      -0.752176    -0.070361      -0.359325  -0.116339    -0.270208   \n",
       "3      -0.752176    -0.176048       4.092524  -0.116339    -0.270208   \n",
       "4       0.780197     0.563760      -0.359325  -0.116339    -0.270208   \n",
       "...          ...          ...            ...        ...          ...   \n",
       "1455   -0.752176    -0.100558      -0.359325  -0.116339    -0.270208   \n",
       "1456    2.033231    -0.704483      -0.359325  -0.116339    -0.270208   \n",
       "1457   -0.752176     0.201405      -0.359325  -0.116339    -0.270208   \n",
       "1458    2.168910    -0.704483       1.473789  -0.116339    -0.270208   \n",
       "1459    5.121921     0.322190      -0.359325  -0.116339    -0.270208   \n",
       "\n",
       "      PoolArea   MiscVal    MoSold    YrSold  \n",
       "0    -0.068692 -0.087688 -1.599111  0.138777  \n",
       "1    -0.068692 -0.087688 -0.489110 -0.614439  \n",
       "2    -0.068692 -0.087688  0.990891  0.138777  \n",
       "3    -0.068692 -0.087688 -1.599111 -1.367655  \n",
       "4    -0.068692 -0.087688  2.100892  0.138777  \n",
       "...        ...       ...       ...       ...  \n",
       "1455 -0.068692 -0.087688  0.620891 -0.614439  \n",
       "1456 -0.068692 -0.087688 -1.599111  1.645210  \n",
       "1457 -0.068692  4.953112 -0.489110  1.645210  \n",
       "1458 -0.068692 -0.087688 -0.859110  1.645210  \n",
       "1459 -0.068692 -0.087688 -0.119110  0.138777  \n",
       "\n",
       "[1460 rows x 36 columns]"
      ]
     },
     "execution_count": 209,
     "metadata": {},
     "output_type": "execute_result"
    }
   ],
   "source": [
    "X"
   ]
  },
  {
   "cell_type": "code",
   "execution_count": 212,
   "id": "38720001",
   "metadata": {},
   "outputs": [],
   "source": [
    "data.reset_index(drop=True, inplace=True)"
   ]
  },
  {
   "cell_type": "code",
   "execution_count": 214,
   "id": "09f8cc33",
   "metadata": {},
   "outputs": [],
   "source": [
    "y = data.SalePrice"
   ]
  },
  {
   "cell_type": "code",
   "execution_count": 215,
   "id": "5fc1a322",
   "metadata": {},
   "outputs": [],
   "source": [
    "X_train, X_test, y_train, y_test = train_test_split(X, y, test_size=0.3)"
   ]
  },
  {
   "cell_type": "code",
   "execution_count": 216,
   "id": "9e6099d6",
   "metadata": {},
   "outputs": [
    {
     "data": {
      "text/html": [
       "<style>#sk-container-id-3 {color: black;background-color: white;}#sk-container-id-3 pre{padding: 0;}#sk-container-id-3 div.sk-toggleable {background-color: white;}#sk-container-id-3 label.sk-toggleable__label {cursor: pointer;display: block;width: 100%;margin-bottom: 0;padding: 0.3em;box-sizing: border-box;text-align: center;}#sk-container-id-3 label.sk-toggleable__label-arrow:before {content: \"▸\";float: left;margin-right: 0.25em;color: #696969;}#sk-container-id-3 label.sk-toggleable__label-arrow:hover:before {color: black;}#sk-container-id-3 div.sk-estimator:hover label.sk-toggleable__label-arrow:before {color: black;}#sk-container-id-3 div.sk-toggleable__content {max-height: 0;max-width: 0;overflow: hidden;text-align: left;background-color: #f0f8ff;}#sk-container-id-3 div.sk-toggleable__content pre {margin: 0.2em;color: black;border-radius: 0.25em;background-color: #f0f8ff;}#sk-container-id-3 input.sk-toggleable__control:checked~div.sk-toggleable__content {max-height: 200px;max-width: 100%;overflow: auto;}#sk-container-id-3 input.sk-toggleable__control:checked~label.sk-toggleable__label-arrow:before {content: \"▾\";}#sk-container-id-3 div.sk-estimator input.sk-toggleable__control:checked~label.sk-toggleable__label {background-color: #d4ebff;}#sk-container-id-3 div.sk-label input.sk-toggleable__control:checked~label.sk-toggleable__label {background-color: #d4ebff;}#sk-container-id-3 input.sk-hidden--visually {border: 0;clip: rect(1px 1px 1px 1px);clip: rect(1px, 1px, 1px, 1px);height: 1px;margin: -1px;overflow: hidden;padding: 0;position: absolute;width: 1px;}#sk-container-id-3 div.sk-estimator {font-family: monospace;background-color: #f0f8ff;border: 1px dotted black;border-radius: 0.25em;box-sizing: border-box;margin-bottom: 0.5em;}#sk-container-id-3 div.sk-estimator:hover {background-color: #d4ebff;}#sk-container-id-3 div.sk-parallel-item::after {content: \"\";width: 100%;border-bottom: 1px solid gray;flex-grow: 1;}#sk-container-id-3 div.sk-label:hover label.sk-toggleable__label {background-color: #d4ebff;}#sk-container-id-3 div.sk-serial::before {content: \"\";position: absolute;border-left: 1px solid gray;box-sizing: border-box;top: 0;bottom: 0;left: 50%;z-index: 0;}#sk-container-id-3 div.sk-serial {display: flex;flex-direction: column;align-items: center;background-color: white;padding-right: 0.2em;padding-left: 0.2em;position: relative;}#sk-container-id-3 div.sk-item {position: relative;z-index: 1;}#sk-container-id-3 div.sk-parallel {display: flex;align-items: stretch;justify-content: center;background-color: white;position: relative;}#sk-container-id-3 div.sk-item::before, #sk-container-id-3 div.sk-parallel-item::before {content: \"\";position: absolute;border-left: 1px solid gray;box-sizing: border-box;top: 0;bottom: 0;left: 50%;z-index: -1;}#sk-container-id-3 div.sk-parallel-item {display: flex;flex-direction: column;z-index: 1;position: relative;background-color: white;}#sk-container-id-3 div.sk-parallel-item:first-child::after {align-self: flex-end;width: 50%;}#sk-container-id-3 div.sk-parallel-item:last-child::after {align-self: flex-start;width: 50%;}#sk-container-id-3 div.sk-parallel-item:only-child::after {width: 0;}#sk-container-id-3 div.sk-dashed-wrapped {border: 1px dashed gray;margin: 0 0.4em 0.5em 0.4em;box-sizing: border-box;padding-bottom: 0.4em;background-color: white;}#sk-container-id-3 div.sk-label label {font-family: monospace;font-weight: bold;display: inline-block;line-height: 1.2em;}#sk-container-id-3 div.sk-label-container {text-align: center;}#sk-container-id-3 div.sk-container {/* jupyter's `normalize.less` sets `[hidden] { display: none; }` but bootstrap.min.css set `[hidden] { display: none !important; }` so we also need the `!important` here to be able to override the default hidden behavior on the sphinx rendered scikit-learn.org. See: https://github.com/scikit-learn/scikit-learn/issues/21755 */display: inline-block !important;position: relative;}#sk-container-id-3 div.sk-text-repr-fallback {display: none;}</style><div id=\"sk-container-id-3\" class=\"sk-top-container\"><div class=\"sk-text-repr-fallback\"><pre>DecisionTreeRegressor()</pre><b>In a Jupyter environment, please rerun this cell to show the HTML representation or trust the notebook. <br />On GitHub, the HTML representation is unable to render, please try loading this page with nbviewer.org.</b></div><div class=\"sk-container\" hidden><div class=\"sk-item\"><div class=\"sk-estimator sk-toggleable\"><input class=\"sk-toggleable__control sk-hidden--visually\" id=\"sk-estimator-id-3\" type=\"checkbox\" checked><label for=\"sk-estimator-id-3\" class=\"sk-toggleable__label sk-toggleable__label-arrow\">DecisionTreeRegressor</label><div class=\"sk-toggleable__content\"><pre>DecisionTreeRegressor()</pre></div></div></div></div></div>"
      ],
      "text/plain": [
       "DecisionTreeRegressor()"
      ]
     },
     "execution_count": 216,
     "metadata": {},
     "output_type": "execute_result"
    }
   ],
   "source": [
    "tree.fit(X_train, y_train)"
   ]
  },
  {
   "cell_type": "code",
   "execution_count": 217,
   "id": "6f629b90",
   "metadata": {},
   "outputs": [],
   "source": [
    "y_pred_tree = tree.predict(X_test)"
   ]
  },
  {
   "cell_type": "code",
   "execution_count": 218,
   "id": "652cd821",
   "metadata": {},
   "outputs": [
    {
     "data": {
      "text/plain": [
       "(438,)"
      ]
     },
     "execution_count": 218,
     "metadata": {},
     "output_type": "execute_result"
    }
   ],
   "source": [
    "y_pred_tree.shape"
   ]
  },
  {
   "cell_type": "code",
   "execution_count": 219,
   "id": "57e8fc86",
   "metadata": {},
   "outputs": [
    {
     "data": {
      "text/plain": [
       "(438,)"
      ]
     },
     "execution_count": 219,
     "metadata": {},
     "output_type": "execute_result"
    }
   ],
   "source": [
    "y_test.shape"
   ]
  },
  {
   "cell_type": "code",
   "execution_count": 223,
   "id": "9d3fd9c9",
   "metadata": {},
   "outputs": [
    {
     "data": {
      "text/plain": [
       "1174    0.019079\n",
       "554    -0.405291\n",
       "5      -0.948691\n",
       "868     0.994612\n",
       "959    -1.207453\n",
       "          ...   \n",
       "1120   -0.389765\n",
       "831    -1.662875\n",
       "525     0.267491\n",
       "355     0.096708\n",
       "535    -0.886588\n",
       "Name: 1stFlrSF, Length: 438, dtype: float64"
      ]
     },
     "execution_count": 223,
     "metadata": {},
     "output_type": "execute_result"
    }
   ],
   "source": [
    "X_test.iloc[:,12]"
   ]
  },
  {
   "cell_type": "code",
   "execution_count": 170,
   "id": "4d5b77a8",
   "metadata": {},
   "outputs": [
    {
     "data": {
      "text/plain": [
       "Id\n",
       "893     154500\n",
       "1106    325000\n",
       "414     115000\n",
       "523     159000\n",
       "1037    315500\n",
       "         ...  \n",
       "332     139000\n",
       "324     126175\n",
       "651     205950\n",
       "440     110000\n",
       "799     485000\n",
       "Name: SalePrice, Length: 438, dtype: int64"
      ]
     },
     "execution_count": 170,
     "metadata": {},
     "output_type": "execute_result"
    }
   ],
   "source": [
    "y_test"
   ]
  },
  {
   "cell_type": "code",
   "execution_count": 224,
   "id": "e6f48b06",
   "metadata": {},
   "outputs": [],
   "source": [
    "tree_importance = tree.feature_importances_"
   ]
  },
  {
   "cell_type": "code",
   "execution_count": 225,
   "id": "c8f44955",
   "metadata": {},
   "outputs": [],
   "source": [
    "tree_importance = list(zip(num_cols, tree_importance))"
   ]
  },
  {
   "cell_type": "code",
   "execution_count": 226,
   "id": "68a478c0",
   "metadata": {},
   "outputs": [
    {
     "data": {
      "text/plain": [
       "[('1stFlrSF', 0.005352749220760212),\n",
       " ('2ndFlrSF', 0.012286409897027043),\n",
       " ('3SsnPorch', 0.00018713692727557538),\n",
       " ('BedroomAbvGr', 0.001854459353642678),\n",
       " ('BsmtFinSF1', 0.03109584953645906),\n",
       " ('BsmtFinSF2', 0.0008301871823701907),\n",
       " ('BsmtFullBath', 0.0039881418544178236),\n",
       " ('BsmtHalfBath', 3.91720517106256e-05),\n",
       " ('BsmtUnfSF', 0.006599477317601924),\n",
       " ('EnclosedPorch', 0.0012765012769559926),\n",
       " ('Fireplaces', 0.003397144216271678),\n",
       " ('FullBath', 0.0018453884662701422),\n",
       " ('GarageArea', 0.017783350901879137),\n",
       " ('GarageCars', 0.012877082228679998),\n",
       " ('GarageYrBlt', 0.004596164375495548),\n",
       " ('GrLivArea', 0.11428200161622083),\n",
       " ('HalfBath', 0.00038375913916672226),\n",
       " ('KitchenAbvGr', 0.005520361922867518),\n",
       " ('LotArea', 0.014608949106026867),\n",
       " ('LotFrontage', 0.001433328887038416),\n",
       " ('LowQualFinSF', 0.0004915316928079328),\n",
       " ('MSSubClass', 0.00043207174457032897),\n",
       " ('MasVnrArea', 0.003344396693831038),\n",
       " ('MiscVal', 3.5166290970724238e-06),\n",
       " ('MoSold', 0.0013007898681140332),\n",
       " ('OpenPorchSF', 0.004759382630799418),\n",
       " ('OverallCond', 0.004152656322927112),\n",
       " ('OverallQual', 0.6460482069420705),\n",
       " ('PoolArea', 0.00042982316371407693),\n",
       " ('ScreenPorch', 0.0003674510886872172),\n",
       " ('TotRmsAbvGrd', 0.0062951591613130495),\n",
       " ('TotalBsmtSF', 0.031166549468205944),\n",
       " ('WoodDeckSF', 0.0022350738796408465),\n",
       " ('YearBuilt', 0.010532048206713987),\n",
       " ('YearRemodAdd', 0.046426478945754086),\n",
       " ('YrSold', 0.001777248083615331)]"
      ]
     },
     "execution_count": 226,
     "metadata": {},
     "output_type": "execute_result"
    }
   ],
   "source": [
    "sorted(tree_importance)"
   ]
  },
  {
   "cell_type": "code",
   "execution_count": 227,
   "id": "7ddb5bd3",
   "metadata": {},
   "outputs": [],
   "source": [
    "df_a = pd.DataFrame()"
   ]
  },
  {
   "cell_type": "code",
   "execution_count": 228,
   "id": "9586f0c7",
   "metadata": {},
   "outputs": [],
   "source": [
    "df_a[first_important] = X_test.iloc[:,12]"
   ]
  },
  {
   "cell_type": "code",
   "execution_count": 230,
   "id": "f4cb1d2c",
   "metadata": {},
   "outputs": [],
   "source": [
    "df_a.reset_index(drop=True, inplace=True)"
   ]
  },
  {
   "cell_type": "code",
   "execution_count": 244,
   "id": "f87e02ae",
   "metadata": {},
   "outputs": [],
   "source": [
    "df_a['y_test'] = np.array(y_test)"
   ]
  },
  {
   "cell_type": "code",
   "execution_count": 246,
   "id": "36b1e4e6",
   "metadata": {},
   "outputs": [],
   "source": [
    "df_a['y_pred_tree'] = np.array(y_pred_tree)"
   ]
  },
  {
   "cell_type": "code",
   "execution_count": 248,
   "id": "3db3a256",
   "metadata": {},
   "outputs": [],
   "source": [
    "df_a = df_a.sort_values(first_important)"
   ]
  },
  {
   "cell_type": "code",
   "execution_count": 250,
   "id": "b943ef47",
   "metadata": {},
   "outputs": [
    {
     "data": {
      "text/html": [
       "<svg  width=\"550\" height=\"55\"><rect x=\"0\" y=\"0\" width=\"55\" height=\"55\" style=\"fill:#a1c9f4;stroke-width:2;stroke:rgb(255,255,255)\"/><rect x=\"55\" y=\"0\" width=\"55\" height=\"55\" style=\"fill:#ffb482;stroke-width:2;stroke:rgb(255,255,255)\"/><rect x=\"110\" y=\"0\" width=\"55\" height=\"55\" style=\"fill:#8de5a1;stroke-width:2;stroke:rgb(255,255,255)\"/><rect x=\"165\" y=\"0\" width=\"55\" height=\"55\" style=\"fill:#ff9f9b;stroke-width:2;stroke:rgb(255,255,255)\"/><rect x=\"220\" y=\"0\" width=\"55\" height=\"55\" style=\"fill:#d0bbff;stroke-width:2;stroke:rgb(255,255,255)\"/><rect x=\"275\" y=\"0\" width=\"55\" height=\"55\" style=\"fill:#debb9b;stroke-width:2;stroke:rgb(255,255,255)\"/><rect x=\"330\" y=\"0\" width=\"55\" height=\"55\" style=\"fill:#fab0e4;stroke-width:2;stroke:rgb(255,255,255)\"/><rect x=\"385\" y=\"0\" width=\"55\" height=\"55\" style=\"fill:#cfcfcf;stroke-width:2;stroke:rgb(255,255,255)\"/><rect x=\"440\" y=\"0\" width=\"55\" height=\"55\" style=\"fill:#fffea3;stroke-width:2;stroke:rgb(255,255,255)\"/><rect x=\"495\" y=\"0\" width=\"55\" height=\"55\" style=\"fill:#b9f2f0;stroke-width:2;stroke:rgb(255,255,255)\"/></svg>"
      ],
      "text/plain": [
       "[(0.6313725490196078, 0.788235294117647, 0.9568627450980393),\n",
       " (1.0, 0.7058823529411765, 0.5098039215686274),\n",
       " (0.5529411764705883, 0.8980392156862745, 0.6313725490196078),\n",
       " (1.0, 0.6235294117647059, 0.6078431372549019),\n",
       " (0.8156862745098039, 0.7333333333333333, 1.0),\n",
       " (0.8705882352941177, 0.7333333333333333, 0.6078431372549019),\n",
       " (0.9803921568627451, 0.6901960784313725, 0.8941176470588236),\n",
       " (0.8117647058823529, 0.8117647058823529, 0.8117647058823529),\n",
       " (1.0, 0.996078431372549, 0.6392156862745098),\n",
       " (0.7254901960784313, 0.9490196078431372, 0.9411764705882353)]"
      ]
     },
     "execution_count": 250,
     "metadata": {},
     "output_type": "execute_result"
    }
   ],
   "source": [
    "c"
   ]
  },
  {
   "cell_type": "code",
   "execution_count": 270,
   "id": "5296a4c5",
   "metadata": {},
   "outputs": [],
   "source": [
    "i = 30\n",
    "\n",
    "n = 100"
   ]
  },
  {
   "cell_type": "code",
   "execution_count": 272,
   "id": "9f8463e5",
   "metadata": {},
   "outputs": [
    {
     "data": {
      "image/png": "[encoded data removed]",
      "text/plain": [
       "<Figure size 432x288 with 1 Axes>"
      ]
     },
     "metadata": {
      "needs_background": "light"
     },
     "output_type": "display_data"
    }
   ],
   "source": [
    "plt.figure()\n",
    "plt.scatter(df_a['1stFlrSF'][i:n], df_a.y_test[i:n], color=c[0], label=\"training samples\")\n",
    "plt.plot(df_a['1stFlrSF'][i:n], df_a.y_pred_tree[i:n], color=colors[1], label=\"n_estimators=1\", linewidth=0.2)\n",
    "plt.xlabel(\"data\")\n",
    "plt.ylabel(\"target\")\n",
    "plt.title(\"Boosted Decision Tree Regression\")\n",
    "plt.legend()\n",
    "plt.show()"
   ]
  },
  {
   "cell_type": "code",
   "execution_count": 273,
   "id": "cde9debe",
   "metadata": {},
   "outputs": [],
   "source": [
    "from sklearn.decomposition import PCA"
   ]
  },
  {
   "cell_type": "code",
   "execution_count": 275,
   "id": "bf4a6be2",
   "metadata": {},
   "outputs": [],
   "source": [
    "pca = PCA(n_components=1)"
   ]
  },
  {
   "cell_type": "code",
   "execution_count": 277,
   "id": "f448db8f",
   "metadata": {},
   "outputs": [],
   "source": [
    "x_train = pca.fit_transform(X_train)"
   ]
  },
  {
   "cell_type": "code",
   "execution_count": 278,
   "id": "85b4d454",
   "metadata": {},
   "outputs": [],
   "source": [
    "x_test = pca.transform(X_test)"
   ]
  },
  {
   "cell_type": "code",
   "execution_count": 280,
   "id": "032e480e",
   "metadata": {},
   "outputs": [
    {
     "data": {
      "text/plain": [
       "(438, 1)"
      ]
     },
     "execution_count": 280,
     "metadata": {},
     "output_type": "execute_result"
    }
   ],
   "source": [
    "x_test.shape"
   ]
  },
  {
   "cell_type": "code",
   "execution_count": 281,
   "id": "afe62f33",
   "metadata": {},
   "outputs": [
    {
     "data": {
      "text/plain": [
       "0      239000\n",
       "1      284000\n",
       "2      143000\n",
       "3      169000\n",
       "4      155000\n",
       "        ...  \n",
       "433    118400\n",
       "434    151000\n",
       "435    176000\n",
       "436    177500\n",
       "437    107500\n",
       "Name: SalePrice, Length: 438, dtype: int64"
      ]
     },
     "execution_count": 281,
     "metadata": {},
     "output_type": "execute_result"
    }
   ],
   "source": [
    "y_test"
   ]
  },
  {
   "cell_type": "code",
   "execution_count": 308,
   "id": "78260bdd",
   "metadata": {},
   "outputs": [],
   "source": [
    "df = pd.DataFrame(x, columns=['X'])"
   ]
  },
  {
   "cell_type": "code",
   "execution_count": 310,
   "id": "a8fc3e5d",
   "metadata": {},
   "outputs": [],
   "source": [
    "df['y_test'] = list(y_test)\n",
    "df['y_pred'] = list(y_pred)\n",
    "df['y_pred_tree'] = list(y_pred_tree)"
   ]
  },
  {
   "cell_type": "code",
   "execution_count": 318,
   "id": "2f06df66",
   "metadata": {},
   "outputs": [],
   "source": [
    "df.sort_values('X',inplace=True)"
   ]
  },
  {
   "cell_type": "code",
   "execution_count": 319,
   "id": "c1c2b9bf",
   "metadata": {},
   "outputs": [
    {
     "data": {
      "text/html": [
       "<div>\n",
       "<style scoped>\n",
       "    .dataframe tbody tr th:only-of-type {\n",
       "        vertical-align: middle;\n",
       "    }\n",
       "\n",
       "    .dataframe tbody tr th {\n",
       "        vertical-align: top;\n",
       "    }\n",
       "\n",
       "    .dataframe thead th {\n",
       "        text-align: right;\n",
       "    }\n",
       "</style>\n",
       "<table border=\"1\" class=\"dataframe\">\n",
       "  <thead>\n",
       "    <tr style=\"text-align: right;\">\n",
       "      <th></th>\n",
       "      <th>X</th>\n",
       "      <th>y_test</th>\n",
       "      <th>y_pred</th>\n",
       "      <th>y_pred_tree</th>\n",
       "    </tr>\n",
       "  </thead>\n",
       "  <tbody>\n",
       "    <tr>\n",
       "      <th>62</th>\n",
       "      <td>-5.257370</td>\n",
       "      <td>85500</td>\n",
       "      <td>284374.942759</td>\n",
       "      <td>103000.0</td>\n",
       "    </tr>\n",
       "    <tr>\n",
       "      <th>314</th>\n",
       "      <td>-5.247430</td>\n",
       "      <td>75500</td>\n",
       "      <td>127418.942759</td>\n",
       "      <td>81000.0</td>\n",
       "    </tr>\n",
       "    <tr>\n",
       "      <th>430</th>\n",
       "      <td>-5.075371</td>\n",
       "      <td>82500</td>\n",
       "      <td>103464.942759</td>\n",
       "      <td>72500.0</td>\n",
       "    </tr>\n",
       "    <tr>\n",
       "      <th>157</th>\n",
       "      <td>-5.056360</td>\n",
       "      <td>92000</td>\n",
       "      <td>156264.942759</td>\n",
       "      <td>110500.0</td>\n",
       "    </tr>\n",
       "    <tr>\n",
       "      <th>395</th>\n",
       "      <td>-4.833159</td>\n",
       "      <td>67000</td>\n",
       "      <td>362568.942759</td>\n",
       "      <td>58500.0</td>\n",
       "    </tr>\n",
       "    <tr>\n",
       "      <th>...</th>\n",
       "      <td>...</td>\n",
       "      <td>...</td>\n",
       "      <td>...</td>\n",
       "      <td>...</td>\n",
       "    </tr>\n",
       "    <tr>\n",
       "      <th>14</th>\n",
       "      <td>5.684855</td>\n",
       "      <td>381000</td>\n",
       "      <td>190464.942759</td>\n",
       "      <td>410000.0</td>\n",
       "    </tr>\n",
       "    <tr>\n",
       "      <th>136</th>\n",
       "      <td>6.281084</td>\n",
       "      <td>385000</td>\n",
       "      <td>318864.942759</td>\n",
       "      <td>465000.0</td>\n",
       "    </tr>\n",
       "    <tr>\n",
       "      <th>230</th>\n",
       "      <td>6.490471</td>\n",
       "      <td>555000</td>\n",
       "      <td>98272.942759</td>\n",
       "      <td>501837.0</td>\n",
       "    </tr>\n",
       "    <tr>\n",
       "      <th>153</th>\n",
       "      <td>9.175517</td>\n",
       "      <td>625000</td>\n",
       "      <td>175990.942759</td>\n",
       "      <td>755000.0</td>\n",
       "    </tr>\n",
       "    <tr>\n",
       "      <th>116</th>\n",
       "      <td>17.692478</td>\n",
       "      <td>160000</td>\n",
       "      <td>89672.942759</td>\n",
       "      <td>485000.0</td>\n",
       "    </tr>\n",
       "  </tbody>\n",
       "</table>\n",
       "<p>438 rows × 4 columns</p>\n",
       "</div>"
      ],
      "text/plain": [
       "             X  y_test         y_pred  y_pred_tree\n",
       "62   -5.257370   85500  284374.942759     103000.0\n",
       "314  -5.247430   75500  127418.942759      81000.0\n",
       "430  -5.075371   82500  103464.942759      72500.0\n",
       "157  -5.056360   92000  156264.942759     110500.0\n",
       "395  -4.833159   67000  362568.942759      58500.0\n",
       "..         ...     ...            ...          ...\n",
       "14    5.684855  381000  190464.942759     410000.0\n",
       "136   6.281084  385000  318864.942759     465000.0\n",
       "230   6.490471  555000   98272.942759     501837.0\n",
       "153   9.175517  625000  175990.942759     755000.0\n",
       "116  17.692478  160000   89672.942759     485000.0\n",
       "\n",
       "[438 rows x 4 columns]"
      ]
     },
     "execution_count": 319,
     "metadata": {},
     "output_type": "execute_result"
    }
   ],
   "source": [
    "df"
   ]
  },
  {
   "cell_type": "code",
   "execution_count": 338,
   "id": "7289307b",
   "metadata": {},
   "outputs": [
    {
     "data": {
      "image/png": "[encoded data removed]",
      "text/plain": [
       "<Figure size 432x288 with 1 Axes>"
      ]
     },
     "metadata": {
      "needs_background": "light"
     },
     "output_type": "display_data"
    }
   ],
   "source": [
    "i = 20\n",
    "f = 100\n",
    "plt.figure()\n",
    "plt.scatter(df.X[i:f], df.y_test[i:f], color=colors[0], label=\"training samples\")\n",
    "plt.scatter(df.X[i:f], df.y_pred_tree[i:f], color='orange', label=\"training samples\", alpha=0.5)\n",
    "# plt.plot(df.X[i:f], df.y_pred[i:f], color=colors[1], label=\"regrssão linear\", linewidth=1)\n",
    "plt.plot(df.X[i:f], df.y_pred_tree[i:f], color='black', label=\"Árvore\", linewidth=1)\n",
    "plt.xlabel(\"data\")\n",
    "plt.ylabel(\"target\")\n",
    "plt.title(\"Boosted Decision Tree Regression\")\n",
    "plt.legend()\n",
    "plt.show()"
   ]
  },
  {
   "cell_type": "code",
   "execution_count": 339,
   "id": "54e74694",
   "metadata": {},
   "outputs": [
    {
     "data": {
      "text/plain": [
       "['Solarize_Light2',\n",
       " '_classic_test_patch',\n",
       " 'bmh',\n",
       " 'classic',\n",
       " 'dark_background',\n",
       " 'fast',\n",
       " 'fivethirtyeight',\n",
       " 'ggplot',\n",
       " 'grayscale',\n",
       " 'seaborn',\n",
       " 'seaborn-bright',\n",
       " 'seaborn-colorblind',\n",
       " 'seaborn-dark',\n",
       " 'seaborn-dark-palette',\n",
       " 'seaborn-darkgrid',\n",
       " 'seaborn-deep',\n",
       " 'seaborn-muted',\n",
       " 'seaborn-notebook',\n",
       " 'seaborn-paper',\n",
       " 'seaborn-pastel',\n",
       " 'seaborn-poster',\n",
       " 'seaborn-talk',\n",
       " 'seaborn-ticks',\n",
       " 'seaborn-white',\n",
       " 'seaborn-whitegrid',\n",
       " 'tableau-colorblind10']"
      ]
     },
     "execution_count": 339,
     "metadata": {},
     "output_type": "execute_result"
    }
   ],
   "source": [
    "plt.style.available"
   ]
  },
  {
   "cell_type": "code",
   "execution_count": 302,
   "id": "4d6ad564",
   "metadata": {},
   "outputs": [],
   "source": [
    "x = []\n",
    "for i,v in enumerate(x_test):\n",
    "    x.append(x_test[i][0])"
   ]
  },
  {
   "cell_type": "code",
   "execution_count": 303,
   "id": "3404773d",
   "metadata": {},
   "outputs": [
    {
     "data": {
      "text/plain": [
       "[0.04773312213029587,\n",
       " 3.715226905134245,\n",
       " -0.7314991226029548,\n",
       " -0.2710505313760652,\n",
       " 0.03681831810384101,\n",
       " -4.1456763685395375,\n",
       " -3.44035615818008,\n",
       " 0.08201169900414429,\n",
       " -1.3061448144420087,\n",
       " -3.8413938687703446,\n",
       " -3.2260397924741024,\n",
       " -4.6818178381269755,\n",
       " 0.4824087190361531,\n",
       " 2.3065882356096385,\n",
       " 5.684855029870333,\n",
       " -2.1997666935564797,\n",
       " -0.20647911364410163,\n",
       " -0.4515538268596885,\n",
       " 0.9402661925841533,\n",
       " 2.5184444982707253,\n",
       " -2.339237977190242,\n",
       " 2.6773830118089426,\n",
       " 4.8777900106286785,\n",
       " -2.072043090095941,\n",
       " 1.277013024591611,\n",
       " -2.324109898578207,\n",
       " 1.835862283452864,\n",
       " -4.12884228307355,\n",
       " 0.5130225852738535,\n",
       " -2.772847535629169,\n",
       " -2.60421219715794,\n",
       " 1.4682643420933703,\n",
       " 4.751255722322318,\n",
       " 3.953935926327497,\n",
       " -1.4140965869454039,\n",
       " -0.21545833522256422,\n",
       " 0.9258954371827769,\n",
       " 4.137633234391084,\n",
       " 1.2792910004583617,\n",
       " -2.589322379766705,\n",
       " -2.8338158632986463,\n",
       " 1.2779083278197427,\n",
       " -3.5323445115820893,\n",
       " -1.045517325693158,\n",
       " -4.434272234824944,\n",
       " -1.4194179841122483,\n",
       " -2.0065845434999883,\n",
       " -1.9308968838523437,\n",
       " -1.7315410164385405,\n",
       " -1.038626564893845,\n",
       " -2.6204044819326593,\n",
       " -3.548573717167269,\n",
       " -2.23925018522782,\n",
       " 3.2077929973626547,\n",
       " -2.5172264725282183,\n",
       " -2.6205575252416025,\n",
       " 0.7549763763186675,\n",
       " 0.8238051190152209,\n",
       " 0.498005379221748,\n",
       " 5.08414247529856,\n",
       " 0.4777329285842566,\n",
       " -1.8337531081442096,\n",
       " -5.257369909488437,\n",
       " -0.5360125626855317,\n",
       " -2.0458198326921173,\n",
       " -0.5651632177742557,\n",
       " -0.3430565388790405,\n",
       " 2.590012252624215,\n",
       " -1.110569527631839,\n",
       " 1.938025918092382,\n",
       " -2.0804092017985565,\n",
       " 2.627759486575099,\n",
       " -0.09962825360087726,\n",
       " 3.901797775321638,\n",
       " -0.6198518210318035,\n",
       " 0.5394390031997298,\n",
       " 4.471339257414026,\n",
       " -3.104796688805239,\n",
       " -0.5885807485457027,\n",
       " 2.5329285073418615,\n",
       " -2.8937084064233387,\n",
       " -4.390729297366283,\n",
       " 0.945015455887136,\n",
       " 0.39155918328712813,\n",
       " 0.4969310662862486,\n",
       " 0.6960238547726975,\n",
       " -1.5428195321023468,\n",
       " -2.171293836399941,\n",
       " -2.4665884068636923,\n",
       " -1.3986254034197478,\n",
       " -0.33862103537584115,\n",
       " 0.9690212777133905,\n",
       " -0.5621261181499185,\n",
       " 0.22650225043126715,\n",
       " 3.110345918411211,\n",
       " -3.6290964606605347,\n",
       " -1.3718160980782081,\n",
       " -1.4036098632561804,\n",
       " -1.1361565944817906,\n",
       " 4.653058216122058,\n",
       " -2.2286548510290056,\n",
       " 1.6852151244008409,\n",
       " 0.5480840079644471,\n",
       " -2.696722117116741,\n",
       " -3.9106869984941914,\n",
       " -0.8434410110462434,\n",
       " -1.963451759890878,\n",
       " 1.488786963657934,\n",
       " 0.23813667065289987,\n",
       " 2.276823187655821,\n",
       " -0.11708048533782595,\n",
       " 0.45811192619217916,\n",
       " -4.313264790849536,\n",
       " 0.32553897752448824,\n",
       " -0.7987105518774291,\n",
       " -0.1105516545972427,\n",
       " 17.69247794964086,\n",
       " -0.49379516756874386,\n",
       " 0.37094193914076623,\n",
       " 0.88428153328942,\n",
       " -2.1020003238399343,\n",
       " 0.8135066763858478,\n",
       " -2.3958742160597373,\n",
       " -2.4614099730639563,\n",
       " 1.130506455351401,\n",
       " -1.7573873826464996,\n",
       " -2.718175269785247,\n",
       " 1.113888066811737,\n",
       " -0.8921699076941471,\n",
       " -0.4207137527298791,\n",
       " 5.196319902332029,\n",
       " -0.6767966758588371,\n",
       " 0.9872357167361773,\n",
       " -1.3469182802284776,\n",
       " 1.8905197350730159,\n",
       " -0.06713814475496921,\n",
       " 6.281083546183192,\n",
       " -2.0318086909106525,\n",
       " -0.8427764240992229,\n",
       " -2.0899875218114317,\n",
       " 1.0294029066760764,\n",
       " -2.9071955248675097,\n",
       " 1.5311238558714797,\n",
       " -1.75423844643335,\n",
       " -1.1245958330016725,\n",
       " -3.2373831728408824,\n",
       " -0.10713186069017833,\n",
       " 0.5026771926442246,\n",
       " -0.44916241580760574,\n",
       " 2.728755656316181,\n",
       " -1.227350706938629,\n",
       " -1.494141111129366,\n",
       " 4.623503175007835,\n",
       " 9.175516516820233,\n",
       " 2.4067711763449418,\n",
       " -3.6995334695422653,\n",
       " 1.366447744972121,\n",
       " -5.056359609251951,\n",
       " 0.8268148301249223,\n",
       " 3.627436616975243,\n",
       " -2.5671249733465795,\n",
       " -2.006960135189189,\n",
       " -4.412598671114574,\n",
       " 0.11495945265393075,\n",
       " 4.58141220250763,\n",
       " -0.09874251706312992,\n",
       " -2.4493416784914857,\n",
       " -2.0492099765562837,\n",
       " 0.12405163162768303,\n",
       " -3.0598790880379014,\n",
       " 3.9898076752805967,\n",
       " -3.020395067959166,\n",
       " -3.358275960370755,\n",
       " -0.11907383566210618,\n",
       " 1.351655150943233,\n",
       " 1.5356742946233688,\n",
       " -2.8652135378802344,\n",
       " 4.803799967671324,\n",
       " -3.563553123956043,\n",
       " -2.1607096679803033,\n",
       " -2.464282964208192,\n",
       " -3.244172267133586,\n",
       " -1.5956784745753114,\n",
       " 4.986960636970287,\n",
       " -1.8098083055280692,\n",
       " -2.2546484080283644,\n",
       " 5.090034858860356,\n",
       " 0.8390719587763749,\n",
       " 3.23173444145412,\n",
       " 0.9770618528783526,\n",
       " -3.135293768114971,\n",
       " 0.9184150820784494,\n",
       " 1.8174468024166976,\n",
       " 1.069450805104215,\n",
       " 0.9193084437142711,\n",
       " 1.2372823364614316,\n",
       " -2.7219120620656345,\n",
       " 1.759441052382758,\n",
       " 2.1712638385717278,\n",
       " -2.991997298405658,\n",
       " -1.6538269831202528,\n",
       " -1.8108093322515746,\n",
       " -1.8877264242442306,\n",
       " 2.306791544644174,\n",
       " -0.3534374525339606,\n",
       " -2.70712658534272,\n",
       " 1.816595630023625,\n",
       " -1.647246039805529,\n",
       " -1.195053332923592,\n",
       " 2.3442805140592196,\n",
       " -0.3246645211181639,\n",
       " -0.4121658812842476,\n",
       " -0.6335695606211703,\n",
       " -0.3429219711837147,\n",
       " -2.5175259491969695,\n",
       " 0.24341928404043534,\n",
       " -0.6172320736109598,\n",
       " -1.7632775984287823,\n",
       " -4.776311210248832,\n",
       " -1.078823437483074,\n",
       " 1.3928951281994015,\n",
       " 0.7677887518551489,\n",
       " -2.693537261219098,\n",
       " -0.6128613923541087,\n",
       " 2.396680521365637,\n",
       " -2.3032339782890783,\n",
       " -3.09058180596262,\n",
       " 0.4529169634805585,\n",
       " -3.6282255841538675,\n",
       " 4.80789582385236,\n",
       " 6.4904714684589635,\n",
       " -3.419858227037878,\n",
       " -2.6972804316955195,\n",
       " -0.026978348232100324,\n",
       " -1.4836344699376256,\n",
       " 2.471569595881577,\n",
       " -0.4718651409600836,\n",
       " -1.111268614959866,\n",
       " 2.3272664288014675,\n",
       " 2.2326663992745663,\n",
       " 0.11863567649366691,\n",
       " -1.225843258849145,\n",
       " 1.196685910475467,\n",
       " 0.8698328671662707,\n",
       " -3.9223103685912335,\n",
       " -1.2544025477078458,\n",
       " -1.4190611691527084,\n",
       " 4.839011569620964,\n",
       " -2.8273929218775553,\n",
       " 1.0529106183373762,\n",
       " 1.7028800869209797,\n",
       " -2.244922481721701,\n",
       " -1.1663313200775969,\n",
       " -1.7861203603542344,\n",
       " 3.6392813930350436,\n",
       " -0.8781045767140153,\n",
       " 1.284474701426953,\n",
       " 2.6642042157177284,\n",
       " -1.9851382009131062,\n",
       " 1.2907146013217359,\n",
       " 0.3752049350053322,\n",
       " -3.3475351926428214,\n",
       " 2.1295702199226634,\n",
       " -2.8998595917361385,\n",
       " 1.7130822455070343,\n",
       " 2.2122812873809,\n",
       " -1.813733858990158,\n",
       " 3.177670417172157,\n",
       " 1.1628757466604802,\n",
       " 1.0096002507528792,\n",
       " 1.9733357286309525,\n",
       " 2.003545674025094,\n",
       " -0.13161261405371094,\n",
       " 4.656730033479369,\n",
       " 1.2724745353238858,\n",
       " -0.8498203224204915,\n",
       " 4.212674646565091,\n",
       " -0.6799513981513486,\n",
       " 3.1268681772511266,\n",
       " -2.6189187900217985,\n",
       " -1.7534240129821672,\n",
       " 0.41474971381857,\n",
       " 4.44896596790935,\n",
       " -2.4867764583404037,\n",
       " 1.707586911146222,\n",
       " 5.102624246998854,\n",
       " 3.242153364698263,\n",
       " 4.5850058249526855,\n",
       " -0.1246620675209004,\n",
       " 1.2089139005202272,\n",
       " 2.2554082909582043,\n",
       " -1.2727917161232927,\n",
       " -3.7251403833215537,\n",
       " 1.3410066003074474,\n",
       " -0.46070834827589224,\n",
       " 0.6346013901404267,\n",
       " 1.5384592581183303,\n",
       " -4.660813399322487,\n",
       " -2.6222332205826535,\n",
       " -0.9990365267561079,\n",
       " -0.48606097328005965,\n",
       " -1.1633750934110811,\n",
       " 1.2841373832034504,\n",
       " -1.3400923878802709,\n",
       " -2.5302011441083807,\n",
       " -2.2405484122869335,\n",
       " -2.496436791459328,\n",
       " -2.5426178428846806,\n",
       " 1.5183402775411285,\n",
       " 5.568242617861602,\n",
       " -3.285569554606513,\n",
       " 2.3692531776738406,\n",
       " 1.9950049285562192,\n",
       " 2.315109204480054,\n",
       " -5.247430058951237,\n",
       " 4.659391645833196,\n",
       " 0.19461799804494123,\n",
       " -2.121298838733558,\n",
       " 1.8925789707722478,\n",
       " -2.0619206121526936,\n",
       " 0.9593331227081916,\n",
       " -3.859111425871478,\n",
       " -4.447703295690127,\n",
       " 2.277982780026353,\n",
       " -0.017866691921285954,\n",
       " -4.058945655832209,\n",
       " -0.8563102243624212,\n",
       " 1.486409620155228,\n",
       " -0.5271171003720094,\n",
       " 0.6978019378106256,\n",
       " 1.5935834715738408,\n",
       " -2.642557985467885,\n",
       " 1.4622564944363037,\n",
       " 0.4363084206410569,\n",
       " -1.8822078895109065,\n",
       " -1.9484284281636748,\n",
       " 1.7666877126023481,\n",
       " -3.338565726025466,\n",
       " 3.091107272779608,\n",
       " -1.0918549104370183,\n",
       " -1.2643488989436855,\n",
       " 1.2241934480464556,\n",
       " 3.074972030590852,\n",
       " 2.5424484544517223,\n",
       " -1.622666040942378,\n",
       " -4.008771667612398,\n",
       " 1.2205965612299374,\n",
       " -2.1333519520639257,\n",
       " 1.3811509551201644,\n",
       " 4.3697676591729095,\n",
       " 1.3284066666576264,\n",
       " 3.6266959521131694,\n",
       " -0.5281219006377044,\n",
       " 0.5339998598081928,\n",
       " -0.7213738634372348,\n",
       " 2.68919018340596,\n",
       " 0.945413293457215,\n",
       " -3.0424197433991664,\n",
       " 0.9671959937861411,\n",
       " -1.907053953115099,\n",
       " 1.6494994663474427,\n",
       " -0.47317373321347606,\n",
       " 0.553705747062182,\n",
       " -1.39567804084307,\n",
       " 0.46256906067849235,\n",
       " 0.07270532950455835,\n",
       " -3.69630388476193,\n",
       " -0.4387847218272153,\n",
       " 3.0213293006158346,\n",
       " 2.7542091390560564,\n",
       " -2.8760130927917684,\n",
       " -3.8870584658846936,\n",
       " 1.3814011306530296,\n",
       " 0.24712848972993223,\n",
       " 1.701821770237849,\n",
       " 1.7627142555761495,\n",
       " 0.6235327687427527,\n",
       " -1.8499880163919393,\n",
       " 1.857814837331886,\n",
       " 2.280548467031663,\n",
       " 2.7171694748268,\n",
       " -2.4901430092935852,\n",
       " -0.34276281802342534,\n",
       " -0.4234166042276632,\n",
       " -0.7702458631543336,\n",
       " 1.2554104052311577,\n",
       " -2.8838063473646023,\n",
       " 4.627623422146543,\n",
       " -2.6398370787440215,\n",
       " 4.866058821128303,\n",
       " -2.5317414813920647,\n",
       " 1.0562883780651906,\n",
       " -0.5230938490520238,\n",
       " -1.6732681301108951,\n",
       " -2.445449944037453,\n",
       " -4.833158507851454,\n",
       " 2.047648731380229,\n",
       " 1.199085008867772,\n",
       " 4.575773157736222,\n",
       " 3.0407892734267437,\n",
       " -2.7694035479317853,\n",
       " 0.8561266246685585,\n",
       " -2.8751700731082948,\n",
       " -3.652747157581929,\n",
       " 1.6240319621856456,\n",
       " -0.09684971241663344,\n",
       " 4.719831106509951,\n",
       " 1.4047842220575955,\n",
       " 1.8390221335101136,\n",
       " 1.1087444270979627,\n",
       " -1.0584313357012987,\n",
       " -2.7066084703702247,\n",
       " 3.87528797331815,\n",
       " 3.8284562840186513,\n",
       " -2.104966117679206,\n",
       " -1.7028926784991498,\n",
       " -3.414070851865084,\n",
       " 3.4542336743702964,\n",
       " 0.276013984854328,\n",
       " 0.2318955068039559,\n",
       " 3.3772484913219594,\n",
       " 2.865526162739573,\n",
       " -1.2880852123215092,\n",
       " -1.0573410434035813,\n",
       " 4.6222089964071245,\n",
       " 3.5516173785849623,\n",
       " 1.9639387916049376,\n",
       " 1.1641209679731772,\n",
       " 1.7192695520961683,\n",
       " -1.6075977637604857,\n",
       " -5.075371441942454,\n",
       " 0.5885121938195945,\n",
       " -1.0703064124184776,\n",
       " -3.3585903813931406,\n",
       " -0.39167687762499487,\n",
       " 1.146941443129395,\n",
       " 0.2638738146136452,\n",
       " -3.4709208629373665]"
      ]
     },
     "execution_count": 303,
     "metadata": {},
     "output_type": "execute_result"
    }
   ],
   "source": [
    "x"
   ]
  },
  {
   "cell_type": "code",
   "execution_count": 299,
   "id": "0f6d9e7d",
   "metadata": {},
   "outputs": [
    {
     "data": {
      "text/plain": [
       "-0.7314991226029548"
      ]
     },
     "execution_count": 299,
     "metadata": {},
     "output_type": "execute_result"
    }
   ],
   "source": [
    "x_test[2][0]"
   ]
  },
  {
   "cell_type": "code",
   "execution_count": 186,
   "id": "b608f940",
   "metadata": {},
   "outputs": [
    {
     "data": {
      "text/plain": [
       "array([-0.63607833,  2.26875704,  0.74997869, -2.24178219, -1.41614233,\n",
       "       -1.20121678, -1.6893685 , -0.57441047, -0.97301818, -0.28865283,\n",
       "        0.73975106, -0.37265436, -0.69510419, -0.79516323, -0.12024172,\n",
       "       -1.18306346, -0.81996437, -0.24106104, -1.02604084, -0.76162067,\n",
       "       -1.06246453, -0.21145358, -0.31868327, -0.95122649,  0.64594349,\n",
       "        1.65030694,  3.62613593, -0.75217584, -0.40252049, -0.3593249 ,\n",
       "       -0.11633929, -0.27020835, -0.06869175,  1.04145124,  0.620891  ,\n",
       "        0.13877749])"
      ]
     },
     "execution_count": 186,
     "metadata": {},
     "output_type": "execute_result"
    }
   ],
   "source": [
    "plt.figure()\n",
    "plt.scatter(df_a['1stFlrSF'][i:n], df_a.y_test[i:n], color=c[0], label=\"training samples\")\n",
    "plt.plot(df_a['1stFlrSF'][i:n], df_a.y_pred_tree[i:n], color=colors[1], label=\"n_estimators=1\", linewidth=0.2)\n",
    "plt.xlabel(\"data\")\n",
    "plt.ylabel(\"target\")\n",
    "plt.title(\"Boosted Decision Tree Regression\")\n",
    "plt.legend()\n",
    "plt.show()"
   ]
  },
  {
   "cell_type": "code",
   "execution_count": 191,
   "id": "f264fa66",
   "metadata": {},
   "outputs": [
    {
     "data": {
      "text/plain": [
       "pandas.core.series.Series"
      ]
     },
     "execution_count": 191,
     "metadata": {},
     "output_type": "execute_result"
    }
   ],
   "source": [
    "type(y_test)"
   ]
  },
  {
   "cell_type": "code",
   "execution_count": 192,
   "id": "390ad2bf",
   "metadata": {},
   "outputs": [],
   "source": [
    "# df_a[first_important] = X_test[12]\n",
    "df_a['y_test'] = y_test"
   ]
  },
  {
   "cell_type": "code",
   "execution_count": 194,
   "id": "68a03230",
   "metadata": {},
   "outputs": [],
   "source": [
    "df_a.drop('y_test', axis=1, inplace=True)"
   ]
  },
  {
   "cell_type": "code",
   "execution_count": 204,
   "id": "4aaca4a1",
   "metadata": {},
   "outputs": [
    {
     "name": "stdout",
     "output_type": "stream",
     "text": [
      "(36,)\n",
      "(438,)\n",
      "(438,)\n"
     ]
    }
   ],
   "source": [
    "print(X_test[12].shape)\n",
    "print(y_pred_tree.shape)\n",
    "print(y_test.shape)"
   ]
  },
  {
   "cell_type": "code",
   "execution_count": 199,
   "id": "f62ac0bf",
   "metadata": {},
   "outputs": [
    {
     "data": {
      "text/plain": [
       "0    -0.636078\n",
       "1     2.268757\n",
       "2     0.749979\n",
       "3    -2.241782\n",
       "4    -1.416142\n",
       "5    -1.201217\n",
       "6    -1.689368\n",
       "7    -0.574410\n",
       "8    -0.973018\n",
       "9    -0.288653\n",
       "10    0.739751\n",
       "11   -0.372654\n",
       "12   -0.695104\n",
       "13   -0.795163\n",
       "14   -0.120242\n",
       "15   -1.183063\n",
       "16   -0.819964\n",
       "17   -0.241061\n",
       "18   -1.026041\n",
       "19   -0.761621\n",
       "20   -1.062465\n",
       "21   -0.211454\n",
       "22   -0.318683\n",
       "23   -0.951226\n",
       "24    0.645943\n",
       "25    1.650307\n",
       "26    3.626136\n",
       "27   -0.752176\n",
       "28   -0.402520\n",
       "29   -0.359325\n",
       "30   -0.116339\n",
       "31   -0.270208\n",
       "32   -0.068692\n",
       "33    1.041451\n",
       "34    0.620891\n",
       "35    0.138777\n",
       "dtype: float64"
      ]
     },
     "execution_count": 199,
     "metadata": {},
     "output_type": "execute_result"
    }
   ],
   "source": [
    "pd.Series(X_test[12])"
   ]
  },
  {
   "cell_type": "code",
   "execution_count": null,
   "id": "7f7ed471",
   "metadata": {},
   "outputs": [],
   "source": []
  }
 ],
 "metadata": {
  "kernelspec": {
   "display_name": "Python 3 (ipykernel)",
   "language": "python",
   "name": "python3"
  },
  "language_info": {
   "codemirror_mode": {
    "name": "ipython",
    "version": 3
   },
   "file_extension": ".py",
   "mimetype": "text/x-python",
   "name": "python",
   "nbconvert_exporter": "python",
   "pygments_lexer": "ipython3",
   "version": "3.9.7"
  }
 },
 "nbformat": 4,
 "nbformat_minor": 5
}
